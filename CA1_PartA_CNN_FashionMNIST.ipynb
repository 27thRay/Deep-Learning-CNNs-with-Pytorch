{
 "cells": [
  {
   "cell_type": "markdown",
   "id": "d1190098",
   "metadata": {
    "id": "d1190098"
   },
   "source": [
    "## 1. Importing Libraries"
   ]
  },
  {
   "cell_type": "code",
   "execution_count": 8,
   "id": "4ffe45ff",
   "metadata": {},
   "outputs": [
    {
     "data": {
      "text/plain": [
       "0"
      ]
     },
     "execution_count": 8,
     "metadata": {},
     "output_type": "execute_result"
    }
   ],
   "source": [
    "#Export as html\n",
    "os.system('jupyter nbconvert --to html CA1_Part_A_CNN_with_PyTorch_92_Final.ipynb')"
   ]
  },
  {
   "cell_type": "code",
   "execution_count": 6,
   "id": "c09c54d7",
   "metadata": {
    "id": "c09c54d7"
   },
   "outputs": [],
   "source": [
    "#Prevent duplicate libraries\n",
    "import os\n",
    "os.environ[\"KMP_DUPLICATE_LIB_OK\"]=\"TRUE\""
   ]
  },
  {
   "cell_type": "code",
   "execution_count": 2,
   "id": "g5Phpnev3_Zy",
   "metadata": {
    "colab": {
     "base_uri": "https://localhost:8080/",
     "height": 36
    },
    "id": "g5Phpnev3_Zy",
    "outputId": "a2ec4c2b-b1dd-47b9-bfd8-13e86906f662"
   },
   "outputs": [
    {
     "data": {
      "application/vnd.google.colaboratory.intrinsic+json": {
       "type": "string"
      },
      "text/plain": [
       "'/device:GPU:0'"
      ]
     },
     "execution_count": 2,
     "metadata": {},
     "output_type": "execute_result"
    }
   ],
   "source": [
    "#Checking for GPU\n",
    "import tensorflow as tf\n",
    "tf.test.gpu_device_name()"
   ]
  },
  {
   "cell_type": "code",
   "execution_count": 3,
   "id": "aGF4O_On4HDk",
   "metadata": {
    "colab": {
     "base_uri": "https://localhost:8080/"
    },
    "id": "aGF4O_On4HDk",
    "outputId": "2da5421d-5c76-4900-9ff3-032d7a1b280b"
   },
   "outputs": [
    {
     "data": {
      "text/plain": [
       "[name: \"/device:CPU:0\"\n",
       " device_type: \"CPU\"\n",
       " memory_limit: 268435456\n",
       " locality {\n",
       " }\n",
       " incarnation: 15380968564692914829\n",
       " xla_global_id: -1, name: \"/device:GPU:0\"\n",
       " device_type: \"GPU\"\n",
       " memory_limit: 14415560704\n",
       " locality {\n",
       "   bus_id: 1\n",
       "   links {\n",
       "   }\n",
       " }\n",
       " incarnation: 11362561591970741802\n",
       " physical_device_desc: \"device: 0, name: Tesla T4, pci bus id: 0000:00:04.0, compute capability: 7.5\"\n",
       " xla_global_id: 416903419]"
      ]
     },
     "execution_count": 3,
     "metadata": {},
     "output_type": "execute_result"
    }
   ],
   "source": [
    "#Check CPU and GPU\n",
    "from tensorflow.python.client import device_lib\n",
    "device_lib.list_local_devices()"
   ]
  },
  {
   "cell_type": "code",
   "execution_count": 4,
   "id": "aac5a988",
   "metadata": {
    "id": "aac5a988"
   },
   "outputs": [],
   "source": [
    "#Importing libraries\n",
    "import matplotlib.pyplot as plt\n",
    "import numpy as np\n",
    "import torch\n",
    "import torch.nn as nn\n",
    "import torch.nn.functional as F\n",
    "import torchvision\n",
    "from matplotlib.cm import get_cmap\n",
    "from torch.utils.data import TensorDataset, DataLoader, SubsetRandomSampler\n",
    "from torchvision import datasets\n",
    "from torchvision import transforms\n",
    "from torch import Tensor\n",
    "from typing import Optional, List, Dict, Tuple\n",
    "from torchvision.transforms import InterpolationMode\n",
    "import torch.optim as optim\n",
    "import time\n",
    "from torchsummary import summary"
   ]
  },
  {
   "cell_type": "code",
   "execution_count": 5,
   "id": "2326a241",
   "metadata": {
    "colab": {
     "base_uri": "https://localhost:8080/"
    },
    "id": "2326a241",
    "outputId": "1676fbd7-cdb4-4a98-b74a-df68db45529d"
   },
   "outputs": [
    {
     "name": "stdout",
     "output_type": "stream",
     "text": [
      "Train on gpu: True\n",
      "1 gpus detected.\n"
     ]
    }
   ],
   "source": [
    "#Environment setup for device and gpu\n",
    "from torch import cuda, optim\n",
    "train_on_gpu = cuda.is_available()\n",
    "print(f'Train on gpu: {train_on_gpu}')\n",
    "\n",
    "device = torch.device(\"cuda:0\" if train_on_gpu else \"cpu\")\n",
    "\n",
    "multi_gpu = False\n",
    "if train_on_gpu:\n",
    "    gpu_count = cuda.device_count()\n",
    "    print(f'{gpu_count} gpus detected.')\n",
    "    if gpu_count > 1:\n",
    "        multi_gpu = True\n",
    "    else:\n",
    "        multi_gpu = False"
   ]
  },
  {
   "cell_type": "markdown",
   "id": "05023bea",
   "metadata": {
    "id": "05023bea"
   },
   "source": [
    "## 2. Visualizing Data"
   ]
  },
  {
   "cell_type": "code",
   "execution_count": 6,
   "id": "11d8d485",
   "metadata": {
    "id": "11d8d485"
   },
   "outputs": [],
   "source": [
    "# Set random seed to be constant\n",
    "torch.manual_seed(1)\n",
    "np.random.seed(1)"
   ]
  },
  {
   "cell_type": "code",
   "execution_count": 7,
   "id": "d5aeb4c4",
   "metadata": {
    "id": "d5aeb4c4"
   },
   "outputs": [],
   "source": [
    "cuda = False\n",
    "batch_size = 96\n",
    "#To prevent overloading, decently small batch size of 96\n",
    "\n",
    "kwargs = {'num_workers': 1, 'pin_memory': True} if cuda else {}"
   ]
  },
  {
   "cell_type": "code",
   "execution_count": 8,
   "id": "b6b50c9c",
   "metadata": {
    "colab": {
     "base_uri": "https://localhost:8080/",
     "height": 440,
     "referenced_widgets": [
      "615097d78a2040928380e7c171bb978b",
      "966f4b998337470596aa45295642b0ab",
      "3f7f9fd646f44a9baafb656f04826a19",
      "454e749c5153444a91283ef6e9d62d38",
      "db20d32173424277939f262db136c526",
      "c1bbc1d5f0c6439e95ef9382f4208c48",
      "553fd6efd69b44d3aeb3cf5cc33980cb",
      "9caca522675a4186989f803b522b9086",
      "2507d219dece4e75aad52e0476ecc0da",
      "3463fc67df4241e4b3f9d0ef9b1d2a4d",
      "b5ca78ceb6eb4db6b879d59b655f6d43",
      "67c345183abe4160b5f9c7211eb05935",
      "a16f0032afe841e591d629e92791db70",
      "6e597e539fa84ccc9a09063a87eb7c0f",
      "1707b4c325714a1388b5f9863a0e4e2e",
      "40ad30f140e84d678464a886ca1d4d78",
      "6df629af01134a3da8e85250d506e5f0",
      "1eca25210eb74973b3ee6270cb288351",
      "888ff945634647479c010f45dd853921",
      "e30ebb37a5fe4fd7bfa93b93656c332a",
      "433838841deb4e6e80389fb33b77a2d0",
      "cedfd655e1604135ac3a2b3a48b9f0d9",
      "113566d609894b8b985e0aca84f15146",
      "590fb6155b8342b7ad10b5aed3ff8418",
      "f8b62f8a9acb4e7eac2ebe93f2b1cc07",
      "5b2785d3c8184b4884b109e754b9c884",
      "da5c90fc1f784663bca5fa2b3f6c5633",
      "1aaad9a2d60f4a28a9af430e7ee0044b",
      "c07ac2aa349a40368a8aa7a8abc02928",
      "a2ed1121a18b4934b2e58a5220972df8",
      "4c710df4535745f3a2e06b7306616f11",
      "d1e6a702ac7f4814b6f84f6c775e82f0",
      "01ebe985fa624b16a8536f087b32140a",
      "1f873eb512dd4788aaabafac462970c5",
      "c823dafa387741ee907356295a1ea78d",
      "798ce7f775a64a2cb5f784feff3aa516",
      "ebd68fccb5c64eb1bd26da0ffb223d37",
      "29ba602a709b4d6a81fb539f41654e4b",
      "d7c4f7c5bbb64218bda95f63bfee8c89",
      "aa66b24600924e47b3771672256b8a16",
      "7c3e7accb1114eee946af1200a6b7caf",
      "0102129709034bdb8e85ea61a7961293",
      "3a311447a7b8495887743a19467150d5",
      "923cbcd80b334a78857b4cf6dedbad51"
     ]
    },
    "id": "b6b50c9c",
    "outputId": "973ca448-b0ad-45ae-f1de-d4af7350171a",
    "scrolled": false
   },
   "outputs": [
    {
     "name": "stdout",
     "output_type": "stream",
     "text": [
      "Downloading http://fashion-mnist.s3-website.eu-central-1.amazonaws.com/train-images-idx3-ubyte.gz\n",
      "Downloading http://fashion-mnist.s3-website.eu-central-1.amazonaws.com/train-images-idx3-ubyte.gz to ./data/FashionMNIST/raw/train-images-idx3-ubyte.gz\n"
     ]
    },
    {
     "data": {
      "application/vnd.jupyter.widget-view+json": {
       "model_id": "615097d78a2040928380e7c171bb978b",
       "version_major": 2,
       "version_minor": 0
      },
      "text/plain": [
       "  0%|          | 0/26421880 [00:00<?, ?it/s]"
      ]
     },
     "metadata": {},
     "output_type": "display_data"
    },
    {
     "name": "stdout",
     "output_type": "stream",
     "text": [
      "Extracting ./data/FashionMNIST/raw/train-images-idx3-ubyte.gz to ./data/FashionMNIST/raw\n",
      "\n",
      "Downloading http://fashion-mnist.s3-website.eu-central-1.amazonaws.com/train-labels-idx1-ubyte.gz\n",
      "Downloading http://fashion-mnist.s3-website.eu-central-1.amazonaws.com/train-labels-idx1-ubyte.gz to ./data/FashionMNIST/raw/train-labels-idx1-ubyte.gz\n"
     ]
    },
    {
     "data": {
      "application/vnd.jupyter.widget-view+json": {
       "model_id": "67c345183abe4160b5f9c7211eb05935",
       "version_major": 2,
       "version_minor": 0
      },
      "text/plain": [
       "  0%|          | 0/29515 [00:00<?, ?it/s]"
      ]
     },
     "metadata": {},
     "output_type": "display_data"
    },
    {
     "name": "stdout",
     "output_type": "stream",
     "text": [
      "Extracting ./data/FashionMNIST/raw/train-labels-idx1-ubyte.gz to ./data/FashionMNIST/raw\n",
      "\n",
      "Downloading http://fashion-mnist.s3-website.eu-central-1.amazonaws.com/t10k-images-idx3-ubyte.gz\n",
      "Downloading http://fashion-mnist.s3-website.eu-central-1.amazonaws.com/t10k-images-idx3-ubyte.gz to ./data/FashionMNIST/raw/t10k-images-idx3-ubyte.gz\n"
     ]
    },
    {
     "data": {
      "application/vnd.jupyter.widget-view+json": {
       "model_id": "113566d609894b8b985e0aca84f15146",
       "version_major": 2,
       "version_minor": 0
      },
      "text/plain": [
       "  0%|          | 0/4422102 [00:00<?, ?it/s]"
      ]
     },
     "metadata": {},
     "output_type": "display_data"
    },
    {
     "name": "stdout",
     "output_type": "stream",
     "text": [
      "Extracting ./data/FashionMNIST/raw/t10k-images-idx3-ubyte.gz to ./data/FashionMNIST/raw\n",
      "\n",
      "Downloading http://fashion-mnist.s3-website.eu-central-1.amazonaws.com/t10k-labels-idx1-ubyte.gz\n",
      "Downloading http://fashion-mnist.s3-website.eu-central-1.amazonaws.com/t10k-labels-idx1-ubyte.gz to ./data/FashionMNIST/raw/t10k-labels-idx1-ubyte.gz\n"
     ]
    },
    {
     "data": {
      "application/vnd.jupyter.widget-view+json": {
       "model_id": "1f873eb512dd4788aaabafac462970c5",
       "version_major": 2,
       "version_minor": 0
      },
      "text/plain": [
       "  0%|          | 0/5148 [00:00<?, ?it/s]"
      ]
     },
     "metadata": {},
     "output_type": "display_data"
    },
    {
     "name": "stdout",
     "output_type": "stream",
     "text": [
      "Extracting ./data/FashionMNIST/raw/t10k-labels-idx1-ubyte.gz to ./data/FashionMNIST/raw\n",
      "\n"
     ]
    }
   ],
   "source": [
    "#Importing only training data to calculate mean and std\n",
    "train_data = datasets.FashionMNIST(root='./data', train=True, download=True, transform=transforms.Compose([transforms.ToTensor(), ]))\n",
    "\n",
    "train_loader = DataLoader(train_data, batch_size=batch_size, shuffle=False, **kwargs)"
   ]
  },
  {
   "cell_type": "code",
   "execution_count": 9,
   "id": "8e8ade19",
   "metadata": {
    "id": "8e8ade19"
   },
   "outputs": [],
   "source": [
    "#calculate mean and std of the train images for normalizing\n",
    "n_samples_seen = 0.\n",
    "mean = 0\n",
    "std = 0\n",
    "for train_batch, train_target in train_loader:\n",
    "    batch_size = train_batch.shape[0]\n",
    "    train_batch = train_batch.view(batch_size, -1)\n",
    "    this_mean = torch.mean(train_batch, dim=1)\n",
    "    this_std = torch.sqrt(\n",
    "        torch.mean((train_batch - this_mean[:, None]) ** 2, dim=1))\n",
    "    mean += torch.sum(this_mean, dim=0)\n",
    "    std += torch.sum(this_std, dim=0)\n",
    "    n_samples_seen += batch_size\n",
    "\n",
    "mean /= n_samples_seen\n",
    "std /= n_samples_seen"
   ]
  },
  {
   "cell_type": "code",
   "execution_count": 10,
   "id": "5ebf2f92",
   "metadata": {
    "colab": {
     "base_uri": "https://localhost:8080/"
    },
    "id": "5ebf2f92",
    "outputId": "a185ffb3-1249-407d-90c0-43e387aa4f5c"
   },
   "outputs": [
    {
     "name": "stdout",
     "output_type": "stream",
     "text": [
      "tensor(0.2860) tensor(0.3202)\n"
     ]
    }
   ],
   "source": [
    "print(mean, std)"
   ]
  },
  {
   "cell_type": "code",
   "execution_count": 11,
   "id": "5c793378",
   "metadata": {
    "id": "5c793378"
   },
   "outputs": [],
   "source": [
    "#Data augmentation to train the model with Randomly augmented images to improve training performance\n",
    "#https://pytorch.org/vision/stable/_modules/torchvision/transforms/autoaugment.html#RandAugment\n",
    "#Single channel taken from source code but changes for one channel grescale images\n",
    "class OneChannelAugment(transforms.autoaugment.RandAugment):\n",
    "    def __init__(   self, \n",
    "                    num_ops: int = 2, \n",
    "                    magnitude: int = 9, \n",
    "                    num_magnitude_bins: int = 31, \n",
    "                    is_single_channel: bool = True, \n",
    "                    interpolation: InterpolationMode = InterpolationMode.NEAREST, \n",
    "                    fill: Optional[List[float]] = None\n",
    "                ) -> None:\n",
    "        self.is_single_channel = is_single_channel\n",
    "        super().__init__(num_ops=num_ops, magnitude=magnitude, num_magnitude_bins=num_magnitude_bins, interpolation=interpolation, fill=fill)\n",
    "    \n",
    "    def _augmentation_space(self, num_bins: int, image_size: List[int]) -> Dict[str, Tuple[Tensor, bool]]:\n",
    "        if self.is_single_channel:\n",
    "            return {\n",
    "                #For greyscale\n",
    "                \"Identity\": (torch.tensor(0.0), False),\n",
    "                \"ShearX\": (torch.linspace(0.0, 0.3, num_bins), True),\n",
    "                \"ShearY\": (torch.linspace(0.0, 0.3, num_bins), True),\n",
    "                \"TranslateX\": (torch.linspace(0.0, 150.0 / 331.0 * image_size[0], num_bins), True),\n",
    "                \"TranslateY\": (torch.linspace(0.0, 150.0 / 331.0 * image_size[1], num_bins), True),\n",
    "                \"Rotate\": (torch.linspace(0.0, 30.0, num_bins), True),\n",
    "                \"Brightness\": (torch.linspace(0.0, 0.9, num_bins), True),\n",
    "            }\n",
    "        else:\n",
    "            return {\n",
    "                #For RGB images\n",
    "                \"Identity\": (torch.tensor(0.0), False),\n",
    "                \"ShearX\": (torch.linspace(0.0, 0.3, num_bins), True),\n",
    "                \"ShearY\": (torch.linspace(0.0, 0.3, num_bins), True),\n",
    "                \"TranslateX\": (torch.linspace(0.0, 150.0 / 331.0 * image_size[0], num_bins), True),\n",
    "                \"TranslateY\": (torch.linspace(0.0, 150.0 / 331.0 * image_size[1], num_bins), True),\n",
    "                \"Rotate\": (torch.linspace(0.0, 30.0, num_bins), True),\n",
    "                \"Brightness\": (torch.linspace(0.0, 0.9, num_bins), True),\n",
    "                \"Color\": (torch.linspace(0.0, 0.9, num_bins), True),\n",
    "                \"Contrast\": (torch.linspace(0.0, 0.9, num_bins), True),\n",
    "                \"Sharpness\": (torch.linspace(0.0, 0.9, num_bins), True),\n",
    "                \"Posterize\": (8 - (torch.arange(num_bins) / ((num_bins - 1) / 4)).round().int(), False),\n",
    "                \"Solarize\": (torch.linspace(255.0, 0.0, num_bins), False),\n",
    "                \"AutoContrast\": (torch.tensor(0.0), False),\n",
    "                \"Equalize\": (torch.tensor(0.0), False),\n",
    "            }\n",
    "                "
   ]
  },
  {
   "cell_type": "code",
   "execution_count": 12,
   "id": "e43a6319",
   "metadata": {
    "id": "e43a6319"
   },
   "outputs": [],
   "source": [
    "#Augmenting images here\n",
    "mean=0.2860\n",
    "std=0.3202\n",
    "\n",
    "transforms_train = transforms.Compose([\n",
    "    transforms.Resize((80,80)),#Resizing images\n",
    "    OneChannelAugment(magnitude = 20),#Calling image augmentation\n",
    "    transforms.ToTensor(), \n",
    "    transforms.Normalize(mean, std),#Normalizing using values calculated above\n",
    "])\n",
    "\n",
    "transforms_test = transforms.Compose([\n",
    "    transforms.Resize((80,80)),\n",
    "    transforms.ToTensor(), \n",
    "    transforms.Normalize(mean, std),\n",
    "])"
   ]
  },
  {
   "cell_type": "code",
   "execution_count": 13,
   "id": "8373b1c8",
   "metadata": {
    "id": "8373b1c8"
   },
   "outputs": [],
   "source": [
    "#Re-download both training and testing data with further transform, normalize, augment and size\n",
    "train_data = datasets.FashionMNIST(\n",
    "                            root='./data', \n",
    "                            train=True, \n",
    "                            download=False,\n",
    "                            transform = transforms_train\n",
    "                        )\n",
    "test_data = datasets.FashionMNIST(\n",
    "                            root='./data', \n",
    "                            train=False, \n",
    "                            download=True, \n",
    "                            transform = transforms_test\n",
    "                        )"
   ]
  },
  {
   "cell_type": "code",
   "execution_count": 14,
   "id": "2bcd53de",
   "metadata": {
    "colab": {
     "base_uri": "https://localhost:8080/"
    },
    "id": "2bcd53de",
    "outputId": "6037c0bc-492f-4595-fc4c-27535f1a998b"
   },
   "outputs": [
    {
     "name": "stdout",
     "output_type": "stream",
     "text": [
      "96\n"
     ]
    }
   ],
   "source": [
    "print(batch_size)"
   ]
  },
  {
   "cell_type": "code",
   "execution_count": 15,
   "id": "cc77ef28",
   "metadata": {
    "colab": {
     "base_uri": "https://localhost:8080/"
    },
    "id": "cc77ef28",
    "outputId": "d6fe56c3-6ec8-4530-9248-b02088f6b8f3",
    "scrolled": true
   },
   "outputs": [
    {
     "data": {
      "text/plain": [
       "Compose(\n",
       "    Resize(size=(80, 80), interpolation=bilinear, max_size=None, antialias=None)\n",
       "    ToTensor()\n",
       "    Normalize(mean=0.286, std=0.3202)\n",
       ")"
      ]
     },
     "execution_count": 15,
     "metadata": {},
     "output_type": "execute_result"
    }
   ],
   "source": [
    "#Calculate train length and indexes to seperate loaders into train, val and test\n",
    "train_length = train_data.__len__() \n",
    "train_indices = np.arange(train_length) \n",
    "np.random.shuffle(train_indices) \n",
    "\n",
    "# Create Data Loader\n",
    "train_loader = DataLoader(\n",
    "                        train_data, \n",
    "                        batch_size=batch_size, \n",
    "                        sampler = SubsetRandomSampler(train_indices[:int(train_length*0.8)]) # 80% of train data in train set\n",
    "                    )\n",
    "\n",
    "val_loader = DataLoader(\n",
    "                        train_data, \n",
    "                        batch_size=batch_size, \n",
    "                        sampler = SubsetRandomSampler(train_indices[int(train_length*0.8):]) #20% of train data in validation set\n",
    "                    )\n",
    "\n",
    "test_loader = DataLoader( #All tst data\n",
    "                        test_data, \n",
    "                        batch_size=batch_size,\n",
    "                    )\n",
    "\n",
    "# Disabling Data Augmentation on Validation Set\n",
    "val_loader.dataset.transform = transforms_test\n",
    "val_loader.dataset.transform"
   ]
  },
  {
   "cell_type": "markdown",
   "id": "sDGg4bX9mf9h",
   "metadata": {
    "id": "sDGg4bX9mf9h"
   },
   "source": [
    "## Basic EDA"
   ]
  },
  {
   "cell_type": "code",
   "execution_count": 16,
   "id": "e880d5b1",
   "metadata": {
    "id": "e880d5b1"
   },
   "outputs": [],
   "source": [
    "#Returning labels\n",
    "def class_label(label):\n",
    "    classes = {\n",
    "                 0: \"T-shirt/Top\",\n",
    "                 1: \"Trouser\",\n",
    "                 2: \"Pullover\",\n",
    "                 3: \"Dress\",\n",
    "                 4: \"Coat\", \n",
    "                 5: \"Sandal\", \n",
    "                 6: \"Shirt\",\n",
    "                 7: \"Sneaker\",\n",
    "                 8: \"Bag\",\n",
    "                 9: \"Ankle Boot\"\n",
    "                 }\n",
    "    input = (label.item() if type(label) == torch.Tensor else label)\n",
    "    return classes[input]"
   ]
  },
  {
   "cell_type": "code",
   "execution_count": 17,
   "id": "15e95b2f",
   "metadata": {
    "colab": {
     "base_uri": "https://localhost:8080/"
    },
    "id": "15e95b2f",
    "outputId": "5e1c65c9-7913-4e6e-fe50-5b496a3c598b"
   },
   "outputs": [
    {
     "name": "stdout",
     "output_type": "stream",
     "text": [
      "<class 'torch.Tensor'> <class 'torch.Tensor'>\n",
      "torch.Size([10, 1, 80, 80]) torch.Size([10])\n"
     ]
    }
   ],
   "source": [
    "#Basic EDA with labels for train_data\n",
    "demo_loader = torch.utils.data.DataLoader(train_data, batch_size=10)\n",
    "\n",
    "batch = next(iter(demo_loader))\n",
    "images, labels = batch\n",
    "print(type(images), type(labels))\n",
    "print(images.shape, labels.shape)"
   ]
  },
  {
   "cell_type": "code",
   "execution_count": 18,
   "id": "01259cd0",
   "metadata": {
    "colab": {
     "base_uri": "https://localhost:8080/",
     "height": 174
    },
    "id": "01259cd0",
    "outputId": "1b2e49de-83f7-4116-ca46-8f5d8861884e"
   },
   "outputs": [
    {
     "name": "stderr",
     "output_type": "stream",
     "text": [
      "WARNING:matplotlib.image:Clipping input data to the valid range for imshow with RGB data ([0..1] for floats or [0..255] for integers).\n"
     ]
    },
    {
     "name": "stdout",
     "output_type": "stream",
     "text": [
      "labels:  Ankle Boot, T-shirt/Top, T-shirt/Top, Dress, T-shirt/Top, Pullover, Sneaker, Pullover, Sandal, Sandal, "
     ]
    },
    {
     "data": {
      "image/png": "[encoded data removed]",
      "text/plain": [
       "<Figure size 1080x1440 with 1 Axes>"
      ]
     },
     "metadata": {
      "needs_background": "light"
     },
     "output_type": "display_data"
    }
   ],
   "source": [
    "grid = torchvision.utils.make_grid(images, nrow=10)\n",
    "\n",
    "plt.figure(figsize=(15, 20))\n",
    "plt.imshow(np.transpose(grid, (1, 2, 0)))\n",
    "print(\"labels: \", end=\" \")\n",
    "for i, label in enumerate(labels):\n",
    "    print(class_label(label), end=\", \")"
   ]
  },
  {
   "cell_type": "code",
   "execution_count": 19,
   "id": "51a814b7",
   "metadata": {
    "colab": {
     "base_uri": "https://localhost:8080/",
     "height": 392
    },
    "id": "51a814b7",
    "outputId": "7316405a-aa3b-4099-d46e-488b0fb9c4ff",
    "scrolled": false
   },
   "outputs": [
    {
     "name": "stderr",
     "output_type": "stream",
     "text": [
      "WARNING:matplotlib.image:Clipping input data to the valid range for imshow with RGB data ([0..1] for floats or [0..255] for integers).\n"
     ]
    },
    {
     "data": {
      "image/png": "[encoded data removed]",
      "text/plain": [
       "<Figure size 432x288 with 1 Axes>"
      ]
     },
     "metadata": {
      "needs_background": "light"
     },
     "output_type": "display_data"
    },
    {
     "name": "stderr",
     "output_type": "stream",
     "text": [
      "WARNING:matplotlib.image:Clipping input data to the valid range for imshow with RGB data ([0..1] for floats or [0..255] for integers).\n"
     ]
    },
    {
     "data": {
      "image/png": "[encoded data removed]",
      "text/plain": [
       "<Figure size 432x288 with 1 Axes>"
      ]
     },
     "metadata": {
      "needs_background": "light"
     },
     "output_type": "display_data"
    }
   ],
   "source": [
    "#Basic EDA Visualizations for train and val loader\n",
    "training_batch = next(iter(train_loader))\n",
    "validation_batch = next(iter(val_loader))\n",
    "\n",
    "train_img = torchvision.utils.make_grid(training_batch[0][:10], nrow=5)\n",
    "plt.imshow(train_img.permute(1,2,0))\n",
    "plt.show()\n",
    "\n",
    "validation_img = torchvision.utils.make_grid(validation_batch[0][:10], nrow=5)\n",
    "plt.imshow(validation_img.permute(1,2,0))\n",
    "plt.show()"
   ]
  },
  {
   "cell_type": "markdown",
   "id": "620d0ba5",
   "metadata": {
    "id": "620d0ba5"
   },
   "source": [
    "## 3. Modeling"
   ]
  },
  {
   "cell_type": "markdown",
   "id": "bacab7b4",
   "metadata": {
    "id": "bacab7b4"
   },
   "source": [
    "### implement models - vgg-16/19, resnet, efficient net, inception v3 "
   ]
  },
  {
   "cell_type": "code",
   "execution_count": null,
   "id": "f93d76d3",
   "metadata": {
    "id": "f93d76d3"
   },
   "outputs": [],
   "source": [
    "#https://rwightman.github.io/pytorch-image-models/models/"
   ]
  },
  {
   "cell_type": "code",
   "execution_count": null,
   "id": "49524079",
   "metadata": {
    "id": "49524079"
   },
   "outputs": [],
   "source": [
    "#Model E of technical Paper for VGG, VGG with 19 layers\n",
    "#https://arxiv.org/pdf/1409.1556.pdf\n",
    "#https://github.com/pytorch/vision/blob/master/torchvision/models/vgg.py"
   ]
  },
  {
   "cell_type": "markdown",
   "id": "Mgnv6IS__zpu",
   "metadata": {
    "id": "Mgnv6IS__zpu"
   },
   "source": [
    "<img src=\"https://iq.opengenus.org/content/images/2020/02/Screenshot-from-2020-02-22-16-32-43.png\" alt=\"alt\" width=\"50%\"/>\n",
    "<img src=\"https://miro.medium.com/max/980/1*vczqmHklozzgLpZxKAZEjw.jpeg\" alt=\"alt\" width=\"50%\"/>\n"
   ]
  },
  {
   "cell_type": "markdown",
   "id": "MJsnpvngEluS",
   "metadata": {
    "id": "MJsnpvngEluS"
   },
   "source": [
    "### VGG-16"
   ]
  },
  {
   "cell_type": "code",
   "execution_count": null,
   "id": "_x24qbX8DONS",
   "metadata": {
    "colab": {
     "base_uri": "https://localhost:8080/"
    },
    "id": "_x24qbX8DONS",
    "outputId": "495794b2-ca55-47fb-f205-0850424f5d27"
   },
   "outputs": [
    {
     "name": "stdout",
     "output_type": "stream",
     "text": [
      "1.12.1+cu113\n",
      "cuda\n"
     ]
    }
   ],
   "source": [
    "epoch = 10\n",
    "learning_rate = 1e-4\n",
    "DEVICE = (\"cuda\" if torch.cuda.is_available() else \"cpu\")\n",
    "\n",
    "print(torch.__version__)\n",
    "print(DEVICE)#GPU"
   ]
  },
  {
   "cell_type": "code",
   "execution_count": null,
   "id": "tfLa7_vmDeQs",
   "metadata": {
    "id": "tfLa7_vmDeQs"
   },
   "outputs": [],
   "source": [
    "#Initializing VGG-16 model\n",
    "class VGG16(nn.Module):\n",
    "    def __init__(self):\n",
    "        super(VGG16, self).__init__()\n",
    "        #making it 64 channels, not changing input layer size of 80*80, channels look for patterns\n",
    "        self.conv1_1 = nn.Conv2d(in_channels=1, out_channels=64, kernel_size=3, padding=1)\n",
    "        self.conv1_2 = nn.Conv2d(in_channels=64, out_channels=64, kernel_size=3, padding=1)\n",
    "\n",
    "        self.conv2_1 = nn.Conv2d(in_channels=64, out_channels=128, kernel_size=3, padding=1)\n",
    "        self.conv2_2 = nn.Conv2d(in_channels=128, out_channels=128, kernel_size=3, padding=1)\n",
    "\n",
    "        self.conv3_1 = nn.Conv2d(in_channels=128, out_channels=256, kernel_size=3, padding=1)\n",
    "        self.conv3_2 = nn.Conv2d(in_channels=256, out_channels=256, kernel_size=3, padding=1)\n",
    "        self.conv3_3 = nn.Conv2d(in_channels=256, out_channels=256, kernel_size=3, padding=1)\n",
    "\n",
    "        self.conv4_1 = nn.Conv2d(in_channels=256, out_channels=512, kernel_size=3, padding=1)\n",
    "        self.conv4_2 = nn.Conv2d(in_channels=512, out_channels=512, kernel_size=3, padding=1)\n",
    "        self.conv4_3 = nn.Conv2d(in_channels=512, out_channels=512, kernel_size=3, padding=1)\n",
    "\n",
    "        self.conv5_1 = nn.Conv2d(in_channels=512, out_channels=512, kernel_size=3, padding=1)\n",
    "        self.conv5_2 = nn.Conv2d(in_channels=512, out_channels=512, kernel_size=3, padding=1)\n",
    "        self.conv5_3 = nn.Conv2d(in_channels=512, out_channels=512, kernel_size=3, padding=1)\n",
    "\n",
    "        self.maxpool = nn.MaxPool2d(kernel_size=2, stride=2)\n",
    "\n",
    "        \n",
    "        self.fc1 = nn.Linear(2048, 4096)\n",
    "        self.fc2 = nn.Linear(4096, 4096)\n",
    "        self.fc3 = nn.Linear(4096, 10)\n",
    "\n",
    "    def forward(self, x):\n",
    "        #[96, 1, 80, 80]\n",
    "        x = F.relu(self.conv1_1(x))\n",
    "        #[96, 64, 80, 80]\n",
    "        x = F.relu(self.conv1_2(x))\n",
    "        #[96, 64, 80, 80]\n",
    "        x = self.maxpool(x)\n",
    "        #[96, 64, 40, 40]\n",
    "        x = F.relu(self.conv2_1(x))\n",
    "        #[96, 128, 40, 40]\n",
    "        x = F.relu(self.conv2_2(x))\n",
    "        #[96, 128, 40, 40]\n",
    "        x = self.maxpool(x)\n",
    "        #[96, 128, 20, 20]\n",
    "        x = F.relu(self.conv3_1(x))\n",
    "        #[96, 256, 20, 20]\n",
    "        x = F.relu(self.conv3_2(x))\n",
    "        #[96, 256, 20, 20]\n",
    "        x = F.relu(self.conv3_3(x))\n",
    "        #[96, 256, 20, 20]\n",
    "        x = self.maxpool(x)\n",
    "        #[96, 256, 10, 10]\n",
    "        x = F.relu(self.conv4_1(x))\n",
    "        #[96, 512, 10, 10]\n",
    "        x = F.relu(self.conv4_2(x))\n",
    "        #[96, 512, 10, 10]\n",
    "        x = F.relu(self.conv4_3(x))\n",
    "        #[96, 512, 10, 10]\n",
    "        x = self.maxpool(x)\n",
    "        #[96, 512, 5, 5]\n",
    "        x = F.relu(self.conv5_1(x))\n",
    "        #[96, 512, 5, 5]\n",
    "        x = F.relu(self.conv5_2(x))\n",
    "        #[96, 512, 5, 5]\n",
    "        x = F.relu(self.conv5_3(x))\n",
    "        #[96, 512, 5, 5]\n",
    "        x = self.maxpool(x)\n",
    "        #[96, 512, 2, 2]\n",
    "        #flatten at the end, to extract features\n",
    "        x = x.reshape(x.shape[0], -1)\n",
    "        #[96, 2048]\n",
    "        x = F.relu(self.fc1(x))\n",
    "        #increase accuracy, reduce overfitting, only changing 50% of neurons\n",
    "        #[96, 4096]\n",
    "        x = F.dropout(x, 0.5)\n",
    "        #[96, 4096]\n",
    "        x = F.relu(self.fc2(x))\n",
    "        #[96, 4096]\n",
    "        x = F.dropout(x, 0.5)\n",
    "        #[96, 4096]\n",
    "        x = self.fc3(x)\n",
    "        #[96, 10]\n",
    "        return F.log_softmax(x) #Log softmax is advantageous over softmax for improved numerical performance and gradient optimization."
   ]
  },
  {
   "cell_type": "code",
   "execution_count": null,
   "id": "08B3suWUDhFF",
   "metadata": {
    "id": "08B3suWUDhFF"
   },
   "outputs": [],
   "source": [
    "#Calling VGG-16 model for 10 epochs\n",
    "model = VGG16().to(DEVICE)#set model weight to GPU\n",
    "\n",
    "criterion = nn.CrossEntropyLoss()\n",
    "optimizer = optim.Adam(model.parameters(), lr= learning_rate)"
   ]
  },
  {
   "cell_type": "code",
   "execution_count": null,
   "id": "OO9oY0nFDhHo",
   "metadata": {
    "colab": {
     "base_uri": "https://localhost:8080/"
    },
    "id": "OO9oY0nFDhHo",
    "outputId": "bc81586c-0b12-49d5-9c6d-16f37e2e0fcb"
   },
   "outputs": [
    {
     "name": "stderr",
     "output_type": "stream",
     "text": [
      "/usr/local/lib/python3.7/dist-packages/ipykernel_launcher.py:83: UserWarning: Implicit dimension choice for log_softmax has been deprecated. Change the call to include dim=X as an argument.\n"
     ]
    },
    {
     "name": "stdout",
     "output_type": "stream",
     "text": [
      "Training Epoch 1 ] Accuracy : 67.88% Training Loss : 0.854536\n",
      "Validation Epoch 1 ] Accuracy : 83.21%  Loss : 0.46772455096244814\n",
      "Epoch 1 ] Time taken in seconds : 125.44307732582092\n",
      "Training Epoch 2 ] Accuracy : 84.49% Training Loss : 0.417950\n",
      "Validation Epoch 2 ] Accuracy : 86.23%  Loss : 0.36978736078739166\n",
      "Epoch 2 ] Time taken in seconds : 124.36225366592407\n",
      "Training Epoch 3 ] Accuracy : 87.41% Training Loss : 0.335734\n",
      "Validation Epoch 3 ] Accuracy : 88.50%  Loss : 0.3098904219865799\n",
      "Epoch 3 ] Time taken in seconds : 123.85826396942139\n",
      "Training Epoch 4 ] Accuracy : 89.26% Training Loss : 0.289784\n",
      "Validation Epoch 4 ] Accuracy : 88.94%  Loss : 0.30518676137924194\n",
      "Epoch 4 ] Time taken in seconds : 124.1490433216095\n",
      "Training Epoch 5 ] Accuracy : 90.48% Training Loss : 0.257199\n",
      "Validation Epoch 5 ] Accuracy : 90.49%  Loss : 0.26209956568479537\n",
      "Epoch 5 ] Time taken in seconds : 124.03076958656311\n",
      "Training Epoch 6 ] Accuracy : 91.72% Training Loss : 0.226760\n",
      "Validation Epoch 6 ] Accuracy : 91.57%  Loss : 0.23778839671611787\n",
      "Epoch 6 ] Time taken in seconds : 124.26335549354553\n",
      "Training Epoch 7 ] Accuracy : 92.46% Training Loss : 0.205019\n",
      "Validation Epoch 7 ] Accuracy : 91.44%  Loss : 0.24569902974367142\n",
      "Epoch 7 ] Time taken in seconds : 123.70511722564697\n",
      "Training Epoch 8 ] Accuracy : 93.13% Training Loss : 0.188611\n",
      "Validation Epoch 8 ] Accuracy : 91.98%  Loss : 0.22294134151935577\n",
      "Epoch 8 ] Time taken in seconds : 123.72504615783691\n",
      "Training Epoch 9 ] Accuracy : 93.67% Training Loss : 0.171171\n",
      "Validation Epoch 9 ] Accuracy : 91.90%  Loss : 0.2229154784679413\n",
      "Epoch 9 ] Time taken in seconds : 123.83181977272034\n",
      "Training Epoch 10 ] Accuracy : 94.42% Training Loss : 0.151931\n",
      "Validation Epoch 10 ] Accuracy : 92.03%  Loss : 0.23136988025903701\n",
      "Epoch 10 ] Time taken in seconds : 123.50096940994263\n",
      "Total time in seconds: 1240.8697159290314\n"
     ]
    }
   ],
   "source": [
    "sum = 0\n",
    "\n",
    "#epoch=10\n",
    "totalTime=[]\n",
    "\n",
    "#Train and Val accuracy & loss Arrays\n",
    "train_acc_array=[]\n",
    "train_loss_array=[]\n",
    "val_acc_array=[]\n",
    "val_loss_array=[]\n",
    "\n",
    "#Training model on train and validation sets\n",
    "for e in range(epoch): \n",
    "    num_correct=0\n",
    "    num_samples=0\n",
    "    startTime = time.time()\n",
    "    train_loss=0.0\n",
    "    \n",
    "    #Training loop\n",
    "    for batch_idx, (data, targets) in enumerate(train_loader):\n",
    "        #Transfer data to GPU if available\n",
    "        data = data.to(DEVICE)\n",
    "        targets = targets.to(DEVICE)\n",
    "        ## Clear gradients\n",
    "        optimizer.zero_grad()\n",
    "        #Forward pass\n",
    "        scores = model(data)\n",
    "        #find the loss\n",
    "        loss = criterion(scores,targets)\n",
    "        #Calculate gradients\n",
    "        loss.backward()\n",
    "        #Update weights\n",
    "        optimizer.step()\n",
    "        #Calculate loss\n",
    "        train_loss += loss.item()\n",
    "        #calulcate Accuracy\n",
    "        _, predictions = scores.max(1)\n",
    "        num_correct += (predictions == targets).sum()\n",
    "        num_samples += predictions.size(0)\n",
    "    print(f\"Training Epoch {e+1} ] Accuracy : {float(num_correct) / float(num_samples) * 100:.2f}% Training Loss : {train_loss/len(train_loader):.6f}\")\n",
    "    train_loss_array.append(train_loss/len(train_loader))\n",
    "    train_acc_array.append(float(num_correct) / float(num_samples) * 100)\n",
    "\n",
    "    #Validation Loop\n",
    "    with torch.no_grad():\n",
    "        valid_loss=0.0\n",
    "        num_correct = 0\n",
    "        num_samples = 0\n",
    "        for batch_idx, (data,targets) in enumerate(val_loader):\n",
    "            data = data.to(DEVICE)\n",
    "            targets = targets.to(DEVICE)\n",
    "\n",
    "            ## Forward Pass\n",
    "            scores = model(data)\n",
    "\n",
    "            loss = criterion(scores,targets)\n",
    "            valid_loss+=loss.item() \n",
    "\n",
    "            _, predictions = scores.max(1)\n",
    "            num_correct += (predictions == targets).sum()\n",
    "            num_samples += predictions.size(0)\n",
    "\n",
    "        print(f\"Validation Epoch {e+1} ] Accuracy : {float(num_correct) / float(num_samples) * 100:.2f}%  Loss : {valid_loss/len(val_loader)}\")\n",
    "        val_acc_array.append(float(num_correct) / float(num_samples) * 100)\n",
    "        val_loss_array.append(valid_loss/len(val_loader))\n",
    "    \n",
    "    #Calculate time for each epoch\n",
    "    executionTime = (time.time() - startTime)\n",
    "    totalTime.append(executionTime)\n",
    "    print(f'Epoch {e+1} ] Time taken in seconds : {str(executionTime)}')\n",
    "\n",
    "#Calculating total time for 10 epochs\n",
    "for i in totalTime:\n",
    "    sum = sum + i\n",
    "    \n",
    "print(f'Total time in seconds: {sum}')"
   ]
  },
  {
   "cell_type": "code",
   "execution_count": null,
   "id": "exBSzoRiD4Yn",
   "metadata": {
    "colab": {
     "base_uri": "https://localhost:8080/",
     "height": 350
    },
    "id": "exBSzoRiD4Yn",
    "outputId": "de0b3aee-2d81-4c6e-f01f-1bb524572451"
   },
   "outputs": [
    {
     "data": {
      "image/png": "[encoded data removed]",
      "text/plain": [
       "<Figure size 720x360 with 1 Axes>"
      ]
     },
     "metadata": {},
     "output_type": "display_data"
    }
   ],
   "source": [
    "plt.figure(figsize=(10,5))\n",
    "plt.title(\"VGG-16 Training and Validation Loss\")\n",
    "plt.plot(val_loss_array,label=\"val\")\n",
    "plt.plot(train_loss_array,label=\"train\")\n",
    "plt.xlabel(\"iterations\")\n",
    "plt.ylabel(\"Loss\")\n",
    "plt.legend()\n",
    "plt.show()"
   ]
  },
  {
   "cell_type": "code",
   "execution_count": null,
   "id": "xkYcCCwlDhPH",
   "metadata": {
    "colab": {
     "base_uri": "https://localhost:8080/",
     "height": 350
    },
    "id": "xkYcCCwlDhPH",
    "outputId": "5e05db2a-75de-4a5a-a50e-4f2970bdc273"
   },
   "outputs": [
    {
     "data": {
      "image/png": "[encoded data removed]",
      "text/plain": [
       "<Figure size 720x360 with 1 Axes>"
      ]
     },
     "metadata": {},
     "output_type": "display_data"
    }
   ],
   "source": [
    "plt.figure(figsize=(10,5))\n",
    "plt.title(\"VGG-16 Training and Validation Accuracy\")\n",
    "plt.plot(val_acc_array,label=\"val\")\n",
    "plt.plot(train_acc_array,label=\"train\")\n",
    "plt.xlabel(\"iterations\")\n",
    "plt.ylabel(\"Accuracy\")\n",
    "plt.legend()\n",
    "plt.show()"
   ]
  },
  {
   "cell_type": "code",
   "execution_count": null,
   "id": "ZEbEfhG4D4bm",
   "metadata": {
    "colab": {
     "base_uri": "https://localhost:8080/"
    },
    "id": "ZEbEfhG4D4bm",
    "outputId": "8dc34e6a-e2a1-472c-d5b4-a3626e7c7f03"
   },
   "outputs": [
    {
     "name": "stderr",
     "output_type": "stream",
     "text": [
      "/usr/local/lib/python3.7/dist-packages/ipykernel_launcher.py:83: UserWarning: Implicit dimension choice for log_softmax has been deprecated. Change the call to include dim=X as an argument.\n"
     ]
    },
    {
     "name": "stdout",
     "output_type": "stream",
     "text": [
      "Accuracy 91.43%\n"
     ]
    }
   ],
   "source": [
    "#Evaluating Accuracy on test set\n",
    "num_correct = 0\n",
    "num_samples = 0\n",
    "for batch_idx, (data,targets) in enumerate(test_loader):\n",
    "    data = data.to(DEVICE)\n",
    "    targets = targets.to(DEVICE)\n",
    "    ## Forward Pass\n",
    "    scores = model(data)\n",
    "    _, predictions = scores.max(1)\n",
    "    num_correct += (predictions == targets).sum()\n",
    "    num_samples += predictions.size(0)\n",
    "print(f\"Accuracy {float(num_correct) / float(num_samples) * 100:.2f}%\")"
   ]
  },
  {
   "cell_type": "code",
   "execution_count": null,
   "id": "pq5nVhYDEQjo",
   "metadata": {
    "colab": {
     "base_uri": "https://localhost:8080/"
    },
    "id": "pq5nVhYDEQjo",
    "outputId": "3b4e259e-7a61-4554-f529-8e128317fad2"
   },
   "outputs": [
    {
     "name": "stdout",
     "output_type": "stream",
     "text": [
      "----------------------------------------------------------------\n",
      "        Layer (type)               Output Shape         Param #\n",
      "================================================================\n",
      "            Conv2d-1           [-1, 64, 80, 80]             640\n",
      "            Conv2d-2           [-1, 64, 80, 80]          36,928\n",
      "         MaxPool2d-3           [-1, 64, 40, 40]               0\n",
      "            Conv2d-4          [-1, 128, 40, 40]          73,856\n",
      "            Conv2d-5          [-1, 128, 40, 40]         147,584\n",
      "         MaxPool2d-6          [-1, 128, 20, 20]               0\n",
      "            Conv2d-7          [-1, 256, 20, 20]         295,168\n",
      "            Conv2d-8          [-1, 256, 20, 20]         590,080\n",
      "            Conv2d-9          [-1, 256, 20, 20]         590,080\n",
      "        MaxPool2d-10          [-1, 256, 10, 10]               0\n",
      "           Conv2d-11          [-1, 512, 10, 10]       1,180,160\n",
      "           Conv2d-12          [-1, 512, 10, 10]       2,359,808\n",
      "           Conv2d-13          [-1, 512, 10, 10]       2,359,808\n",
      "        MaxPool2d-14            [-1, 512, 5, 5]               0\n",
      "           Conv2d-15            [-1, 512, 5, 5]       2,359,808\n",
      "           Conv2d-16            [-1, 512, 5, 5]       2,359,808\n",
      "           Conv2d-17            [-1, 512, 5, 5]       2,359,808\n",
      "        MaxPool2d-18            [-1, 512, 2, 2]               0\n",
      "           Linear-19                 [-1, 4096]       8,392,704\n",
      "           Linear-20                 [-1, 4096]      16,781,312\n",
      "           Linear-21                   [-1, 10]          40,970\n",
      "================================================================\n",
      "Total params: 39,928,522\n",
      "Trainable params: 39,928,522\n",
      "Non-trainable params: 0\n",
      "----------------------------------------------------------------\n",
      "Input size (MB): 0.02\n",
      "Forward/backward pass size (MB): 14.73\n",
      "Params size (MB): 152.32\n",
      "Estimated Total Size (MB): 167.07\n",
      "----------------------------------------------------------------\n"
     ]
    },
    {
     "name": "stderr",
     "output_type": "stream",
     "text": [
      "/usr/local/lib/python3.7/dist-packages/ipykernel_launcher.py:83: UserWarning: Implicit dimension choice for log_softmax has been deprecated. Change the call to include dim=X as an argument.\n"
     ]
    }
   ],
   "source": [
    "summary(model,input_size=(1,80,80)) "
   ]
  },
  {
   "cell_type": "markdown",
   "id": "DNhcLKLKEY5L",
   "metadata": {
    "id": "DNhcLKLKEY5L"
   },
   "source": [
    "### VGG-19"
   ]
  },
  {
   "cell_type": "code",
   "execution_count": null,
   "id": "248dd02e",
   "metadata": {
    "id": "248dd02e"
   },
   "outputs": [],
   "source": [
    "#vgg-19\n",
    "#Initializing VGG-16 model\n",
    "class VGG19(nn.Module):\n",
    "    def __init__(self):\n",
    "        super(VGG19, self).__init__()\n",
    "        self.conv1_1 = nn.Conv2d(in_channels=1, out_channels=64, kernel_size=3, padding=1)\n",
    "        self.conv1_2 = nn.Conv2d(in_channels=64, out_channels=64, kernel_size=3, padding=1)\n",
    "\n",
    "        self.conv2_1 = nn.Conv2d(in_channels=64, out_channels=128, kernel_size=3, padding=1)\n",
    "        self.conv2_2 = nn.Conv2d(in_channels=128, out_channels=128, kernel_size=3, padding=1)\n",
    "\n",
    "        self.conv3_1 = nn.Conv2d(in_channels=128, out_channels=256, kernel_size=3, padding=1)\n",
    "        self.conv3_2 = nn.Conv2d(in_channels=256, out_channels=256, kernel_size=3, padding=1)\n",
    "        self.conv3_3 = nn.Conv2d(in_channels=256, out_channels=256, kernel_size=3, padding=1)\n",
    "        #3_4 for VGG19\n",
    "        self.conv3_4 = nn.Conv2d(in_channels=256, out_channels=256, kernel_size=3, padding=1)\n",
    "\n",
    "        self.conv4_1 = nn.Conv2d(in_channels=256, out_channels=512, kernel_size=3, padding=1)\n",
    "        self.conv4_2 = nn.Conv2d(in_channels=512, out_channels=512, kernel_size=3, padding=1)\n",
    "        self.conv4_3 = nn.Conv2d(in_channels=512, out_channels=512, kernel_size=3, padding=1)\n",
    "        #4_4 for VGG19\n",
    "        self.conv4_4 = nn.Conv2d(in_channels=512, out_channels=512, kernel_size=3, padding=1)\n",
    "\n",
    "        self.conv5_1 = nn.Conv2d(in_channels=512, out_channels=512, kernel_size=3, padding=1)\n",
    "        self.conv5_2 = nn.Conv2d(in_channels=512, out_channels=512, kernel_size=3, padding=1)\n",
    "        self.conv5_3 = nn.Conv2d(in_channels=512, out_channels=512, kernel_size=3, padding=1)\n",
    "        #5_4 for VGG19\n",
    "        self.conv5_4 = nn.Conv2d(in_channels=512, out_channels=512, kernel_size=3, padding=1)\n",
    "\n",
    "        self.maxpool = nn.MaxPool2d(kernel_size=2, stride=2)\n",
    "\n",
    "        self.fc1 = nn.Linear(2048, 4096)\n",
    "        self.fc2 = nn.Linear(4096, 4096)\n",
    "        self.fc3 = nn.Linear(4096, 10)\n",
    "\n",
    "    def forward(self, x):\n",
    "        x = F.relu(self.conv1_1(x))\n",
    "        x = F.relu(self.conv1_2(x))\n",
    "        x = self.maxpool(x)\n",
    "        x = F.relu(self.conv2_1(x))\n",
    "        x = F.relu(self.conv2_2(x))\n",
    "        x = self.maxpool(x)\n",
    "        x = F.relu(self.conv3_1(x))\n",
    "        x = F.relu(self.conv3_2(x))\n",
    "        x = F.relu(self.conv3_3(x))\n",
    "        x = F.relu(self.conv3_4(x))#vgg-19\n",
    "        x = self.maxpool(x)\n",
    "        x = F.relu(self.conv4_1(x))\n",
    "        x = F.relu(self.conv4_2(x))\n",
    "        x = F.relu(self.conv4_3(x))\n",
    "        x = F.relu(self.conv4_4(x))#vgg-19\n",
    "        x = self.maxpool(x)\n",
    "        x = F.relu(self.conv5_1(x))\n",
    "        x = F.relu(self.conv5_2(x))\n",
    "        x = F.relu(self.conv5_3(x))\n",
    "        x = F.relu(self.conv5_4(x))#vgg-19\n",
    "        x = self.maxpool(x)\n",
    "        x = x.reshape(x.shape[0], -1)\n",
    "        x = F.relu(self.fc1(x))\n",
    "        x = F.dropout(x, 0.5)\n",
    "        x = F.relu(self.fc2(x))\n",
    "        x = F.dropout(x, 0.5)\n",
    "        x = self.fc3(x)\n",
    "        return F.log_softmax(x)"
   ]
  },
  {
   "cell_type": "code",
   "execution_count": null,
   "id": "f4f4f49c",
   "metadata": {
    "id": "f4f4f49c"
   },
   "outputs": [],
   "source": [
    "#Calling VGG-19 model \n",
    "model = VGG19().to(DEVICE)\n",
    "\n",
    "criterion = nn.CrossEntropyLoss()\n",
    "optimizer = optim.Adam(model.parameters(), lr= learning_rate)"
   ]
  },
  {
   "cell_type": "code",
   "execution_count": null,
   "id": "d8d8d8e5",
   "metadata": {
    "colab": {
     "base_uri": "https://localhost:8080/"
    },
    "id": "d8d8d8e5",
    "outputId": "8f25bb45-eb8c-4536-f784-007cdd9e9577"
   },
   "outputs": [
    {
     "name": "stderr",
     "output_type": "stream",
     "text": [
      "/usr/local/lib/python3.7/dist-packages/ipykernel_launcher.py:64: UserWarning: Implicit dimension choice for log_softmax has been deprecated. Change the call to include dim=X as an argument.\n"
     ]
    },
    {
     "name": "stdout",
     "output_type": "stream",
     "text": [
      "Training Epoch 1 ] Accuracy : 59.66% Training Loss : 1.058646\n",
      "Validation Epoch 1 ] Accuracy : 73.76%  Loss : 0.703732697725296\n",
      "Epoch 1 ] Time taken in seconds : 145.35330176353455\n",
      "Training Epoch 2 ] Accuracy : 81.59% Training Loss : 0.499700\n",
      "Validation Epoch 2 ] Accuracy : 83.83%  Loss : 0.426372731924057\n",
      "Epoch 2 ] Time taken in seconds : 144.1403501033783\n",
      "Training Epoch 3 ] Accuracy : 86.12% Training Loss : 0.377481\n",
      "Validation Epoch 3 ] Accuracy : 87.65%  Loss : 0.3438076723814011\n",
      "Epoch 3 ] Time taken in seconds : 144.13716745376587\n",
      "Training Epoch 4 ] Accuracy : 88.49% Training Loss : 0.318613\n",
      "Validation Epoch 4 ] Accuracy : 88.25%  Loss : 0.3267471445798874\n",
      "Epoch 4 ] Time taken in seconds : 144.03936004638672\n",
      "Training Epoch 5 ] Accuracy : 89.67% Training Loss : 0.282681\n",
      "Validation Epoch 5 ] Accuracy : 89.63%  Loss : 0.28831327497959136\n",
      "Epoch 5 ] Time taken in seconds : 144.33961749076843\n",
      "Training Epoch 6 ] Accuracy : 90.62% Training Loss : 0.255502\n",
      "Validation Epoch 6 ] Accuracy : 90.44%  Loss : 0.2674783484339714\n",
      "Epoch 6 ] Time taken in seconds : 144.0662214756012\n",
      "Training Epoch 7 ] Accuracy : 91.35% Training Loss : 0.231725\n",
      "Validation Epoch 7 ] Accuracy : 89.56%  Loss : 0.2977559923529625\n",
      "Epoch 7 ] Time taken in seconds : 143.9621503353119\n",
      "Training Epoch 8 ] Accuracy : 92.29% Training Loss : 0.213153\n",
      "Validation Epoch 8 ] Accuracy : 90.92%  Loss : 0.2530917489528656\n",
      "Epoch 8 ] Time taken in seconds : 144.14520621299744\n",
      "Training Epoch 9 ] Accuracy : 92.72% Training Loss : 0.199215\n",
      "Validation Epoch 9 ] Accuracy : 91.67%  Loss : 0.23584848576784134\n",
      "Epoch 9 ] Time taken in seconds : 143.99127745628357\n",
      "Training Epoch 10 ] Accuracy : 93.39% Training Loss : 0.182393\n",
      "Validation Epoch 10 ] Accuracy : 91.64%  Loss : 0.24520409148931505\n",
      "Epoch 10 ] Time taken in seconds : 144.2102608680725\n",
      "Total time in seconds: 1442.3849132061005\n"
     ]
    }
   ],
   "source": [
    "sum = 0\n",
    "\n",
    "#epoch=10\n",
    "totalTime=[]\n",
    "\n",
    "#Train and Val accuracy & loss Arrays\n",
    "train_acc_array=[]\n",
    "train_loss_array=[]\n",
    "val_acc_array=[]\n",
    "val_loss_array=[]\n",
    "\n",
    "#Training model on train and validation sets\n",
    "for e in range(epoch): \n",
    "    startTime = time.time()\n",
    "    train_loss=0.0\n",
    "    num_correct = 0\n",
    "    num_samples = 0\n",
    "    \n",
    "    #Training loop\n",
    "    for batch_idx, (data, targets) in enumerate(train_loader):\n",
    "        #Transfer data to GPU if available\n",
    "        data = data.to(DEVICE)\n",
    "        targets = targets.to(DEVICE)\n",
    "        ## Clear gradients\n",
    "        optimizer.zero_grad()\n",
    "        #Forward pass\n",
    "        scores = model(data)\n",
    "        #find the loss\n",
    "        loss = criterion(scores,targets)\n",
    "        #Calculate gradients\n",
    "        loss.backward()\n",
    "        #Update weights\n",
    "        optimizer.step()\n",
    "        #Calculate loss\n",
    "        train_loss += loss.item()\n",
    "        #calulcate Accuracy\n",
    "        _, predictions = scores.max(1)\n",
    "        num_correct += (predictions == targets).sum()\n",
    "        num_samples += predictions.size(0)\n",
    "    print(f\"Training Epoch {e+1} ] Accuracy : {float(num_correct) / float(num_samples) * 100:.2f}% Training Loss : {train_loss/len(train_loader):.6f}\")\n",
    "    train_loss_array.append(train_loss/len(train_loader))\n",
    "    train_acc_array.append(float(num_correct) / float(num_samples) * 100)\n",
    "\n",
    "    #Validation Loop\n",
    "    with torch.no_grad():\n",
    "        valid_loss=0.0\n",
    "        num_correct = 0\n",
    "        num_samples = 0\n",
    "        for batch_idx, (data,targets) in enumerate(val_loader):\n",
    "            data = data.to(DEVICE)\n",
    "            targets = targets.to(DEVICE)\n",
    "\n",
    "            ## Forward Pass\n",
    "            scores = model(data)\n",
    "\n",
    "            loss = criterion(scores,targets)\n",
    "            valid_loss+=loss.item()\n",
    "\n",
    "            _, predictions = scores.max(1)\n",
    "            num_correct += (predictions == targets).sum()\n",
    "            num_samples += predictions.size(0)\n",
    "\n",
    "        print(f\"Validation Epoch {e+1} ] Accuracy : {float(num_correct) / float(num_samples) * 100:.2f}%  Loss : {valid_loss/len(val_loader)}\")\n",
    "        val_acc_array.append(float(num_correct) / float(num_samples) * 100)\n",
    "        val_loss_array.append(valid_loss/len(val_loader))\n",
    "    \n",
    "    #Calculate time for each epoch\n",
    "    executionTime = (time.time() - startTime)\n",
    "    totalTime.append(executionTime)\n",
    "    print(f'Epoch {e+1} ] Time taken in seconds : {str(executionTime)}')\n",
    "\n",
    "#Calculating total time for 10 epochs\n",
    "for i in totalTime:\n",
    "    sum = sum + i\n",
    "    \n",
    "print(f'Total time in seconds: {sum}')"
   ]
  },
  {
   "cell_type": "code",
   "execution_count": null,
   "id": "cicWEklcE08m",
   "metadata": {
    "colab": {
     "base_uri": "https://localhost:8080/",
     "height": 350
    },
    "id": "cicWEklcE08m",
    "outputId": "87ab4a99-5011-43ad-e9e9-84be0dbf224e"
   },
   "outputs": [
    {
     "data": {
      "image/png": "[encoded data removed]",
      "text/plain": [
       "<Figure size 720x360 with 1 Axes>"
      ]
     },
     "metadata": {},
     "output_type": "display_data"
    }
   ],
   "source": [
    "plt.figure(figsize=(10,5))\n",
    "plt.title(\"VGG-19 Training and Validation Loss\")\n",
    "plt.plot(val_loss_array,label=\"val\")\n",
    "plt.plot(train_loss_array,label=\"train\")\n",
    "plt.xlabel(\"iterations\")\n",
    "plt.ylabel(\"Loss\")\n",
    "plt.legend()\n",
    "plt.show()"
   ]
  },
  {
   "cell_type": "code",
   "execution_count": null,
   "id": "uVDZ92H9E0_M",
   "metadata": {
    "colab": {
     "base_uri": "https://localhost:8080/",
     "height": 350
    },
    "id": "uVDZ92H9E0_M",
    "outputId": "0692fcf0-046f-4c44-c99d-bfb795004b3f"
   },
   "outputs": [
    {
     "data": {
      "image/png": "[encoded data removed]",
      "text/plain": [
       "<Figure size 720x360 with 1 Axes>"
      ]
     },
     "metadata": {},
     "output_type": "display_data"
    }
   ],
   "source": [
    "plt.figure(figsize=(10,5))\n",
    "plt.title(\"VGG-19 Training and Validation Accuracy\")\n",
    "plt.plot(val_acc_array,label=\"val\")\n",
    "plt.plot(train_acc_array,label=\"train\")\n",
    "plt.xlabel(\"iterations\")\n",
    "plt.ylabel(\"Accuracy\")\n",
    "plt.legend()\n",
    "plt.show()"
   ]
  },
  {
   "cell_type": "code",
   "execution_count": null,
   "id": "bkd4XSssFD1h",
   "metadata": {
    "colab": {
     "base_uri": "https://localhost:8080/"
    },
    "id": "bkd4XSssFD1h",
    "outputId": "74c87249-4a38-4d3f-9588-0be0f6e9538e"
   },
   "outputs": [
    {
     "name": "stderr",
     "output_type": "stream",
     "text": [
      "/usr/local/lib/python3.7/dist-packages/ipykernel_launcher.py:64: UserWarning: Implicit dimension choice for log_softmax has been deprecated. Change the call to include dim=X as an argument.\n"
     ]
    },
    {
     "name": "stdout",
     "output_type": "stream",
     "text": [
      "Accuracy 91.11%\n"
     ]
    }
   ],
   "source": [
    "#Evaluating Accuracy on test set\n",
    "num_correct = 0\n",
    "num_samples = 0\n",
    "for batch_idx, (data,targets) in enumerate(test_loader):\n",
    "    data = data.to(DEVICE)\n",
    "    targets = targets.to(DEVICE)\n",
    "    ## Forward Pass\n",
    "    scores = model(data)\n",
    "    _, predictions = scores.max(1)\n",
    "    num_correct += (predictions == targets).sum()\n",
    "    num_samples += predictions.size(0)\n",
    "print(f\"Accuracy {float(num_correct) / float(num_samples) * 100:.2f}%\")"
   ]
  },
  {
   "cell_type": "code",
   "execution_count": null,
   "id": "W86TH35rFG7g",
   "metadata": {
    "colab": {
     "base_uri": "https://localhost:8080/"
    },
    "id": "W86TH35rFG7g",
    "outputId": "9ad53346-7288-4541-9340-57eb796f529e"
   },
   "outputs": [
    {
     "name": "stdout",
     "output_type": "stream",
     "text": [
      "----------------------------------------------------------------\n",
      "        Layer (type)               Output Shape         Param #\n",
      "================================================================\n",
      "            Conv2d-1           [-1, 64, 80, 80]             640\n",
      "            Conv2d-2           [-1, 64, 80, 80]          36,928\n",
      "         MaxPool2d-3           [-1, 64, 40, 40]               0\n",
      "            Conv2d-4          [-1, 128, 40, 40]          73,856\n",
      "            Conv2d-5          [-1, 128, 40, 40]         147,584\n",
      "         MaxPool2d-6          [-1, 128, 20, 20]               0\n",
      "            Conv2d-7          [-1, 256, 20, 20]         295,168\n",
      "            Conv2d-8          [-1, 256, 20, 20]         590,080\n",
      "            Conv2d-9          [-1, 256, 20, 20]         590,080\n",
      "           Conv2d-10          [-1, 256, 20, 20]         590,080\n",
      "        MaxPool2d-11          [-1, 256, 10, 10]               0\n",
      "           Conv2d-12          [-1, 512, 10, 10]       1,180,160\n",
      "           Conv2d-13          [-1, 512, 10, 10]       2,359,808\n",
      "           Conv2d-14          [-1, 512, 10, 10]       2,359,808\n",
      "           Conv2d-15          [-1, 512, 10, 10]       2,359,808\n",
      "        MaxPool2d-16            [-1, 512, 5, 5]               0\n",
      "           Conv2d-17            [-1, 512, 5, 5]       2,359,808\n",
      "           Conv2d-18            [-1, 512, 5, 5]       2,359,808\n",
      "           Conv2d-19            [-1, 512, 5, 5]       2,359,808\n",
      "           Conv2d-20            [-1, 512, 5, 5]       2,359,808\n",
      "        MaxPool2d-21            [-1, 512, 2, 2]               0\n",
      "           Linear-22                 [-1, 4096]       8,392,704\n",
      "           Linear-23                 [-1, 4096]      16,781,312\n",
      "           Linear-24                   [-1, 10]          40,970\n",
      "================================================================\n",
      "Total params: 45,238,218\n",
      "Trainable params: 45,238,218\n",
      "Non-trainable params: 0\n",
      "----------------------------------------------------------------\n",
      "Input size (MB): 0.02\n",
      "Forward/backward pass size (MB): 16.00\n",
      "Params size (MB): 172.57\n",
      "Estimated Total Size (MB): 188.59\n",
      "----------------------------------------------------------------\n"
     ]
    },
    {
     "name": "stderr",
     "output_type": "stream",
     "text": [
      "/usr/local/lib/python3.7/dist-packages/ipykernel_launcher.py:64: UserWarning: Implicit dimension choice for log_softmax has been deprecated. Change the call to include dim=X as an argument.\n"
     ]
    }
   ],
   "source": [
    "summary(model,input_size=(1,80,80)) "
   ]
  },
  {
   "cell_type": "markdown",
   "id": "jUUmt9ueculX",
   "metadata": {
    "id": "jUUmt9ueculX"
   },
   "source": [
    "## AlexNet\n",
    "AlexNet was a deep neural network that was developed by Alex Krizhevsky and others in 2012. It was designed to classify images for the ImageNet [3] ILSVRC-2012 competition, where it achieved the state of the art results. It was introduced in the paper ImageNet Classification with Deep Convolutional Neural Networks\n",
    "\n",
    "Alexnet starts with an input layer of 227 x 227 x 3 images , the next convolution layer consists of 96 (11 x 11) filters with a stride of 4. which reduces its dimension by 55 x 55. Followed by a MaxPool layer with 3 x 3 filter along with stride 2. This process goes on and finally reaches the Fully Connected layer with 9216 parameters and the next two Fully Connected layers with 4096 nodes each. In the end, it uses the Softmax function with 1000 output classes.. Alexnet is the first architecture to use ReLU non-linearity , Dropout for regularization and Multi-GPU training[3]\n",
    "<img src=\"https://miro.medium.com/max/720/1*RT8gNyu608VSphZwLCoxIA.png\" alt=\"alt\" width=\"50%\"/>\n",
    "\n",
    "\n"
   ]
  },
  {
   "cell_type": "markdown",
   "id": "fjWBqc0acy40",
   "metadata": {
    "id": "fjWBqc0acy40"
   },
   "source": [
    "## AlexNet"
   ]
  },
  {
   "cell_type": "code",
   "execution_count": null,
   "id": "ur0ygAtkhqrE",
   "metadata": {
    "colab": {
     "base_uri": "https://localhost:8080/"
    },
    "id": "ur0ygAtkhqrE",
    "outputId": "9caaf15b-edf0-429a-93b5-6d664aa0f5e0"
   },
   "outputs": [
    {
     "name": "stdout",
     "output_type": "stream",
     "text": [
      "1.12.1+cu113\n",
      "cuda\n"
     ]
    }
   ],
   "source": [
    "epoch = 10\n",
    "learning_rate = 1e-4\n",
    "DEVICE = (\"cuda\" if torch.cuda.is_available() else \"cpu\")\n",
    "\n",
    "print(torch.__version__)\n",
    "print(DEVICE)#GPU"
   ]
  },
  {
   "cell_type": "code",
   "execution_count": null,
   "id": "k_c4IdfScuSO",
   "metadata": {
    "id": "k_c4IdfScuSO"
   },
   "outputs": [],
   "source": [
    "class AlexNet(nn.Module):\n",
    "    def __init__(self):\n",
    "        super(AlexNet, self).__init__()\n",
    "        self.features = nn.Sequential(\n",
    "            nn.Conv2d(1, 64, kernel_size=11, stride=4, padding=2),\n",
    "            nn.ReLU(),\n",
    "            nn.LocalResponseNorm(size=5,alpha=0.0001,beta=0.75,k=2),\n",
    "            nn.MaxPool2d(kernel_size=3, stride=2),\n",
    "            nn.Conv2d(64, 192, kernel_size=5, padding=2),\n",
    "            nn.ReLU(),\n",
    "            nn.MaxPool2d(kernel_size=3, stride=2),\n",
    "            nn.Conv2d(192, 384, kernel_size=3, padding=1),\n",
    "            nn.ReLU(),\n",
    "            nn.Conv2d(384, 256, kernel_size=3, padding=1),\n",
    "            nn.ReLU(),\n",
    "            nn.Conv2d(256, 256, kernel_size=3, padding=1),\n",
    "            nn.ReLU(),\n",
    "            nn.MaxPool2d(kernel_size=3, stride=2),\n",
    "        )\n",
    "        self.avgpool = nn.AdaptiveAvgPool2d((6, 6))\n",
    "        self.classifier = nn.Sequential(\n",
    "            nn.Dropout(),\n",
    "            nn.Linear(256 * 6 * 6, 4096),\n",
    "            nn.ReLU(),\n",
    "            nn.Dropout(),\n",
    "            nn.Linear(4096, 4096),\n",
    "            nn.ReLU(),\n",
    "            nn.Linear(4096, 10),\n",
    "        )\n",
    "    def forward(self, x):\n",
    "        x = self.features(x)\n",
    "        x = self.avgpool(x)\n",
    "        x = torch.flatten(x, 1)\n",
    "        x = self.classifier(x)\n",
    "        return F.log_softmax(x)"
   ]
  },
  {
   "cell_type": "code",
   "execution_count": null,
   "id": "bDG9-s5BeWt_",
   "metadata": {
    "id": "bDG9-s5BeWt_"
   },
   "outputs": [],
   "source": [
    "#Calling AlexNet model for 10 epochs\n",
    "model = AlexNet().to(DEVICE)#set model weight to GPU\n",
    "\n",
    "criterion = nn.CrossEntropyLoss()\n",
    "optimizer = optim.Adam(model.parameters(), lr= learning_rate)"
   ]
  },
  {
   "cell_type": "code",
   "execution_count": null,
   "id": "FKsZVzEteXM9",
   "metadata": {
    "colab": {
     "base_uri": "https://localhost:8080/"
    },
    "id": "FKsZVzEteXM9",
    "outputId": "974b2888-6834-4058-e721-af461b383c0b"
   },
   "outputs": [
    {
     "name": "stderr",
     "output_type": "stream",
     "text": [
      "/usr/local/lib/python3.7/dist-packages/ipykernel_launcher.py:35: UserWarning: Implicit dimension choice for log_softmax has been deprecated. Change the call to include dim=X as an argument.\n"
     ]
    },
    {
     "name": "stdout",
     "output_type": "stream",
     "text": [
      "Training Epoch 1 ] Accuracy : 72.36% Training Loss : 0.712063\n",
      "Validation Epoch 1 ] Accuracy : 84.20%  Loss : 0.43736608147621153\n",
      "Epoch 1 ] Time taken in seconds : 38.82448887825012\n",
      "Training Epoch 2 ] Accuracy : 85.94% Training Loss : 0.384711\n",
      "Validation Epoch 2 ] Accuracy : 87.08%  Loss : 0.3475809659957886\n",
      "Epoch 2 ] Time taken in seconds : 36.2471489906311\n",
      "Training Epoch 3 ] Accuracy : 88.66% Training Loss : 0.310723\n",
      "Validation Epoch 3 ] Accuracy : 89.34%  Loss : 0.2946891413331032\n",
      "Epoch 3 ] Time taken in seconds : 36.48926067352295\n",
      "Training Epoch 4 ] Accuracy : 90.19% Training Loss : 0.269933\n",
      "Validation Epoch 4 ] Accuracy : 90.18%  Loss : 0.2745768982172012\n",
      "Epoch 4 ] Time taken in seconds : 36.2762553691864\n",
      "Training Epoch 5 ] Accuracy : 91.28% Training Loss : 0.241118\n",
      "Validation Epoch 5 ] Accuracy : 90.38%  Loss : 0.27057966125011446\n",
      "Epoch 5 ] Time taken in seconds : 36.006195306777954\n",
      "Training Epoch 6 ] Accuracy : 92.18% Training Loss : 0.216201\n",
      "Validation Epoch 6 ] Accuracy : 90.77%  Loss : 0.26572821593284607\n",
      "Epoch 6 ] Time taken in seconds : 36.43350791931152\n",
      "Training Epoch 7 ] Accuracy : 92.72% Training Loss : 0.196803\n",
      "Validation Epoch 7 ] Accuracy : 91.23%  Loss : 0.24286871755123138\n",
      "Epoch 7 ] Time taken in seconds : 36.25550961494446\n",
      "Training Epoch 8 ] Accuracy : 93.35% Training Loss : 0.177895\n",
      "Validation Epoch 8 ] Accuracy : 90.22%  Loss : 0.2681269990801811\n",
      "Epoch 8 ] Time taken in seconds : 36.18117952346802\n",
      "Training Epoch 9 ] Accuracy : 93.99% Training Loss : 0.162430\n",
      "Validation Epoch 9 ] Accuracy : 91.17%  Loss : 0.26168846517801286\n",
      "Epoch 9 ] Time taken in seconds : 36.23521852493286\n",
      "Training Epoch 10 ] Accuracy : 94.40% Training Loss : 0.149838\n",
      "Validation Epoch 10 ] Accuracy : 91.43%  Loss : 0.2571058711409569\n",
      "Epoch 10 ] Time taken in seconds : 36.17383337020874\n",
      "Total time in seconds: 365.12259817123413\n"
     ]
    }
   ],
   "source": [
    "sum = 0\n",
    "\n",
    "#epoch=10\n",
    "totalTime=[]\n",
    "\n",
    "#Train and Val accuracy & loss Arrays\n",
    "train_acc_array=[]\n",
    "train_loss_array=[]\n",
    "val_acc_array=[]\n",
    "val_loss_array=[]\n",
    "\n",
    "#Training model on train and validation sets\n",
    "for e in range(epoch): \n",
    "    startTime = time.time()\n",
    "    train_loss=0.0\n",
    "    num_correct = 0\n",
    "    num_samples = 0\n",
    "    \n",
    "    #Training loop\n",
    "    for batch_idx, (data, targets) in enumerate(train_loader):\n",
    "        #Transfer data to GPU if available\n",
    "        data = data.to(DEVICE)\n",
    "        targets = targets.to(DEVICE)\n",
    "        ## Clear gradients\n",
    "        optimizer.zero_grad()\n",
    "        #Forward pass\n",
    "        scores = model(data)\n",
    "        #find the loss\n",
    "        loss = criterion(scores,targets)\n",
    "        #Calculate gradients\n",
    "        loss.backward()\n",
    "        #Update weights\n",
    "        optimizer.step()\n",
    "        #Calculate loss\n",
    "        train_loss += loss.item()\n",
    "        #calulcate Accuracy\n",
    "        _, predictions = scores.max(1)\n",
    "        num_correct += (predictions == targets).sum()\n",
    "        num_samples += predictions.size(0)\n",
    "    print(f\"Training Epoch {e+1} ] Accuracy : {float(num_correct) / float(num_samples) * 100:.2f}% Training Loss : {train_loss/len(train_loader):.6f}\")\n",
    "    train_loss_array.append(train_loss/len(train_loader))\n",
    "    train_acc_array.append(float(num_correct) / float(num_samples) * 100)\n",
    "\n",
    "    #Validation Loop\n",
    "    with torch.no_grad():\n",
    "        valid_loss=0.0\n",
    "        num_correct = 0\n",
    "        num_samples = 0\n",
    "        for batch_idx, (data,targets) in enumerate(val_loader):\n",
    "            data = data.to(DEVICE)\n",
    "            targets = targets.to(DEVICE)\n",
    "\n",
    "            ## Forward Pass\n",
    "            scores = model(data)\n",
    "\n",
    "            loss = criterion(scores,targets)\n",
    "            valid_loss+=loss.item() \n",
    "\n",
    "            _, predictions = scores.max(1)\n",
    "            num_correct += (predictions == targets).sum()\n",
    "            num_samples += predictions.size(0)\n",
    "\n",
    "        print(f\"Validation Epoch {e+1} ] Accuracy : {float(num_correct) / float(num_samples) * 100:.2f}%  Loss : {valid_loss/len(val_loader)}\")\n",
    "        val_acc_array.append(float(num_correct) / float(num_samples) * 100)\n",
    "        val_loss_array.append(valid_loss/len(val_loader))\n",
    "    \n",
    "    #Calculate time for each epoch\n",
    "    executionTime = (time.time() - startTime)\n",
    "    totalTime.append(executionTime)\n",
    "    print(f'Epoch {e+1} ] Time taken in seconds : {str(executionTime)}')\n",
    "\n",
    "#Calculating total time for 10 epochs\n",
    "for i in totalTime:\n",
    "    sum = sum + i\n",
    "    \n",
    "print(f'Total time in seconds: {sum}')"
   ]
  },
  {
   "cell_type": "code",
   "execution_count": null,
   "id": "6TIKZy1frBsK",
   "metadata": {
    "colab": {
     "base_uri": "https://localhost:8080/",
     "height": 350
    },
    "id": "6TIKZy1frBsK",
    "outputId": "3cadbd32-ef1b-41ea-9193-2202e31b04a6"
   },
   "outputs": [
    {
     "data": {
      "image/png": "[encoded data removed]",
      "text/plain": [
       "<Figure size 720x360 with 1 Axes>"
      ]
     },
     "metadata": {},
     "output_type": "display_data"
    }
   ],
   "source": [
    "plt.figure(figsize=(10,5))\n",
    "plt.title(\"AlexNet Training and Validation Loss\")\n",
    "plt.plot(val_loss_array,label=\"val\")\n",
    "plt.plot(train_loss_array,label=\"train\")\n",
    "plt.xlabel(\"iterations\")\n",
    "plt.ylabel(\"Loss\")\n",
    "plt.legend()\n",
    "plt.show()"
   ]
  },
  {
   "cell_type": "code",
   "execution_count": null,
   "id": "XkijJsYmr_eS",
   "metadata": {
    "colab": {
     "base_uri": "https://localhost:8080/",
     "height": 350
    },
    "id": "XkijJsYmr_eS",
    "outputId": "78b85b97-189c-4589-82d6-052490b077ac"
   },
   "outputs": [
    {
     "data": {
      "image/png": "[encoded data removed]",
      "text/plain": [
       "<Figure size 720x360 with 1 Axes>"
      ]
     },
     "metadata": {},
     "output_type": "display_data"
    }
   ],
   "source": [
    "plt.figure(figsize=(10,5))\n",
    "plt.title(\"AlexNet Training and Validation Accuracy\")\n",
    "plt.plot(val_acc_array,label=\"val\")\n",
    "plt.plot(train_acc_array,label=\"train\")\n",
    "plt.xlabel(\"iterations\")\n",
    "plt.ylabel(\"Accuracy\")\n",
    "plt.legend()\n",
    "plt.show()"
   ]
  },
  {
   "cell_type": "code",
   "execution_count": null,
   "id": "_9iUx6kUgqpu",
   "metadata": {
    "colab": {
     "base_uri": "https://localhost:8080/"
    },
    "id": "_9iUx6kUgqpu",
    "outputId": "11fc4a36-4289-42e3-d97f-e6bac0ddd3a9"
   },
   "outputs": [
    {
     "name": "stderr",
     "output_type": "stream",
     "text": [
      "/usr/local/lib/python3.7/dist-packages/ipykernel_launcher.py:35: UserWarning: Implicit dimension choice for log_softmax has been deprecated. Change the call to include dim=X as an argument.\n"
     ]
    },
    {
     "name": "stdout",
     "output_type": "stream",
     "text": [
      "Accuracy 91.07%\n"
     ]
    }
   ],
   "source": [
    "#Evaluating Accuracy on test set\n",
    "num_correct = 0\n",
    "num_samples = 0\n",
    "for batch_idx, (data,targets) in enumerate(test_loader):\n",
    "    data = data.to(DEVICE)\n",
    "    targets = targets.to(DEVICE)\n",
    "    ## Forward Pass\n",
    "    scores = model(data)\n",
    "    _, predictions = scores.max(1)\n",
    "    num_correct += (predictions == targets).sum()\n",
    "    num_samples += predictions.size(0)\n",
    "print(f\"Accuracy {float(num_correct) / float(num_samples) * 100:.2f}%\")"
   ]
  },
  {
   "cell_type": "code",
   "execution_count": null,
   "id": "6VsyLjWriCpF",
   "metadata": {
    "colab": {
     "base_uri": "https://localhost:8080/"
    },
    "id": "6VsyLjWriCpF",
    "outputId": "efed2f45-d821-4119-ea2c-9bf2b484ff5e"
   },
   "outputs": [
    {
     "name": "stdout",
     "output_type": "stream",
     "text": [
      "----------------------------------------------------------------\n",
      "        Layer (type)               Output Shape         Param #\n",
      "================================================================\n",
      "            Conv2d-1           [-1, 64, 19, 19]           7,808\n",
      "              ReLU-2           [-1, 64, 19, 19]               0\n",
      " LocalResponseNorm-3           [-1, 64, 19, 19]               0\n",
      "         MaxPool2d-4             [-1, 64, 9, 9]               0\n",
      "            Conv2d-5            [-1, 192, 9, 9]         307,392\n",
      "              ReLU-6            [-1, 192, 9, 9]               0\n",
      "         MaxPool2d-7            [-1, 192, 4, 4]               0\n",
      "            Conv2d-8            [-1, 384, 4, 4]         663,936\n",
      "              ReLU-9            [-1, 384, 4, 4]               0\n",
      "           Conv2d-10            [-1, 256, 4, 4]         884,992\n",
      "             ReLU-11            [-1, 256, 4, 4]               0\n",
      "           Conv2d-12            [-1, 256, 4, 4]         590,080\n",
      "             ReLU-13            [-1, 256, 4, 4]               0\n",
      "        MaxPool2d-14            [-1, 256, 1, 1]               0\n",
      "AdaptiveAvgPool2d-15            [-1, 256, 6, 6]               0\n",
      "          Dropout-16                 [-1, 9216]               0\n",
      "           Linear-17                 [-1, 4096]      37,752,832\n",
      "             ReLU-18                 [-1, 4096]               0\n",
      "          Dropout-19                 [-1, 4096]               0\n",
      "           Linear-20                 [-1, 4096]      16,781,312\n",
      "             ReLU-21                 [-1, 4096]               0\n",
      "           Linear-22                   [-1, 10]          40,970\n",
      "================================================================\n",
      "Total params: 57,029,322\n",
      "Trainable params: 57,029,322\n",
      "Non-trainable params: 0\n",
      "----------------------------------------------------------------\n",
      "Input size (MB): 0.02\n",
      "Forward/backward pass size (MB): 1.35\n",
      "Params size (MB): 217.55\n",
      "Estimated Total Size (MB): 218.92\n",
      "----------------------------------------------------------------\n"
     ]
    },
    {
     "name": "stderr",
     "output_type": "stream",
     "text": [
      "/usr/local/lib/python3.7/dist-packages/ipykernel_launcher.py:35: UserWarning: Implicit dimension choice for log_softmax has been deprecated. Change the call to include dim=X as an argument.\n"
     ]
    }
   ],
   "source": [
    "summary(model,input_size=(1,80,80)) "
   ]
  },
  {
   "cell_type": "markdown",
   "id": "d67zJD44PpmS",
   "metadata": {
    "id": "d67zJD44PpmS"
   },
   "source": [
    "## ResNet\n",
    "ResNet was a real deeper architecture which has 152 layers. It was introduced in the paper “Deep Residual Learning for Image Recognition” it won the Imagenet 2015 competition, ever since most of the CNNsare variants of these Resnets. It became so popular since it avoids the vanishing gradient problem, that is when creating deeper nets mostly loss of the network increased after a certain point both in train and test sets, to avoid this major problem, the authors proposed to use a reference to the previous layer [5] to compute the output at a given layer. In ResNet, the output from the previous layer, which is called residual, is added to the output of the current layer.\n",
    "<img src=\"https://miro.medium.com/max/1100/1*66l48ybZsnQxWLWc_qOZ1w.jpeg\" alt=\"alt\" width=\"150%\"/>\n",
    "<img src=\"https://miro.medium.com/max/1100/0*79p7WhWeMd54YRYr.png\" alt=\"alt\" width=\"150%\"/>"
   ]
  },
  {
   "cell_type": "code",
   "execution_count": null,
   "id": "325Ce3E0gfdc",
   "metadata": {
    "colab": {
     "base_uri": "https://localhost:8080/"
    },
    "id": "325Ce3E0gfdc",
    "outputId": "e56953f2-d78d-4baa-fabe-aa58d2a4567f"
   },
   "outputs": [
    {
     "name": "stdout",
     "output_type": "stream",
     "text": [
      "1.12.1+cu113\n",
      "cuda\n"
     ]
    }
   ],
   "source": [
    "epoch = 10\n",
    "learning_rate = 1e-4\n",
    "DEVICE = (\"cuda\" if torch.cuda.is_available() else \"cpu\")\n",
    "\n",
    "print(torch.__version__)\n",
    "print(DEVICE)#GPU"
   ]
  },
  {
   "cell_type": "code",
   "execution_count": null,
   "id": "feyL1FgJrAP_",
   "metadata": {
    "id": "feyL1FgJrAP_"
   },
   "outputs": [],
   "source": [
    "# an essential block of layers which forms resnets\n",
    "class ResBlock(nn.Module):\n",
    "    def __init__(self, in_channels, out_channels, downsample):\n",
    "        super().__init__()\n",
    "        #shortcut downsampling with stride 2\n",
    "        if downsample:\n",
    "            self.conv1 = nn.Conv2d(in_channels, out_channels, kernel_size=3, stride=2, padding=1)\n",
    "            self.shortcut = nn.Sequential(\n",
    "                nn.Conv2d(in_channels, out_channels, kernel_size=1, stride=2),\n",
    "                nn.BatchNorm2d(out_channels)\n",
    "            )\n",
    "            #downsampling with stride 1\n",
    "        else:\n",
    "            self.conv1 = nn.Conv2d(in_channels, out_channels, kernel_size=3, stride=1, padding=1)\n",
    "            self.shortcut = nn.Sequential()\n",
    "\n",
    "        self.conv2 = nn.Conv2d(out_channels, out_channels, kernel_size=3, stride=1, padding=1)\n",
    "        self.bn1 = nn.BatchNorm2d(out_channels)\n",
    "        self.bn2 = nn.BatchNorm2d(out_channels)\n",
    "\n",
    "    def forward(self, input):\n",
    "        shortcut = self.shortcut(input)\n",
    "        input = nn.ReLU()(self.bn1(self.conv1(input)))\n",
    "        input = nn.ReLU()(self.bn2(self.conv2(input)))\n",
    "        input = input + shortcut\n",
    "        return nn.ReLU()(input)"
   ]
  },
  {
   "cell_type": "code",
   "execution_count": null,
   "id": "tpdzSW_XVbtn",
   "metadata": {
    "id": "tpdzSW_XVbtn"
   },
   "outputs": [],
   "source": [
    "class ResBottleneckBlock(nn.Module):\n",
    "    def __init__(self, in_channels, out_channels, downsample):\n",
    "        super().__init__()\n",
    "        self.downsample = downsample\n",
    "        self.conv1 = nn.Conv2d(in_channels, out_channels//4, kernel_size=1, stride=1)\n",
    "        self.conv2 = nn.Conv2d(out_channels//4, out_channels//4, kernel_size=3, stride=2 if downsample else 1, padding=1)\n",
    "        self.conv3 = nn.Conv2d(out_channels//4, out_channels, kernel_size=1, stride=1)\n",
    "        self.shortcut = nn.Sequential()\n",
    "        \n",
    "        if self.downsample or in_channels != out_channels:\n",
    "            self.shortcut = nn.Sequential(\n",
    "                nn.Conv2d(in_channels, out_channels, kernel_size=1, stride=2 if self.downsample else 1),\n",
    "                nn.BatchNorm2d(out_channels)\n",
    "            )\n",
    "\n",
    "        self.bn1 = nn.BatchNorm2d(out_channels//4)\n",
    "        self.bn2 = nn.BatchNorm2d(out_channels//4)\n",
    "        self.bn3 = nn.BatchNorm2d(out_channels)\n",
    "\n",
    "    def forward(self, input):\n",
    "        shortcut = self.shortcut(input)\n",
    "        input = nn.ReLU()(self.bn1(self.conv1(input)))\n",
    "        input = nn.ReLU()(self.bn2(self.conv2(input)))\n",
    "        input = nn.ReLU()(self.bn3(self.conv3(input)))\n",
    "        input = input + shortcut\n",
    "        return nn.ReLU()(input)"
   ]
  },
  {
   "cell_type": "code",
   "execution_count": null,
   "id": "o4uvyUPYVXVE",
   "metadata": {
    "id": "o4uvyUPYVXVE"
   },
   "outputs": [],
   "source": [
    "\n",
    "class ResNet(nn.Module):\n",
    "    def __init__(self, in_channels, resblock, repeat, useBottleneck=False, outputs=1000):\n",
    "        super().__init__()\n",
    "        #Layer0 consists of a 7*7 convolution and a 3*3 max pooling\n",
    "        self.layer0 = nn.Sequential(\n",
    "            nn.Conv2d(in_channels, 64, kernel_size=7, stride=2, padding=3),\n",
    "            nn.MaxPool2d(kernel_size=3, stride=2, padding=1),\n",
    "            nn.BatchNorm2d(64),\n",
    "            nn.ReLU()\n",
    "        )\n",
    "\n",
    "        if useBottleneck:\n",
    "            filters = [64, 256, 512, 1024, 2048]\n",
    "        else:\n",
    "            filters = [64, 64, 128, 256, 512]\n",
    "\n",
    "        self.layer1 = nn.Sequential()\n",
    "        self.layer1.add_module('conv2_1', resblock(filters[0], filters[1], downsample=False))\n",
    "        for i in range(1, repeat[0]):\n",
    "                self.layer1.add_module('conv2_%d'%(i+1,), resblock(filters[1], filters[1], downsample=False))\n",
    "\n",
    "        self.layer2 = nn.Sequential()\n",
    "        self.layer2.add_module('conv3_1', resblock(filters[1], filters[2], downsample=True))\n",
    "        for i in range(1, repeat[1]):\n",
    "                self.layer2.add_module('conv3_%d' % (i+1,), resblock(filters[2], filters[2], downsample=False))\n",
    "\n",
    "        self.layer3 = nn.Sequential()\n",
    "        self.layer3.add_module('conv4_1', resblock(filters[2], filters[3], downsample=True))\n",
    "        for i in range(1, repeat[2]):\n",
    "            self.layer3.add_module('conv2_%d' % (i+1,), resblock(filters[3], filters[3], downsample=False))\n",
    "\n",
    "        self.layer4 = nn.Sequential()\n",
    "        self.layer4.add_module('conv5_1', resblock(filters[3], filters[4], downsample=True))\n",
    "        for i in range(1, repeat[3]):\n",
    "            self.layer4.add_module('conv3_%d'%(i+1,), resblock(filters[4], filters[4], downsample=False))\n",
    "\n",
    "        #Final layer uses global average pooling gap and a fully connected layer, GAP calculates mean of each feature map and then concatenates all the values into a one-dimension list.\n",
    "        self.gap = torch.nn.AdaptiveAvgPool2d(1)\n",
    "        self.fc = torch.nn.Linear(filters[4], outputs)\n",
    "\n",
    "    def forward(self, input):\n",
    "        input = self.layer0(input)\n",
    "        input = self.layer1(input)\n",
    "        input = self.layer2(input)\n",
    "        input = self.layer3(input)\n",
    "        input = self.layer4(input)\n",
    "        input = self.gap(input)\n",
    "        input = torch.flatten(input, start_dim=1)\n",
    "        input = self.fc(input)\n",
    "\n",
    "        return F.log_softmax(input)"
   ]
  },
  {
   "cell_type": "code",
   "execution_count": null,
   "id": "DAFk7Tg6gcGn",
   "metadata": {
    "id": "DAFk7Tg6gcGn"
   },
   "outputs": [],
   "source": [
    "#Calling ResNet18 model for 10 epochs\n",
    "#1 image channel, 10 output classes\n",
    "model = ResNet(1, ResBlock, [2,2,2,2], useBottleneck=False, outputs=10).to(DEVICE)#set model weight to GPU\n",
    "# #ResNet34\n",
    "# model = ResNet(1, ResBlock, [3,4,6,3], useBottleneck=False, outputs=10).to(DEVICE)\n",
    "# #ResNet50\n",
    "# model = ResNet(1, ResBottleneckBlock, [3,4,6,3], useBottleneck=True, outputs=10).to(DEVICE)\n",
    "# #ResNet101\n",
    "# model = ResNet(1, ResBottleneckBlock, [3,4,23,3], useBottleneck=True, outputs=10).to(DEVICE)\n",
    "# #ResNet152\n",
    "# model = ResNet(1, ResBottleneckBlock, [3,8,63,3], useBottleneck=True, outputs=10).to(DEVICE)\n",
    "\n",
    "criterion = nn.CrossEntropyLoss()\n",
    "optimizer = optim.Adam(model.parameters(), lr= learning_rate)"
   ]
  },
  {
   "cell_type": "code",
   "execution_count": null,
   "id": "Il36UI7igcMl",
   "metadata": {
    "colab": {
     "base_uri": "https://localhost:8080/"
    },
    "id": "Il36UI7igcMl",
    "outputId": "b8e3f6a2-1f44-40c3-f5b6-24426f9b6e00"
   },
   "outputs": [
    {
     "name": "stderr",
     "output_type": "stream",
     "text": [
      "/usr/local/lib/python3.7/dist-packages/ipykernel_launcher.py:51: UserWarning: Implicit dimension choice for log_softmax has been deprecated. Change the call to include dim=X as an argument.\n"
     ]
    },
    {
     "name": "stdout",
     "output_type": "stream",
     "text": [
      "Training Epoch 1 ] Accuracy : 86.68% Training Loss : 0.370817\n",
      "Validation Epoch 1 ] Accuracy : 90.50%  Loss : 0.26792272156476976\n",
      "Epoch 1 ] Time taken in seconds : 44.51798748970032\n",
      "Training Epoch 2 ] Accuracy : 91.74% Training Loss : 0.224426\n",
      "Validation Epoch 2 ] Accuracy : 91.73%  Loss : 0.23189877188205718\n",
      "Epoch 2 ] Time taken in seconds : 42.93033719062805\n",
      "Training Epoch 3 ] Accuracy : 93.49% Training Loss : 0.175276\n",
      "Validation Epoch 3 ] Accuracy : 90.75%  Loss : 0.25957626396417616\n",
      "Epoch 3 ] Time taken in seconds : 42.94174027442932\n",
      "Training Epoch 4 ] Accuracy : 95.04% Training Loss : 0.134400\n",
      "Validation Epoch 4 ] Accuracy : 91.43%  Loss : 0.250556756734848\n",
      "Epoch 4 ] Time taken in seconds : 42.98606729507446\n",
      "Training Epoch 5 ] Accuracy : 96.13% Training Loss : 0.104851\n",
      "Validation Epoch 5 ] Accuracy : 91.34%  Loss : 0.26967595958709717\n",
      "Epoch 5 ] Time taken in seconds : 43.01645588874817\n",
      "Training Epoch 6 ] Accuracy : 97.02% Training Loss : 0.082329\n",
      "Validation Epoch 6 ] Accuracy : 91.26%  Loss : 0.2853228459954262\n",
      "Epoch 6 ] Time taken in seconds : 43.11439299583435\n",
      "Training Epoch 7 ] Accuracy : 97.51% Training Loss : 0.068910\n",
      "Validation Epoch 7 ] Accuracy : 91.54%  Loss : 0.27850570204854014\n",
      "Epoch 7 ] Time taken in seconds : 42.84198260307312\n",
      "Training Epoch 8 ] Accuracy : 98.04% Training Loss : 0.053349\n",
      "Validation Epoch 8 ] Accuracy : 91.70%  Loss : 0.3126323148012161\n",
      "Epoch 8 ] Time taken in seconds : 42.98898148536682\n",
      "Training Epoch 9 ] Accuracy : 98.21% Training Loss : 0.049963\n",
      "Validation Epoch 9 ] Accuracy : 91.27%  Loss : 0.320305811226368\n",
      "Epoch 9 ] Time taken in seconds : 42.7184841632843\n",
      "Training Epoch 10 ] Accuracy : 98.42% Training Loss : 0.042921\n",
      "Validation Epoch 10 ] Accuracy : 91.69%  Loss : 0.32068473875522613\n",
      "Epoch 10 ] Time taken in seconds : 43.00781774520874\n",
      "Total time in seconds: 431.06424713134766\n"
     ]
    }
   ],
   "source": [
    "sum = 0\n",
    "\n",
    "#epoch=10\n",
    "totalTime=[]\n",
    "\n",
    "#Train and Val accuracy & loss Arrays\n",
    "train_acc_array=[]\n",
    "train_loss_array=[]\n",
    "val_acc_array=[]\n",
    "val_loss_array=[]\n",
    "\n",
    "#Training model on train and validation sets\n",
    "for e in range(epoch): \n",
    "    startTime = time.time()\n",
    "    train_loss=0.0\n",
    "    num_correct=0\n",
    "    num_samples=0\n",
    "    \n",
    "    #Training loop\n",
    "    for batch_idx, (data, targets) in enumerate(train_loader):\n",
    "        #Transfer data to GPU if available\n",
    "        data = data.to(DEVICE)\n",
    "        targets = targets.to(DEVICE)\n",
    "        ## Clear gradients\n",
    "        optimizer.zero_grad()\n",
    "        #Forward pass\n",
    "        scores = model(data)\n",
    "        #find the loss\n",
    "        loss = criterion(scores,targets)\n",
    "        #Calculate gradients\n",
    "        loss.backward()\n",
    "        #Update weights\n",
    "        optimizer.step()\n",
    "        #Calculate loss\n",
    "        train_loss += loss.item()\n",
    "        #calulcate Accuracy\n",
    "        _, predictions = scores.max(1)\n",
    "        num_correct += (predictions == targets).sum()\n",
    "        num_samples += predictions.size(0)\n",
    "    print(f\"Training Epoch {e+1} ] Accuracy : {float(num_correct) / float(num_samples) * 100:.2f}% Training Loss : {train_loss/len(train_loader):.6f}\")\n",
    "    train_loss_array.append(train_loss/len(train_loader))\n",
    "    train_acc_array.append(float(num_correct) / float(num_samples) * 100)\n",
    "\n",
    "    num_correct=0\n",
    "    num_samples=0\n",
    "    #Validation Loop\n",
    "    with torch.no_grad():\n",
    "        valid_loss=0.0\n",
    "        num_correct = 0\n",
    "        num_samples = 0\n",
    "        for batch_idx, (data,targets) in enumerate(val_loader):\n",
    "            data = data.to(DEVICE)\n",
    "            targets = targets.to(DEVICE)\n",
    "\n",
    "            ## Forward Pass\n",
    "            scores = model(data)\n",
    "\n",
    "            loss = criterion(scores,targets)\n",
    "            valid_loss += loss.item() \n",
    "\n",
    "            _, predictions = scores.max(1)\n",
    "            num_correct += (predictions == targets).sum()\n",
    "            num_samples += predictions.size(0)\n",
    "\n",
    "        print(f\"Validation Epoch {e+1} ] Accuracy : {float(num_correct) / float(num_samples) * 100:.2f}%  Loss : {valid_loss/len(val_loader)}\")\n",
    "        val_acc_array.append(float(num_correct) / float(num_samples) * 100)\n",
    "        val_loss_array.append(valid_loss/len(val_loader))\n",
    "    \n",
    "    #Calculate time for each epoch\n",
    "    executionTime = (time.time() - startTime)\n",
    "    totalTime.append(executionTime)\n",
    "    print(f'Epoch {e+1} ] Time taken in seconds : {str(executionTime)}')\n",
    "\n",
    "#Calculating total time for 10 epochs\n",
    "for i in totalTime:\n",
    "    sum = sum + i\n",
    "    \n",
    "print(f'Total time in seconds: {sum}')"
   ]
  },
  {
   "cell_type": "code",
   "execution_count": null,
   "id": "sgJS7EmzgcPO",
   "metadata": {
    "colab": {
     "base_uri": "https://localhost:8080/",
     "height": 350
    },
    "id": "sgJS7EmzgcPO",
    "outputId": "491212a3-ea9c-4f24-8586-44311b89f5be"
   },
   "outputs": [
    {
     "data": {
      "image/png": "[encoded data removed]",
      "text/plain": [
       "<Figure size 720x360 with 1 Axes>"
      ]
     },
     "metadata": {},
     "output_type": "display_data"
    }
   ],
   "source": [
    "plt.figure(figsize=(10,5))\n",
    "plt.title(\"ResNet18 Training and Validation Loss\")\n",
    "plt.plot(val_loss_array,label=\"val\")\n",
    "plt.plot(train_loss_array,label=\"train\")\n",
    "plt.xlabel(\"iterations\")\n",
    "plt.ylabel(\"Loss\")\n",
    "plt.legend()\n",
    "plt.show()"
   ]
  },
  {
   "cell_type": "code",
   "execution_count": null,
   "id": "MyQHl_0GgcRp",
   "metadata": {
    "colab": {
     "base_uri": "https://localhost:8080/",
     "height": 350
    },
    "id": "MyQHl_0GgcRp",
    "outputId": "ceb86cad-c08b-47e8-d30e-7aa44ec281e2"
   },
   "outputs": [
    {
     "data": {
      "image/png": "[encoded data removed]",
      "text/plain": [
       "<Figure size 720x360 with 1 Axes>"
      ]
     },
     "metadata": {},
     "output_type": "display_data"
    }
   ],
   "source": [
    "plt.figure(figsize=(10,5))\n",
    "plt.title(\"ResNet18 Training and Validation Accuracy\")\n",
    "plt.plot(val_acc_array,label=\"val\")\n",
    "plt.plot(train_acc_array,label=\"train\")\n",
    "plt.xlabel(\"iterations\")\n",
    "plt.ylabel(\"Accuracy\")\n",
    "plt.legend()\n",
    "plt.show()"
   ]
  },
  {
   "cell_type": "code",
   "execution_count": null,
   "id": "c8rmXy7Hgxmx",
   "metadata": {
    "colab": {
     "base_uri": "https://localhost:8080/"
    },
    "id": "c8rmXy7Hgxmx",
    "outputId": "2010cd0a-61d4-4e30-8e32-c46b97033ed4"
   },
   "outputs": [
    {
     "name": "stderr",
     "output_type": "stream",
     "text": [
      "/usr/local/lib/python3.7/dist-packages/ipykernel_launcher.py:51: UserWarning: Implicit dimension choice for log_softmax has been deprecated. Change the call to include dim=X as an argument.\n"
     ]
    },
    {
     "name": "stdout",
     "output_type": "stream",
     "text": [
      "Accuracy 91.21%\n"
     ]
    }
   ],
   "source": [
    "#Evaluating Accuracy on test set\n",
    "num_correct = 0\n",
    "num_samples = 0\n",
    "for batch_idx, (data,targets) in enumerate(test_loader):\n",
    "    data = data.to(DEVICE)\n",
    "    targets = targets.to(DEVICE)\n",
    "    ## Forward Pass\n",
    "    scores = model(data)\n",
    "    _, predictions = scores.max(1)\n",
    "    num_correct += (predictions == targets).sum()\n",
    "    num_samples += predictions.size(0)\n",
    "print(f\"Accuracy {float(num_correct) / float(num_samples) * 100:.2f}%\")"
   ]
  },
  {
   "cell_type": "code",
   "execution_count": null,
   "id": "cEJHGUJwg0PC",
   "metadata": {
    "colab": {
     "base_uri": "https://localhost:8080/"
    },
    "id": "cEJHGUJwg0PC",
    "outputId": "b0cfa660-b042-4c08-f542-b3ed8a70e548"
   },
   "outputs": [
    {
     "name": "stdout",
     "output_type": "stream",
     "text": [
      "----------------------------------------------------------------\n",
      "        Layer (type)               Output Shape         Param #\n",
      "================================================================\n",
      "            Conv2d-1           [-1, 64, 40, 40]           3,200\n",
      "         MaxPool2d-2           [-1, 64, 20, 20]               0\n",
      "       BatchNorm2d-3           [-1, 64, 20, 20]             128\n",
      "              ReLU-4           [-1, 64, 20, 20]               0\n",
      "            Conv2d-5           [-1, 64, 20, 20]          36,928\n",
      "       BatchNorm2d-6           [-1, 64, 20, 20]             128\n",
      "            Conv2d-7           [-1, 64, 20, 20]          36,928\n",
      "       BatchNorm2d-8           [-1, 64, 20, 20]             128\n",
      "          ResBlock-9           [-1, 64, 20, 20]               0\n",
      "           Conv2d-10           [-1, 64, 20, 20]          36,928\n",
      "      BatchNorm2d-11           [-1, 64, 20, 20]             128\n",
      "           Conv2d-12           [-1, 64, 20, 20]          36,928\n",
      "      BatchNorm2d-13           [-1, 64, 20, 20]             128\n",
      "         ResBlock-14           [-1, 64, 20, 20]               0\n",
      "           Conv2d-15          [-1, 128, 10, 10]           8,320\n",
      "      BatchNorm2d-16          [-1, 128, 10, 10]             256\n",
      "           Conv2d-17          [-1, 128, 10, 10]          73,856\n",
      "      BatchNorm2d-18          [-1, 128, 10, 10]             256\n",
      "           Conv2d-19          [-1, 128, 10, 10]         147,584\n",
      "      BatchNorm2d-20          [-1, 128, 10, 10]             256\n",
      "         ResBlock-21          [-1, 128, 10, 10]               0\n",
      "           Conv2d-22          [-1, 128, 10, 10]         147,584\n",
      "      BatchNorm2d-23          [-1, 128, 10, 10]             256\n",
      "           Conv2d-24          [-1, 128, 10, 10]         147,584\n",
      "      BatchNorm2d-25          [-1, 128, 10, 10]             256\n",
      "         ResBlock-26          [-1, 128, 10, 10]               0\n",
      "           Conv2d-27            [-1, 256, 5, 5]          33,024\n",
      "      BatchNorm2d-28            [-1, 256, 5, 5]             512\n",
      "           Conv2d-29            [-1, 256, 5, 5]         295,168\n",
      "      BatchNorm2d-30            [-1, 256, 5, 5]             512\n",
      "           Conv2d-31            [-1, 256, 5, 5]         590,080\n",
      "      BatchNorm2d-32            [-1, 256, 5, 5]             512\n",
      "         ResBlock-33            [-1, 256, 5, 5]               0\n",
      "           Conv2d-34            [-1, 256, 5, 5]         590,080\n",
      "      BatchNorm2d-35            [-1, 256, 5, 5]             512\n",
      "           Conv2d-36            [-1, 256, 5, 5]         590,080\n",
      "      BatchNorm2d-37            [-1, 256, 5, 5]             512\n",
      "         ResBlock-38            [-1, 256, 5, 5]               0\n",
      "           Conv2d-39            [-1, 512, 3, 3]         131,584\n",
      "      BatchNorm2d-40            [-1, 512, 3, 3]           1,024\n",
      "           Conv2d-41            [-1, 512, 3, 3]       1,180,160\n",
      "      BatchNorm2d-42            [-1, 512, 3, 3]           1,024\n",
      "           Conv2d-43            [-1, 512, 3, 3]       2,359,808\n",
      "      BatchNorm2d-44            [-1, 512, 3, 3]           1,024\n",
      "         ResBlock-45            [-1, 512, 3, 3]               0\n",
      "           Conv2d-46            [-1, 512, 3, 3]       2,359,808\n",
      "      BatchNorm2d-47            [-1, 512, 3, 3]           1,024\n",
      "           Conv2d-48            [-1, 512, 3, 3]       2,359,808\n",
      "      BatchNorm2d-49            [-1, 512, 3, 3]           1,024\n",
      "         ResBlock-50            [-1, 512, 3, 3]               0\n",
      "AdaptiveAvgPool2d-51            [-1, 512, 1, 1]               0\n",
      "           Linear-52                   [-1, 10]           5,130\n",
      "================================================================\n",
      "Total params: 11,180,170\n",
      "Trainable params: 11,180,170\n",
      "Non-trainable params: 0\n",
      "----------------------------------------------------------------\n",
      "Input size (MB): 0.02\n",
      "Forward/backward pass size (MB): 5.50\n",
      "Params size (MB): 42.65\n",
      "Estimated Total Size (MB): 48.18\n",
      "----------------------------------------------------------------\n"
     ]
    },
    {
     "name": "stderr",
     "output_type": "stream",
     "text": [
      "/usr/local/lib/python3.7/dist-packages/ipykernel_launcher.py:51: UserWarning: Implicit dimension choice for log_softmax has been deprecated. Change the call to include dim=X as an argument.\n"
     ]
    }
   ],
   "source": [
    "summary(model,input_size=(1,80,80)) "
   ]
  },
  {
   "cell_type": "code",
   "execution_count": null,
   "id": "d6gdHWB3RE7Q",
   "metadata": {
    "id": "d6gdHWB3RE7Q"
   },
   "outputs": [],
   "source": [
    "#Calling ResNet152 model for 10 epochs\n",
    "#1 image channel, 10 output classes\n",
    "#model = ResNet(1, ResBlock, [2,2,2,2], useBottleneck=False, outputs=10).to(DEVICE)#set model weight to GPU\n",
    "# #ResNet34\n",
    "# model = ResNet(1, ResBlock, [3,4,6,3], useBottleneck=False, outputs=10).to(DEVICE)\n",
    "# #ResNet50\n",
    "# model = ResNet(1, ResBottleneckBlock, [3,4,6,3], useBottleneck=True, outputs=10).to(DEVICE)\n",
    "# #ResNet101\n",
    "# model = ResNet(1, ResBottleneckBlock, [3,4,23,3], useBottleneck=True, outputs=10).to(DEVICE)\n",
    "# #ResNet152\n",
    "model = ResNet(1, ResBottleneckBlock, [3,8,63,3], useBottleneck=True, outputs=10).to(DEVICE)\n",
    "\n",
    "criterion = nn.CrossEntropyLoss()\n",
    "optimizer = optim.Adam(model.parameters(), lr= learning_rate)"
   ]
  },
  {
   "cell_type": "code",
   "execution_count": null,
   "id": "mrQp8E7-RUBV",
   "metadata": {
    "colab": {
     "base_uri": "https://localhost:8080/"
    },
    "id": "mrQp8E7-RUBV",
    "outputId": "b7855724-dbd8-40ce-d9f3-6b51e5136c58"
   },
   "outputs": [
    {
     "name": "stderr",
     "output_type": "stream",
     "text": [
      "/usr/local/lib/python3.7/dist-packages/ipykernel_launcher.py:51: UserWarning: Implicit dimension choice for log_softmax has been deprecated. Change the call to include dim=X as an argument.\n"
     ]
    },
    {
     "name": "stdout",
     "output_type": "stream",
     "text": [
      "Training Epoch 1 ] Accuracy : 76.68% Training Loss : 0.652797\n",
      "Validation Epoch 1 ] Accuracy : 86.32%  Loss : 0.3833806518316269\n",
      "Epoch 1 ] Time taken in seconds : 365.0293138027191\n",
      "Training Epoch 2 ] Accuracy : 87.74% Training Loss : 0.333308\n",
      "Validation Epoch 2 ] Accuracy : 87.94%  Loss : 0.3370537688732147\n",
      "Epoch 2 ] Time taken in seconds : 355.4191415309906\n",
      "Training Epoch 3 ] Accuracy : 90.49% Training Loss : 0.265633\n",
      "Validation Epoch 3 ] Accuracy : 90.37%  Loss : 0.2715785890221596\n",
      "Epoch 3 ] Time taken in seconds : 355.82997822761536\n",
      "Training Epoch 4 ] Accuracy : 91.96% Training Loss : 0.216842\n",
      "Validation Epoch 4 ] Accuracy : 90.12%  Loss : 0.27462056356668474\n",
      "Epoch 4 ] Time taken in seconds : 355.33411717414856\n",
      "Training Epoch 5 ] Accuracy : 93.25% Training Loss : 0.185031\n",
      "Validation Epoch 5 ] Accuracy : 90.27%  Loss : 0.2780293313860893\n",
      "Epoch 5 ] Time taken in seconds : 355.7592976093292\n",
      "Training Epoch 6 ] Accuracy : 93.82% Training Loss : 0.166583\n",
      "Validation Epoch 6 ] Accuracy : 88.76%  Loss : 0.3258189650774002\n",
      "Epoch 6 ] Time taken in seconds : 355.424391746521\n",
      "Training Epoch 7 ] Accuracy : 93.76% Training Loss : 0.172650\n",
      "Validation Epoch 7 ] Accuracy : 90.52%  Loss : 0.2650676791071892\n",
      "Epoch 7 ] Time taken in seconds : 355.4861674308777\n",
      "Training Epoch 8 ] Accuracy : 95.56% Training Loss : 0.121318\n",
      "Validation Epoch 8 ] Accuracy : 90.95%  Loss : 0.2805520569682121\n",
      "Epoch 8 ] Time taken in seconds : 355.2003421783447\n",
      "Training Epoch 9 ] Accuracy : 95.92% Training Loss : 0.111709\n",
      "Validation Epoch 9 ] Accuracy : 91.72%  Loss : 0.24864640855789186\n",
      "Epoch 9 ] Time taken in seconds : 355.2030248641968\n",
      "Training Epoch 10 ] Accuracy : 96.47% Training Loss : 0.098895\n",
      "Validation Epoch 10 ] Accuracy : 91.77%  Loss : 0.25649500894546506\n",
      "Epoch 10 ] Time taken in seconds : 356.12634229660034\n",
      "Total time in seconds: 3564.8121168613434\n"
     ]
    }
   ],
   "source": [
    "sum = 0\n",
    "\n",
    "#epoch=10\n",
    "totalTime=[]\n",
    "\n",
    "#Train and Val accuracy & loss Arrays\n",
    "train_acc_array=[]\n",
    "train_loss_array=[]\n",
    "val_acc_array=[]\n",
    "val_loss_array=[]\n",
    "\n",
    "#Training model on train and validation sets\n",
    "for e in range(epoch): \n",
    "    startTime = time.time()\n",
    "    train_loss=0.0\n",
    "    num_correct=0\n",
    "    num_samples=0\n",
    "    \n",
    "    #Training loop\n",
    "    for batch_idx, (data, targets) in enumerate(train_loader):\n",
    "        #Transfer data to GPU if available\n",
    "        data = data.to(DEVICE)\n",
    "        targets = targets.to(DEVICE)\n",
    "        ## Clear gradients\n",
    "        optimizer.zero_grad()\n",
    "        #Forward pass\n",
    "        scores = model(data)\n",
    "        #find the loss\n",
    "        loss = criterion(scores,targets)\n",
    "        #Calculate gradients\n",
    "        loss.backward()\n",
    "        #Update weights\n",
    "        optimizer.step()\n",
    "        #Calculate loss\n",
    "        train_loss += loss.item()\n",
    "        #calulcate Accuracy\n",
    "        _, predictions = scores.max(1)\n",
    "        num_correct += (predictions == targets).sum()\n",
    "        num_samples += predictions.size(0)\n",
    "    print(f\"Training Epoch {e+1} ] Accuracy : {float(num_correct) / float(num_samples) * 100:.2f}% Training Loss : {train_loss/len(train_loader):.6f}\")\n",
    "    train_loss_array.append(train_loss/len(train_loader))\n",
    "    train_acc_array.append(float(num_correct) / float(num_samples) * 100)\n",
    "\n",
    "    num_correct=0\n",
    "    num_samples=0\n",
    "    #Validation Loop\n",
    "    with torch.no_grad():\n",
    "        valid_loss=0.0\n",
    "        num_correct = 0\n",
    "        num_samples = 0\n",
    "        for batch_idx, (data,targets) in enumerate(val_loader):\n",
    "            data = data.to(DEVICE)\n",
    "            targets = targets.to(DEVICE)\n",
    "\n",
    "            ## Forward Pass\n",
    "            scores = model(data)\n",
    "\n",
    "            loss = criterion(scores,targets)\n",
    "            valid_loss+=loss.item()\n",
    "\n",
    "            _, predictions = scores.max(1)\n",
    "            num_correct += (predictions == targets).sum()\n",
    "            num_samples += predictions.size(0)\n",
    "\n",
    "        print(f\"Validation Epoch {e+1} ] Accuracy : {float(num_correct) / float(num_samples) * 100:.2f}%  Loss : {valid_loss/len(val_loader)}\")\n",
    "        val_acc_array.append(float(num_correct) / float(num_samples) * 100)\n",
    "        val_loss_array.append(valid_loss/len(val_loader))\n",
    "    \n",
    "    #Calculate time for each epoch\n",
    "    executionTime = (time.time() - startTime)\n",
    "    totalTime.append(executionTime)\n",
    "    print(f'Epoch {e+1} ] Time taken in seconds : {str(executionTime)}')\n",
    "\n",
    "#Calculating total time for 10 epochs\n",
    "for i in totalTime:\n",
    "    sum = sum + i\n",
    "    \n",
    "print(f'Total time in seconds: {sum}')"
   ]
  },
  {
   "cell_type": "code",
   "execution_count": null,
   "id": "BIbuP3oxoeEy",
   "metadata": {
    "colab": {
     "base_uri": "https://localhost:8080/",
     "height": 350
    },
    "id": "BIbuP3oxoeEy",
    "outputId": "9b3c83f8-3a43-4b41-80df-3964fcd80781"
   },
   "outputs": [
    {
     "data": {
      "image/png": "[encoded data removed]",
      "text/plain": [
       "<Figure size 720x360 with 1 Axes>"
      ]
     },
     "metadata": {},
     "output_type": "display_data"
    }
   ],
   "source": [
    "plt.figure(figsize=(10,5))\n",
    "plt.title(\"ResNet-152 Training and Validation Loss\")\n",
    "plt.plot(val_loss_array,label=\"val\")\n",
    "plt.plot(train_loss_array,label=\"train\")\n",
    "plt.xlabel(\"iterations\")\n",
    "plt.ylabel(\"Loss\")\n",
    "plt.legend()\n",
    "plt.show()"
   ]
  },
  {
   "cell_type": "code",
   "execution_count": null,
   "id": "IMCkeH7goebN",
   "metadata": {
    "colab": {
     "base_uri": "https://localhost:8080/",
     "height": 350
    },
    "id": "IMCkeH7goebN",
    "outputId": "6261835e-c2e8-4f50-bdcc-d1b15090283f"
   },
   "outputs": [
    {
     "data": {
      "image/png": "[encoded data removed]",
      "text/plain": [
       "<Figure size 720x360 with 1 Axes>"
      ]
     },
     "metadata": {},
     "output_type": "display_data"
    }
   ],
   "source": [
    "plt.figure(figsize=(10,5))\n",
    "plt.title(\"ResNet152 Training and Validation Accuracy\")\n",
    "plt.plot(val_acc_array,label=\"val\")\n",
    "plt.plot(train_acc_array,label=\"train\")\n",
    "plt.xlabel(\"iterations\")\n",
    "plt.ylabel(\"Accuracy\")\n",
    "plt.legend()\n",
    "plt.show()"
   ]
  },
  {
   "cell_type": "code",
   "execution_count": null,
   "id": "o1c3B2YNoeeQ",
   "metadata": {
    "colab": {
     "base_uri": "https://localhost:8080/"
    },
    "id": "o1c3B2YNoeeQ",
    "outputId": "438a5244-bbef-4b42-8e9a-328c3c692b08"
   },
   "outputs": [
    {
     "name": "stderr",
     "output_type": "stream",
     "text": [
      "/usr/local/lib/python3.7/dist-packages/ipykernel_launcher.py:51: UserWarning: Implicit dimension choice for log_softmax has been deprecated. Change the call to include dim=X as an argument.\n"
     ]
    },
    {
     "name": "stdout",
     "output_type": "stream",
     "text": [
      "Accuracy 91.22%\n"
     ]
    }
   ],
   "source": [
    "#Evaluating Accuracy on test set\n",
    "num_correct = 0\n",
    "num_samples = 0\n",
    "for batch_idx, (data,targets) in enumerate(test_loader):\n",
    "    data = data.to(DEVICE)\n",
    "    targets = targets.to(DEVICE)\n",
    "    ## Forward Pass\n",
    "    scores = model(data)\n",
    "    _, predictions = scores.max(1)\n",
    "    num_correct += (predictions == targets).sum()\n",
    "    num_samples += predictions.size(0)\n",
    "print(f\"Accuracy {float(num_correct) / float(num_samples) * 100:.2f}%\")"
   ]
  },
  {
   "cell_type": "code",
   "execution_count": null,
   "id": "BTz5gZWZovcJ",
   "metadata": {
    "colab": {
     "base_uri": "https://localhost:8080/"
    },
    "id": "BTz5gZWZovcJ",
    "outputId": "23d42d7b-a094-46d5-810d-b9183cd6265f"
   },
   "outputs": [
    {
     "name": "stderr",
     "output_type": "stream",
     "text": [
      "/usr/local/lib/python3.7/dist-packages/ipykernel_launcher.py:51: UserWarning: Implicit dimension choice for log_softmax has been deprecated. Change the call to include dim=X as an argument.\n"
     ]
    },
    {
     "name": "stdout",
     "output_type": "stream",
     "text": [
      "----------------------------------------------------------------\n",
      "        Layer (type)               Output Shape         Param #\n",
      "================================================================\n",
      "            Conv2d-1           [-1, 64, 40, 40]           3,200\n",
      "         MaxPool2d-2           [-1, 64, 20, 20]               0\n",
      "       BatchNorm2d-3           [-1, 64, 20, 20]             128\n",
      "              ReLU-4           [-1, 64, 20, 20]               0\n",
      "            Conv2d-5          [-1, 256, 20, 20]          16,640\n",
      "       BatchNorm2d-6          [-1, 256, 20, 20]             512\n",
      "            Conv2d-7           [-1, 64, 20, 20]           4,160\n",
      "       BatchNorm2d-8           [-1, 64, 20, 20]             128\n",
      "            Conv2d-9           [-1, 64, 20, 20]          36,928\n",
      "      BatchNorm2d-10           [-1, 64, 20, 20]             128\n",
      "           Conv2d-11          [-1, 256, 20, 20]          16,640\n",
      "      BatchNorm2d-12          [-1, 256, 20, 20]             512\n",
      "ResBottleneckBlock-13          [-1, 256, 20, 20]               0\n",
      "           Conv2d-14           [-1, 64, 20, 20]          16,448\n",
      "      BatchNorm2d-15           [-1, 64, 20, 20]             128\n",
      "           Conv2d-16           [-1, 64, 20, 20]          36,928\n",
      "      BatchNorm2d-17           [-1, 64, 20, 20]             128\n",
      "           Conv2d-18          [-1, 256, 20, 20]          16,640\n",
      "      BatchNorm2d-19          [-1, 256, 20, 20]             512\n",
      "ResBottleneckBlock-20          [-1, 256, 20, 20]               0\n",
      "           Conv2d-21           [-1, 64, 20, 20]          16,448\n",
      "      BatchNorm2d-22           [-1, 64, 20, 20]             128\n",
      "           Conv2d-23           [-1, 64, 20, 20]          36,928\n",
      "      BatchNorm2d-24           [-1, 64, 20, 20]             128\n",
      "           Conv2d-25          [-1, 256, 20, 20]          16,640\n",
      "      BatchNorm2d-26          [-1, 256, 20, 20]             512\n",
      "ResBottleneckBlock-27          [-1, 256, 20, 20]               0\n",
      "           Conv2d-28          [-1, 512, 10, 10]         131,584\n",
      "      BatchNorm2d-29          [-1, 512, 10, 10]           1,024\n",
      "           Conv2d-30          [-1, 128, 20, 20]          32,896\n",
      "      BatchNorm2d-31          [-1, 128, 20, 20]             256\n",
      "           Conv2d-32          [-1, 128, 10, 10]         147,584\n",
      "      BatchNorm2d-33          [-1, 128, 10, 10]             256\n",
      "           Conv2d-34          [-1, 512, 10, 10]          66,048\n",
      "      BatchNorm2d-35          [-1, 512, 10, 10]           1,024\n",
      "ResBottleneckBlock-36          [-1, 512, 10, 10]               0\n",
      "           Conv2d-37          [-1, 128, 10, 10]          65,664\n",
      "      BatchNorm2d-38          [-1, 128, 10, 10]             256\n",
      "           Conv2d-39          [-1, 128, 10, 10]         147,584\n",
      "      BatchNorm2d-40          [-1, 128, 10, 10]             256\n",
      "           Conv2d-41          [-1, 512, 10, 10]          66,048\n",
      "      BatchNorm2d-42          [-1, 512, 10, 10]           1,024\n",
      "ResBottleneckBlock-43          [-1, 512, 10, 10]               0\n",
      "           Conv2d-44          [-1, 128, 10, 10]          65,664\n",
      "      BatchNorm2d-45          [-1, 128, 10, 10]             256\n",
      "           Conv2d-46          [-1, 128, 10, 10]         147,584\n",
      "      BatchNorm2d-47          [-1, 128, 10, 10]             256\n",
      "           Conv2d-48          [-1, 512, 10, 10]          66,048\n",
      "      BatchNorm2d-49          [-1, 512, 10, 10]           1,024\n",
      "ResBottleneckBlock-50          [-1, 512, 10, 10]               0\n",
      "           Conv2d-51          [-1, 128, 10, 10]          65,664\n",
      "      BatchNorm2d-52          [-1, 128, 10, 10]             256\n",
      "           Conv2d-53          [-1, 128, 10, 10]         147,584\n",
      "      BatchNorm2d-54          [-1, 128, 10, 10]             256\n",
      "           Conv2d-55          [-1, 512, 10, 10]          66,048\n",
      "      BatchNorm2d-56          [-1, 512, 10, 10]           1,024\n",
      "ResBottleneckBlock-57          [-1, 512, 10, 10]               0\n",
      "           Conv2d-58          [-1, 128, 10, 10]          65,664\n",
      "      BatchNorm2d-59          [-1, 128, 10, 10]             256\n",
      "           Conv2d-60          [-1, 128, 10, 10]         147,584\n",
      "      BatchNorm2d-61          [-1, 128, 10, 10]             256\n",
      "           Conv2d-62          [-1, 512, 10, 10]          66,048\n",
      "      BatchNorm2d-63          [-1, 512, 10, 10]           1,024\n",
      "ResBottleneckBlock-64          [-1, 512, 10, 10]               0\n",
      "           Conv2d-65          [-1, 128, 10, 10]          65,664\n",
      "      BatchNorm2d-66          [-1, 128, 10, 10]             256\n",
      "           Conv2d-67          [-1, 128, 10, 10]         147,584\n",
      "      BatchNorm2d-68          [-1, 128, 10, 10]             256\n",
      "           Conv2d-69          [-1, 512, 10, 10]          66,048\n",
      "      BatchNorm2d-70          [-1, 512, 10, 10]           1,024\n",
      "ResBottleneckBlock-71          [-1, 512, 10, 10]               0\n",
      "           Conv2d-72          [-1, 128, 10, 10]          65,664\n",
      "      BatchNorm2d-73          [-1, 128, 10, 10]             256\n",
      "           Conv2d-74          [-1, 128, 10, 10]         147,584\n",
      "      BatchNorm2d-75          [-1, 128, 10, 10]             256\n",
      "           Conv2d-76          [-1, 512, 10, 10]          66,048\n",
      "      BatchNorm2d-77          [-1, 512, 10, 10]           1,024\n",
      "ResBottleneckBlock-78          [-1, 512, 10, 10]               0\n",
      "           Conv2d-79          [-1, 128, 10, 10]          65,664\n",
      "      BatchNorm2d-80          [-1, 128, 10, 10]             256\n",
      "           Conv2d-81          [-1, 128, 10, 10]         147,584\n",
      "      BatchNorm2d-82          [-1, 128, 10, 10]             256\n",
      "           Conv2d-83          [-1, 512, 10, 10]          66,048\n",
      "      BatchNorm2d-84          [-1, 512, 10, 10]           1,024\n",
      "ResBottleneckBlock-85          [-1, 512, 10, 10]               0\n",
      "           Conv2d-86           [-1, 1024, 5, 5]         525,312\n",
      "      BatchNorm2d-87           [-1, 1024, 5, 5]           2,048\n",
      "           Conv2d-88          [-1, 256, 10, 10]         131,328\n",
      "      BatchNorm2d-89          [-1, 256, 10, 10]             512\n",
      "           Conv2d-90            [-1, 256, 5, 5]         590,080\n",
      "      BatchNorm2d-91            [-1, 256, 5, 5]             512\n",
      "           Conv2d-92           [-1, 1024, 5, 5]         263,168\n",
      "      BatchNorm2d-93           [-1, 1024, 5, 5]           2,048\n",
      "ResBottleneckBlock-94           [-1, 1024, 5, 5]               0\n",
      "           Conv2d-95            [-1, 256, 5, 5]         262,400\n",
      "      BatchNorm2d-96            [-1, 256, 5, 5]             512\n",
      "           Conv2d-97            [-1, 256, 5, 5]         590,080\n",
      "      BatchNorm2d-98            [-1, 256, 5, 5]             512\n",
      "           Conv2d-99           [-1, 1024, 5, 5]         263,168\n",
      "     BatchNorm2d-100           [-1, 1024, 5, 5]           2,048\n",
      "ResBottleneckBlock-101           [-1, 1024, 5, 5]               0\n",
      "          Conv2d-102            [-1, 256, 5, 5]         262,400\n",
      "     BatchNorm2d-103            [-1, 256, 5, 5]             512\n",
      "          Conv2d-104            [-1, 256, 5, 5]         590,080\n",
      "     BatchNorm2d-105            [-1, 256, 5, 5]             512\n",
      "          Conv2d-106           [-1, 1024, 5, 5]         263,168\n",
      "     BatchNorm2d-107           [-1, 1024, 5, 5]           2,048\n",
      "ResBottleneckBlock-108           [-1, 1024, 5, 5]               0\n",
      "          Conv2d-109            [-1, 256, 5, 5]         262,400\n",
      "     BatchNorm2d-110            [-1, 256, 5, 5]             512\n",
      "          Conv2d-111            [-1, 256, 5, 5]         590,080\n",
      "     BatchNorm2d-112            [-1, 256, 5, 5]             512\n",
      "          Conv2d-113           [-1, 1024, 5, 5]         263,168\n",
      "     BatchNorm2d-114           [-1, 1024, 5, 5]           2,048\n",
      "ResBottleneckBlock-115           [-1, 1024, 5, 5]               0\n",
      "          Conv2d-116            [-1, 256, 5, 5]         262,400\n",
      "     BatchNorm2d-117            [-1, 256, 5, 5]             512\n",
      "          Conv2d-118            [-1, 256, 5, 5]         590,080\n",
      "     BatchNorm2d-119            [-1, 256, 5, 5]             512\n",
      "          Conv2d-120           [-1, 1024, 5, 5]         263,168\n",
      "     BatchNorm2d-121           [-1, 1024, 5, 5]           2,048\n",
      "ResBottleneckBlock-122           [-1, 1024, 5, 5]               0\n",
      "          Conv2d-123            [-1, 256, 5, 5]         262,400\n",
      "     BatchNorm2d-124            [-1, 256, 5, 5]             512\n",
      "          Conv2d-125            [-1, 256, 5, 5]         590,080\n",
      "     BatchNorm2d-126            [-1, 256, 5, 5]             512\n",
      "          Conv2d-127           [-1, 1024, 5, 5]         263,168\n",
      "     BatchNorm2d-128           [-1, 1024, 5, 5]           2,048\n",
      "ResBottleneckBlock-129           [-1, 1024, 5, 5]               0\n",
      "          Conv2d-130            [-1, 256, 5, 5]         262,400\n",
      "     BatchNorm2d-131            [-1, 256, 5, 5]             512\n",
      "          Conv2d-132            [-1, 256, 5, 5]         590,080\n",
      "     BatchNorm2d-133            [-1, 256, 5, 5]             512\n",
      "          Conv2d-134           [-1, 1024, 5, 5]         263,168\n",
      "     BatchNorm2d-135           [-1, 1024, 5, 5]           2,048\n",
      "ResBottleneckBlock-136           [-1, 1024, 5, 5]               0\n",
      "          Conv2d-137            [-1, 256, 5, 5]         262,400\n",
      "     BatchNorm2d-138            [-1, 256, 5, 5]             512\n",
      "          Conv2d-139            [-1, 256, 5, 5]         590,080\n",
      "     BatchNorm2d-140            [-1, 256, 5, 5]             512\n",
      "          Conv2d-141           [-1, 1024, 5, 5]         263,168\n",
      "     BatchNorm2d-142           [-1, 1024, 5, 5]           2,048\n",
      "ResBottleneckBlock-143           [-1, 1024, 5, 5]               0\n",
      "          Conv2d-144            [-1, 256, 5, 5]         262,400\n",
      "     BatchNorm2d-145            [-1, 256, 5, 5]             512\n",
      "          Conv2d-146            [-1, 256, 5, 5]         590,080\n",
      "     BatchNorm2d-147            [-1, 256, 5, 5]             512\n",
      "          Conv2d-148           [-1, 1024, 5, 5]         263,168\n",
      "     BatchNorm2d-149           [-1, 1024, 5, 5]           2,048\n",
      "ResBottleneckBlock-150           [-1, 1024, 5, 5]               0\n",
      "          Conv2d-151            [-1, 256, 5, 5]         262,400\n",
      "     BatchNorm2d-152            [-1, 256, 5, 5]             512\n",
      "          Conv2d-153            [-1, 256, 5, 5]         590,080\n",
      "     BatchNorm2d-154            [-1, 256, 5, 5]             512\n",
      "          Conv2d-155           [-1, 1024, 5, 5]         263,168\n",
      "     BatchNorm2d-156           [-1, 1024, 5, 5]           2,048\n",
      "ResBottleneckBlock-157           [-1, 1024, 5, 5]               0\n",
      "          Conv2d-158            [-1, 256, 5, 5]         262,400\n",
      "     BatchNorm2d-159            [-1, 256, 5, 5]             512\n",
      "          Conv2d-160            [-1, 256, 5, 5]         590,080\n",
      "     BatchNorm2d-161            [-1, 256, 5, 5]             512\n",
      "          Conv2d-162           [-1, 1024, 5, 5]         263,168\n",
      "     BatchNorm2d-163           [-1, 1024, 5, 5]           2,048\n",
      "ResBottleneckBlock-164           [-1, 1024, 5, 5]               0\n",
      "          Conv2d-165            [-1, 256, 5, 5]         262,400\n",
      "     BatchNorm2d-166            [-1, 256, 5, 5]             512\n",
      "          Conv2d-167            [-1, 256, 5, 5]         590,080\n",
      "     BatchNorm2d-168            [-1, 256, 5, 5]             512\n",
      "          Conv2d-169           [-1, 1024, 5, 5]         263,168\n",
      "     BatchNorm2d-170           [-1, 1024, 5, 5]           2,048\n",
      "ResBottleneckBlock-171           [-1, 1024, 5, 5]               0\n",
      "          Conv2d-172            [-1, 256, 5, 5]         262,400\n",
      "     BatchNorm2d-173            [-1, 256, 5, 5]             512\n",
      "          Conv2d-174            [-1, 256, 5, 5]         590,080\n",
      "     BatchNorm2d-175            [-1, 256, 5, 5]             512\n",
      "          Conv2d-176           [-1, 1024, 5, 5]         263,168\n",
      "     BatchNorm2d-177           [-1, 1024, 5, 5]           2,048\n",
      "ResBottleneckBlock-178           [-1, 1024, 5, 5]               0\n",
      "          Conv2d-179            [-1, 256, 5, 5]         262,400\n",
      "     BatchNorm2d-180            [-1, 256, 5, 5]             512\n",
      "          Conv2d-181            [-1, 256, 5, 5]         590,080\n",
      "     BatchNorm2d-182            [-1, 256, 5, 5]             512\n",
      "          Conv2d-183           [-1, 1024, 5, 5]         263,168\n",
      "     BatchNorm2d-184           [-1, 1024, 5, 5]           2,048\n",
      "ResBottleneckBlock-185           [-1, 1024, 5, 5]               0\n",
      "          Conv2d-186            [-1, 256, 5, 5]         262,400\n",
      "     BatchNorm2d-187            [-1, 256, 5, 5]             512\n",
      "          Conv2d-188            [-1, 256, 5, 5]         590,080\n",
      "     BatchNorm2d-189            [-1, 256, 5, 5]             512\n",
      "          Conv2d-190           [-1, 1024, 5, 5]         263,168\n",
      "     BatchNorm2d-191           [-1, 1024, 5, 5]           2,048\n",
      "ResBottleneckBlock-192           [-1, 1024, 5, 5]               0\n",
      "          Conv2d-193            [-1, 256, 5, 5]         262,400\n",
      "     BatchNorm2d-194            [-1, 256, 5, 5]             512\n",
      "          Conv2d-195            [-1, 256, 5, 5]         590,080\n",
      "     BatchNorm2d-196            [-1, 256, 5, 5]             512\n",
      "          Conv2d-197           [-1, 1024, 5, 5]         263,168\n",
      "     BatchNorm2d-198           [-1, 1024, 5, 5]           2,048\n",
      "ResBottleneckBlock-199           [-1, 1024, 5, 5]               0\n",
      "          Conv2d-200            [-1, 256, 5, 5]         262,400\n",
      "     BatchNorm2d-201            [-1, 256, 5, 5]             512\n",
      "          Conv2d-202            [-1, 256, 5, 5]         590,080\n",
      "     BatchNorm2d-203            [-1, 256, 5, 5]             512\n",
      "          Conv2d-204           [-1, 1024, 5, 5]         263,168\n",
      "     BatchNorm2d-205           [-1, 1024, 5, 5]           2,048\n",
      "ResBottleneckBlock-206           [-1, 1024, 5, 5]               0\n",
      "          Conv2d-207            [-1, 256, 5, 5]         262,400\n",
      "     BatchNorm2d-208            [-1, 256, 5, 5]             512\n",
      "          Conv2d-209            [-1, 256, 5, 5]         590,080\n",
      "     BatchNorm2d-210            [-1, 256, 5, 5]             512\n",
      "          Conv2d-211           [-1, 1024, 5, 5]         263,168\n",
      "     BatchNorm2d-212           [-1, 1024, 5, 5]           2,048\n",
      "ResBottleneckBlock-213           [-1, 1024, 5, 5]               0\n",
      "          Conv2d-214            [-1, 256, 5, 5]         262,400\n",
      "     BatchNorm2d-215            [-1, 256, 5, 5]             512\n",
      "          Conv2d-216            [-1, 256, 5, 5]         590,080\n",
      "     BatchNorm2d-217            [-1, 256, 5, 5]             512\n",
      "          Conv2d-218           [-1, 1024, 5, 5]         263,168\n",
      "     BatchNorm2d-219           [-1, 1024, 5, 5]           2,048\n",
      "ResBottleneckBlock-220           [-1, 1024, 5, 5]               0\n",
      "          Conv2d-221            [-1, 256, 5, 5]         262,400\n",
      "     BatchNorm2d-222            [-1, 256, 5, 5]             512\n",
      "          Conv2d-223            [-1, 256, 5, 5]         590,080\n",
      "     BatchNorm2d-224            [-1, 256, 5, 5]             512\n",
      "          Conv2d-225           [-1, 1024, 5, 5]         263,168\n",
      "     BatchNorm2d-226           [-1, 1024, 5, 5]           2,048\n",
      "ResBottleneckBlock-227           [-1, 1024, 5, 5]               0\n",
      "          Conv2d-228            [-1, 256, 5, 5]         262,400\n",
      "     BatchNorm2d-229            [-1, 256, 5, 5]             512\n",
      "          Conv2d-230            [-1, 256, 5, 5]         590,080\n",
      "     BatchNorm2d-231            [-1, 256, 5, 5]             512\n",
      "          Conv2d-232           [-1, 1024, 5, 5]         263,168\n",
      "     BatchNorm2d-233           [-1, 1024, 5, 5]           2,048\n",
      "ResBottleneckBlock-234           [-1, 1024, 5, 5]               0\n",
      "          Conv2d-235            [-1, 256, 5, 5]         262,400\n",
      "     BatchNorm2d-236            [-1, 256, 5, 5]             512\n",
      "          Conv2d-237            [-1, 256, 5, 5]         590,080\n",
      "     BatchNorm2d-238            [-1, 256, 5, 5]             512\n",
      "          Conv2d-239           [-1, 1024, 5, 5]         263,168\n",
      "     BatchNorm2d-240           [-1, 1024, 5, 5]           2,048\n",
      "ResBottleneckBlock-241           [-1, 1024, 5, 5]               0\n",
      "          Conv2d-242            [-1, 256, 5, 5]         262,400\n",
      "     BatchNorm2d-243            [-1, 256, 5, 5]             512\n",
      "          Conv2d-244            [-1, 256, 5, 5]         590,080\n",
      "     BatchNorm2d-245            [-1, 256, 5, 5]             512\n",
      "          Conv2d-246           [-1, 1024, 5, 5]         263,168\n",
      "     BatchNorm2d-247           [-1, 1024, 5, 5]           2,048\n",
      "ResBottleneckBlock-248           [-1, 1024, 5, 5]               0\n",
      "          Conv2d-249            [-1, 256, 5, 5]         262,400\n",
      "     BatchNorm2d-250            [-1, 256, 5, 5]             512\n",
      "          Conv2d-251            [-1, 256, 5, 5]         590,080\n",
      "     BatchNorm2d-252            [-1, 256, 5, 5]             512\n",
      "          Conv2d-253           [-1, 1024, 5, 5]         263,168\n",
      "     BatchNorm2d-254           [-1, 1024, 5, 5]           2,048\n",
      "ResBottleneckBlock-255           [-1, 1024, 5, 5]               0\n",
      "          Conv2d-256            [-1, 256, 5, 5]         262,400\n",
      "     BatchNorm2d-257            [-1, 256, 5, 5]             512\n",
      "          Conv2d-258            [-1, 256, 5, 5]         590,080\n",
      "     BatchNorm2d-259            [-1, 256, 5, 5]             512\n",
      "          Conv2d-260           [-1, 1024, 5, 5]         263,168\n",
      "     BatchNorm2d-261           [-1, 1024, 5, 5]           2,048\n",
      "ResBottleneckBlock-262           [-1, 1024, 5, 5]               0\n",
      "          Conv2d-263            [-1, 256, 5, 5]         262,400\n",
      "     BatchNorm2d-264            [-1, 256, 5, 5]             512\n",
      "          Conv2d-265            [-1, 256, 5, 5]         590,080\n",
      "     BatchNorm2d-266            [-1, 256, 5, 5]             512\n",
      "          Conv2d-267           [-1, 1024, 5, 5]         263,168\n",
      "     BatchNorm2d-268           [-1, 1024, 5, 5]           2,048\n",
      "ResBottleneckBlock-269           [-1, 1024, 5, 5]               0\n",
      "          Conv2d-270            [-1, 256, 5, 5]         262,400\n",
      "     BatchNorm2d-271            [-1, 256, 5, 5]             512\n",
      "          Conv2d-272            [-1, 256, 5, 5]         590,080\n",
      "     BatchNorm2d-273            [-1, 256, 5, 5]             512\n",
      "          Conv2d-274           [-1, 1024, 5, 5]         263,168\n",
      "     BatchNorm2d-275           [-1, 1024, 5, 5]           2,048\n",
      "ResBottleneckBlock-276           [-1, 1024, 5, 5]               0\n",
      "          Conv2d-277            [-1, 256, 5, 5]         262,400\n",
      "     BatchNorm2d-278            [-1, 256, 5, 5]             512\n",
      "          Conv2d-279            [-1, 256, 5, 5]         590,080\n",
      "     BatchNorm2d-280            [-1, 256, 5, 5]             512\n",
      "          Conv2d-281           [-1, 1024, 5, 5]         263,168\n",
      "     BatchNorm2d-282           [-1, 1024, 5, 5]           2,048\n",
      "ResBottleneckBlock-283           [-1, 1024, 5, 5]               0\n",
      "          Conv2d-284            [-1, 256, 5, 5]         262,400\n",
      "     BatchNorm2d-285            [-1, 256, 5, 5]             512\n",
      "          Conv2d-286            [-1, 256, 5, 5]         590,080\n",
      "     BatchNorm2d-287            [-1, 256, 5, 5]             512\n",
      "          Conv2d-288           [-1, 1024, 5, 5]         263,168\n",
      "     BatchNorm2d-289           [-1, 1024, 5, 5]           2,048\n",
      "ResBottleneckBlock-290           [-1, 1024, 5, 5]               0\n",
      "          Conv2d-291            [-1, 256, 5, 5]         262,400\n",
      "     BatchNorm2d-292            [-1, 256, 5, 5]             512\n",
      "          Conv2d-293            [-1, 256, 5, 5]         590,080\n",
      "     BatchNorm2d-294            [-1, 256, 5, 5]             512\n",
      "          Conv2d-295           [-1, 1024, 5, 5]         263,168\n",
      "     BatchNorm2d-296           [-1, 1024, 5, 5]           2,048\n",
      "ResBottleneckBlock-297           [-1, 1024, 5, 5]               0\n",
      "          Conv2d-298            [-1, 256, 5, 5]         262,400\n",
      "     BatchNorm2d-299            [-1, 256, 5, 5]             512\n",
      "          Conv2d-300            [-1, 256, 5, 5]         590,080\n",
      "     BatchNorm2d-301            [-1, 256, 5, 5]             512\n",
      "          Conv2d-302           [-1, 1024, 5, 5]         263,168\n",
      "     BatchNorm2d-303           [-1, 1024, 5, 5]           2,048\n",
      "ResBottleneckBlock-304           [-1, 1024, 5, 5]               0\n",
      "          Conv2d-305            [-1, 256, 5, 5]         262,400\n",
      "     BatchNorm2d-306            [-1, 256, 5, 5]             512\n",
      "          Conv2d-307            [-1, 256, 5, 5]         590,080\n",
      "     BatchNorm2d-308            [-1, 256, 5, 5]             512\n",
      "          Conv2d-309           [-1, 1024, 5, 5]         263,168\n",
      "     BatchNorm2d-310           [-1, 1024, 5, 5]           2,048\n",
      "ResBottleneckBlock-311           [-1, 1024, 5, 5]               0\n",
      "          Conv2d-312            [-1, 256, 5, 5]         262,400\n",
      "     BatchNorm2d-313            [-1, 256, 5, 5]             512\n",
      "          Conv2d-314            [-1, 256, 5, 5]         590,080\n",
      "     BatchNorm2d-315            [-1, 256, 5, 5]             512\n",
      "          Conv2d-316           [-1, 1024, 5, 5]         263,168\n",
      "     BatchNorm2d-317           [-1, 1024, 5, 5]           2,048\n",
      "ResBottleneckBlock-318           [-1, 1024, 5, 5]               0\n",
      "          Conv2d-319            [-1, 256, 5, 5]         262,400\n",
      "     BatchNorm2d-320            [-1, 256, 5, 5]             512\n",
      "          Conv2d-321            [-1, 256, 5, 5]         590,080\n",
      "     BatchNorm2d-322            [-1, 256, 5, 5]             512\n",
      "          Conv2d-323           [-1, 1024, 5, 5]         263,168\n",
      "     BatchNorm2d-324           [-1, 1024, 5, 5]           2,048\n",
      "ResBottleneckBlock-325           [-1, 1024, 5, 5]               0\n",
      "          Conv2d-326            [-1, 256, 5, 5]         262,400\n",
      "     BatchNorm2d-327            [-1, 256, 5, 5]             512\n",
      "          Conv2d-328            [-1, 256, 5, 5]         590,080\n",
      "     BatchNorm2d-329            [-1, 256, 5, 5]             512\n",
      "          Conv2d-330           [-1, 1024, 5, 5]         263,168\n",
      "     BatchNorm2d-331           [-1, 1024, 5, 5]           2,048\n",
      "ResBottleneckBlock-332           [-1, 1024, 5, 5]               0\n",
      "          Conv2d-333            [-1, 256, 5, 5]         262,400\n",
      "     BatchNorm2d-334            [-1, 256, 5, 5]             512\n",
      "          Conv2d-335            [-1, 256, 5, 5]         590,080\n",
      "     BatchNorm2d-336            [-1, 256, 5, 5]             512\n",
      "          Conv2d-337           [-1, 1024, 5, 5]         263,168\n",
      "     BatchNorm2d-338           [-1, 1024, 5, 5]           2,048\n",
      "ResBottleneckBlock-339           [-1, 1024, 5, 5]               0\n",
      "          Conv2d-340            [-1, 256, 5, 5]         262,400\n",
      "     BatchNorm2d-341            [-1, 256, 5, 5]             512\n",
      "          Conv2d-342            [-1, 256, 5, 5]         590,080\n",
      "     BatchNorm2d-343            [-1, 256, 5, 5]             512\n",
      "          Conv2d-344           [-1, 1024, 5, 5]         263,168\n",
      "     BatchNorm2d-345           [-1, 1024, 5, 5]           2,048\n",
      "ResBottleneckBlock-346           [-1, 1024, 5, 5]               0\n",
      "          Conv2d-347            [-1, 256, 5, 5]         262,400\n",
      "     BatchNorm2d-348            [-1, 256, 5, 5]             512\n",
      "          Conv2d-349            [-1, 256, 5, 5]         590,080\n",
      "     BatchNorm2d-350            [-1, 256, 5, 5]             512\n",
      "          Conv2d-351           [-1, 1024, 5, 5]         263,168\n",
      "     BatchNorm2d-352           [-1, 1024, 5, 5]           2,048\n",
      "ResBottleneckBlock-353           [-1, 1024, 5, 5]               0\n",
      "          Conv2d-354            [-1, 256, 5, 5]         262,400\n",
      "     BatchNorm2d-355            [-1, 256, 5, 5]             512\n",
      "          Conv2d-356            [-1, 256, 5, 5]         590,080\n",
      "     BatchNorm2d-357            [-1, 256, 5, 5]             512\n",
      "          Conv2d-358           [-1, 1024, 5, 5]         263,168\n",
      "     BatchNorm2d-359           [-1, 1024, 5, 5]           2,048\n",
      "ResBottleneckBlock-360           [-1, 1024, 5, 5]               0\n",
      "          Conv2d-361            [-1, 256, 5, 5]         262,400\n",
      "     BatchNorm2d-362            [-1, 256, 5, 5]             512\n",
      "          Conv2d-363            [-1, 256, 5, 5]         590,080\n",
      "     BatchNorm2d-364            [-1, 256, 5, 5]             512\n",
      "          Conv2d-365           [-1, 1024, 5, 5]         263,168\n",
      "     BatchNorm2d-366           [-1, 1024, 5, 5]           2,048\n",
      "ResBottleneckBlock-367           [-1, 1024, 5, 5]               0\n",
      "          Conv2d-368            [-1, 256, 5, 5]         262,400\n",
      "     BatchNorm2d-369            [-1, 256, 5, 5]             512\n",
      "          Conv2d-370            [-1, 256, 5, 5]         590,080\n",
      "     BatchNorm2d-371            [-1, 256, 5, 5]             512\n",
      "          Conv2d-372           [-1, 1024, 5, 5]         263,168\n",
      "     BatchNorm2d-373           [-1, 1024, 5, 5]           2,048\n",
      "ResBottleneckBlock-374           [-1, 1024, 5, 5]               0\n",
      "          Conv2d-375            [-1, 256, 5, 5]         262,400\n",
      "     BatchNorm2d-376            [-1, 256, 5, 5]             512\n",
      "          Conv2d-377            [-1, 256, 5, 5]         590,080\n",
      "     BatchNorm2d-378            [-1, 256, 5, 5]             512\n",
      "          Conv2d-379           [-1, 1024, 5, 5]         263,168\n",
      "     BatchNorm2d-380           [-1, 1024, 5, 5]           2,048\n",
      "ResBottleneckBlock-381           [-1, 1024, 5, 5]               0\n",
      "          Conv2d-382            [-1, 256, 5, 5]         262,400\n",
      "     BatchNorm2d-383            [-1, 256, 5, 5]             512\n",
      "          Conv2d-384            [-1, 256, 5, 5]         590,080\n",
      "     BatchNorm2d-385            [-1, 256, 5, 5]             512\n",
      "          Conv2d-386           [-1, 1024, 5, 5]         263,168\n",
      "     BatchNorm2d-387           [-1, 1024, 5, 5]           2,048\n",
      "ResBottleneckBlock-388           [-1, 1024, 5, 5]               0\n",
      "          Conv2d-389            [-1, 256, 5, 5]         262,400\n",
      "     BatchNorm2d-390            [-1, 256, 5, 5]             512\n",
      "          Conv2d-391            [-1, 256, 5, 5]         590,080\n",
      "     BatchNorm2d-392            [-1, 256, 5, 5]             512\n",
      "          Conv2d-393           [-1, 1024, 5, 5]         263,168\n",
      "     BatchNorm2d-394           [-1, 1024, 5, 5]           2,048\n",
      "ResBottleneckBlock-395           [-1, 1024, 5, 5]               0\n",
      "          Conv2d-396            [-1, 256, 5, 5]         262,400\n",
      "     BatchNorm2d-397            [-1, 256, 5, 5]             512\n",
      "          Conv2d-398            [-1, 256, 5, 5]         590,080\n",
      "     BatchNorm2d-399            [-1, 256, 5, 5]             512\n",
      "          Conv2d-400           [-1, 1024, 5, 5]         263,168\n",
      "     BatchNorm2d-401           [-1, 1024, 5, 5]           2,048\n",
      "ResBottleneckBlock-402           [-1, 1024, 5, 5]               0\n",
      "          Conv2d-403            [-1, 256, 5, 5]         262,400\n",
      "     BatchNorm2d-404            [-1, 256, 5, 5]             512\n",
      "          Conv2d-405            [-1, 256, 5, 5]         590,080\n",
      "     BatchNorm2d-406            [-1, 256, 5, 5]             512\n",
      "          Conv2d-407           [-1, 1024, 5, 5]         263,168\n",
      "     BatchNorm2d-408           [-1, 1024, 5, 5]           2,048\n",
      "ResBottleneckBlock-409           [-1, 1024, 5, 5]               0\n",
      "          Conv2d-410            [-1, 256, 5, 5]         262,400\n",
      "     BatchNorm2d-411            [-1, 256, 5, 5]             512\n",
      "          Conv2d-412            [-1, 256, 5, 5]         590,080\n",
      "     BatchNorm2d-413            [-1, 256, 5, 5]             512\n",
      "          Conv2d-414           [-1, 1024, 5, 5]         263,168\n",
      "     BatchNorm2d-415           [-1, 1024, 5, 5]           2,048\n",
      "ResBottleneckBlock-416           [-1, 1024, 5, 5]               0\n",
      "          Conv2d-417            [-1, 256, 5, 5]         262,400\n",
      "     BatchNorm2d-418            [-1, 256, 5, 5]             512\n",
      "          Conv2d-419            [-1, 256, 5, 5]         590,080\n",
      "     BatchNorm2d-420            [-1, 256, 5, 5]             512\n",
      "          Conv2d-421           [-1, 1024, 5, 5]         263,168\n",
      "     BatchNorm2d-422           [-1, 1024, 5, 5]           2,048\n",
      "ResBottleneckBlock-423           [-1, 1024, 5, 5]               0\n",
      "          Conv2d-424            [-1, 256, 5, 5]         262,400\n",
      "     BatchNorm2d-425            [-1, 256, 5, 5]             512\n",
      "          Conv2d-426            [-1, 256, 5, 5]         590,080\n",
      "     BatchNorm2d-427            [-1, 256, 5, 5]             512\n",
      "          Conv2d-428           [-1, 1024, 5, 5]         263,168\n",
      "     BatchNorm2d-429           [-1, 1024, 5, 5]           2,048\n",
      "ResBottleneckBlock-430           [-1, 1024, 5, 5]               0\n",
      "          Conv2d-431            [-1, 256, 5, 5]         262,400\n",
      "     BatchNorm2d-432            [-1, 256, 5, 5]             512\n",
      "          Conv2d-433            [-1, 256, 5, 5]         590,080\n",
      "     BatchNorm2d-434            [-1, 256, 5, 5]             512\n",
      "          Conv2d-435           [-1, 1024, 5, 5]         263,168\n",
      "     BatchNorm2d-436           [-1, 1024, 5, 5]           2,048\n",
      "ResBottleneckBlock-437           [-1, 1024, 5, 5]               0\n",
      "          Conv2d-438            [-1, 256, 5, 5]         262,400\n",
      "     BatchNorm2d-439            [-1, 256, 5, 5]             512\n",
      "          Conv2d-440            [-1, 256, 5, 5]         590,080\n",
      "     BatchNorm2d-441            [-1, 256, 5, 5]             512\n",
      "          Conv2d-442           [-1, 1024, 5, 5]         263,168\n",
      "     BatchNorm2d-443           [-1, 1024, 5, 5]           2,048\n",
      "ResBottleneckBlock-444           [-1, 1024, 5, 5]               0\n",
      "          Conv2d-445            [-1, 256, 5, 5]         262,400\n",
      "     BatchNorm2d-446            [-1, 256, 5, 5]             512\n",
      "          Conv2d-447            [-1, 256, 5, 5]         590,080\n",
      "     BatchNorm2d-448            [-1, 256, 5, 5]             512\n",
      "          Conv2d-449           [-1, 1024, 5, 5]         263,168\n",
      "     BatchNorm2d-450           [-1, 1024, 5, 5]           2,048\n",
      "ResBottleneckBlock-451           [-1, 1024, 5, 5]               0\n",
      "          Conv2d-452            [-1, 256, 5, 5]         262,400\n",
      "     BatchNorm2d-453            [-1, 256, 5, 5]             512\n",
      "          Conv2d-454            [-1, 256, 5, 5]         590,080\n",
      "     BatchNorm2d-455            [-1, 256, 5, 5]             512\n",
      "          Conv2d-456           [-1, 1024, 5, 5]         263,168\n",
      "     BatchNorm2d-457           [-1, 1024, 5, 5]           2,048\n",
      "ResBottleneckBlock-458           [-1, 1024, 5, 5]               0\n",
      "          Conv2d-459            [-1, 256, 5, 5]         262,400\n",
      "     BatchNorm2d-460            [-1, 256, 5, 5]             512\n",
      "          Conv2d-461            [-1, 256, 5, 5]         590,080\n",
      "     BatchNorm2d-462            [-1, 256, 5, 5]             512\n",
      "          Conv2d-463           [-1, 1024, 5, 5]         263,168\n",
      "     BatchNorm2d-464           [-1, 1024, 5, 5]           2,048\n",
      "ResBottleneckBlock-465           [-1, 1024, 5, 5]               0\n",
      "          Conv2d-466            [-1, 256, 5, 5]         262,400\n",
      "     BatchNorm2d-467            [-1, 256, 5, 5]             512\n",
      "          Conv2d-468            [-1, 256, 5, 5]         590,080\n",
      "     BatchNorm2d-469            [-1, 256, 5, 5]             512\n",
      "          Conv2d-470           [-1, 1024, 5, 5]         263,168\n",
      "     BatchNorm2d-471           [-1, 1024, 5, 5]           2,048\n",
      "ResBottleneckBlock-472           [-1, 1024, 5, 5]               0\n",
      "          Conv2d-473            [-1, 256, 5, 5]         262,400\n",
      "     BatchNorm2d-474            [-1, 256, 5, 5]             512\n",
      "          Conv2d-475            [-1, 256, 5, 5]         590,080\n",
      "     BatchNorm2d-476            [-1, 256, 5, 5]             512\n",
      "          Conv2d-477           [-1, 1024, 5, 5]         263,168\n",
      "     BatchNorm2d-478           [-1, 1024, 5, 5]           2,048\n",
      "ResBottleneckBlock-479           [-1, 1024, 5, 5]               0\n",
      "          Conv2d-480            [-1, 256, 5, 5]         262,400\n",
      "     BatchNorm2d-481            [-1, 256, 5, 5]             512\n",
      "          Conv2d-482            [-1, 256, 5, 5]         590,080\n",
      "     BatchNorm2d-483            [-1, 256, 5, 5]             512\n",
      "          Conv2d-484           [-1, 1024, 5, 5]         263,168\n",
      "     BatchNorm2d-485           [-1, 1024, 5, 5]           2,048\n",
      "ResBottleneckBlock-486           [-1, 1024, 5, 5]               0\n",
      "          Conv2d-487            [-1, 256, 5, 5]         262,400\n",
      "     BatchNorm2d-488            [-1, 256, 5, 5]             512\n",
      "          Conv2d-489            [-1, 256, 5, 5]         590,080\n",
      "     BatchNorm2d-490            [-1, 256, 5, 5]             512\n",
      "          Conv2d-491           [-1, 1024, 5, 5]         263,168\n",
      "     BatchNorm2d-492           [-1, 1024, 5, 5]           2,048\n",
      "ResBottleneckBlock-493           [-1, 1024, 5, 5]               0\n",
      "          Conv2d-494            [-1, 256, 5, 5]         262,400\n",
      "     BatchNorm2d-495            [-1, 256, 5, 5]             512\n",
      "          Conv2d-496            [-1, 256, 5, 5]         590,080\n",
      "     BatchNorm2d-497            [-1, 256, 5, 5]             512\n",
      "          Conv2d-498           [-1, 1024, 5, 5]         263,168\n",
      "     BatchNorm2d-499           [-1, 1024, 5, 5]           2,048\n",
      "ResBottleneckBlock-500           [-1, 1024, 5, 5]               0\n",
      "          Conv2d-501            [-1, 256, 5, 5]         262,400\n",
      "     BatchNorm2d-502            [-1, 256, 5, 5]             512\n",
      "          Conv2d-503            [-1, 256, 5, 5]         590,080\n",
      "     BatchNorm2d-504            [-1, 256, 5, 5]             512\n",
      "          Conv2d-505           [-1, 1024, 5, 5]         263,168\n",
      "     BatchNorm2d-506           [-1, 1024, 5, 5]           2,048\n",
      "ResBottleneckBlock-507           [-1, 1024, 5, 5]               0\n",
      "          Conv2d-508            [-1, 256, 5, 5]         262,400\n",
      "     BatchNorm2d-509            [-1, 256, 5, 5]             512\n",
      "          Conv2d-510            [-1, 256, 5, 5]         590,080\n",
      "     BatchNorm2d-511            [-1, 256, 5, 5]             512\n",
      "          Conv2d-512           [-1, 1024, 5, 5]         263,168\n",
      "     BatchNorm2d-513           [-1, 1024, 5, 5]           2,048\n",
      "ResBottleneckBlock-514           [-1, 1024, 5, 5]               0\n",
      "          Conv2d-515            [-1, 256, 5, 5]         262,400\n",
      "     BatchNorm2d-516            [-1, 256, 5, 5]             512\n",
      "          Conv2d-517            [-1, 256, 5, 5]         590,080\n",
      "     BatchNorm2d-518            [-1, 256, 5, 5]             512\n",
      "          Conv2d-519           [-1, 1024, 5, 5]         263,168\n",
      "     BatchNorm2d-520           [-1, 1024, 5, 5]           2,048\n",
      "ResBottleneckBlock-521           [-1, 1024, 5, 5]               0\n",
      "          Conv2d-522            [-1, 256, 5, 5]         262,400\n",
      "     BatchNorm2d-523            [-1, 256, 5, 5]             512\n",
      "          Conv2d-524            [-1, 256, 5, 5]         590,080\n",
      "     BatchNorm2d-525            [-1, 256, 5, 5]             512\n",
      "          Conv2d-526           [-1, 1024, 5, 5]         263,168\n",
      "     BatchNorm2d-527           [-1, 1024, 5, 5]           2,048\n",
      "ResBottleneckBlock-528           [-1, 1024, 5, 5]               0\n",
      "          Conv2d-529           [-1, 2048, 3, 3]       2,099,200\n",
      "     BatchNorm2d-530           [-1, 2048, 3, 3]           4,096\n",
      "          Conv2d-531            [-1, 512, 5, 5]         524,800\n",
      "     BatchNorm2d-532            [-1, 512, 5, 5]           1,024\n",
      "          Conv2d-533            [-1, 512, 3, 3]       2,359,808\n",
      "     BatchNorm2d-534            [-1, 512, 3, 3]           1,024\n",
      "          Conv2d-535           [-1, 2048, 3, 3]       1,050,624\n",
      "     BatchNorm2d-536           [-1, 2048, 3, 3]           4,096\n",
      "ResBottleneckBlock-537           [-1, 2048, 3, 3]               0\n",
      "          Conv2d-538            [-1, 512, 3, 3]       1,049,088\n",
      "     BatchNorm2d-539            [-1, 512, 3, 3]           1,024\n",
      "          Conv2d-540            [-1, 512, 3, 3]       2,359,808\n",
      "     BatchNorm2d-541            [-1, 512, 3, 3]           1,024\n",
      "          Conv2d-542           [-1, 2048, 3, 3]       1,050,624\n",
      "     BatchNorm2d-543           [-1, 2048, 3, 3]           4,096\n",
      "ResBottleneckBlock-544           [-1, 2048, 3, 3]               0\n",
      "          Conv2d-545            [-1, 512, 3, 3]       1,049,088\n",
      "     BatchNorm2d-546            [-1, 512, 3, 3]           1,024\n",
      "          Conv2d-547            [-1, 512, 3, 3]       2,359,808\n",
      "     BatchNorm2d-548            [-1, 512, 3, 3]           1,024\n",
      "          Conv2d-549           [-1, 2048, 3, 3]       1,050,624\n",
      "     BatchNorm2d-550           [-1, 2048, 3, 3]           4,096\n",
      "ResBottleneckBlock-551           [-1, 2048, 3, 3]               0\n",
      "AdaptiveAvgPool2d-552           [-1, 2048, 1, 1]               0\n",
      "          Linear-553                   [-1, 10]          20,490\n",
      "================================================================\n",
      "Total params: 88,439,178\n",
      "Trainable params: 88,439,178\n",
      "Non-trainable params: 0\n",
      "----------------------------------------------------------------\n",
      "Input size (MB): 0.02\n",
      "Forward/backward pass size (MB): 78.18\n",
      "Params size (MB): 337.37\n",
      "Estimated Total Size (MB): 415.58\n",
      "----------------------------------------------------------------\n"
     ]
    }
   ],
   "source": [
    "summary(model,input_size=(1,80,80)) "
   ]
  },
  {
   "cell_type": "markdown",
   "id": "zJ4Qia-p71sc",
   "metadata": {
    "id": "zJ4Qia-p71sc"
   },
   "source": [
    "<h2>Part A Fashion MNIST Model Comparisons at baseline 10 epochs</h2>\n",
    "<table>\n",
    "<thead><tr><th>Model</th><th>Training Loss</th><th>Training Accuracy</th><th>Validation Loss</th><th>Validation Accuracy</th><th>Test Accuracy</th><th>Total Training Time</th><th>Total Parameters</th><th>Remarks</th></tr></thead>\n",
    "<tbody>\n",
    "<tr><td>VGG-16</td><td>0.15</td><td>94.42%</td><td>0.23</td><td>92.03%</td><td>91.43%</td><td>21 Mins</td><td>39.9Million</td><td>High accuracy scores and stable downwards trend for loss and upwards trend for accuracy, no signs of overfitting</td></tr>\n",
    "<tr><td>VGG-19</td><td>0.18</td><td>93.39%</td><td>0.24</td><td>91.64%</td><td>91.11%</td><td>24 Mins</td><td>45.2Million</td><td>Slightly lower accuracy than VGG-16 but similar performance</td></tr>\n",
    "<tr><td>AlexNet</td><td>0.15</td><td>94.4%</td><td>0.26</td><td>91.43%</td><td>91.07%</td><td>6 Mins</td><td>57Million</td><td>Lower Test and Validation accuracy scores, clear signs of overfitting</td></tr>\n",
    "<tr><td>ResNet18</td><td>0.04</td><td>98.42%</td><td>0.32</td><td>91.69%</td><td>91.21%</td><td>7 Mins</td><td>11.2Million</td><td>Very clear signs of overfitting and low accuracy scores, trend for validation is also poor with no signs of downawards trend</td></tr>\n",
    "<tr><td>ResNet152</td><td>0.09</td><td>96.47%</td><td>0.25</td><td>91.77%</td><td>91.22%</td><td>1 Hour</td><td>16.8Million</td><td>Better trend in loss than ResNet18 but still signs of overfitting</td></tr>\n",
    "</tbody>\n",
    "</table>"
   ]
  },
  {
   "cell_type": "markdown",
   "id": "WC9E1FKAg25a",
   "metadata": {
    "id": "WC9E1FKAg25a"
   },
   "source": [
    "## My Own Model\n",
    "With Inspiration from the previous models, we can see the analysis below:\n",
    "\n",
    "VGGNet\n",
    "1. VGG-16 and VGG-19, VGG-16 performed better with lower epochs of 10, it is expected to beat VGG-19 if the epochs were higher. However, in the techical paper, VGG-16 was preferred as it is less computationally expensive with not much difference in loss function and accuracy performance as comapared to the VGG-19, Our VGG-16 performed 91.79 % accuracy on the test Set\n",
    "\n",
    "AlexNet\n",
    "2. AlexNet, AlexNet achieved a accuracy score of 90.64%, the AlexNet performed poorer as compared to VGG-16 and the Validation and Training curves comparing Accuracy and Loss function for the AlexNet were significantly worse compared to the VGG ones, for VGG the curves would converge while for the AlexNet, the curves did not converge in fact the loss function got significantly worse in the validation set.\n",
    "\n",
    "ResNet\n",
    "\n",
    "3.ResNet18 and ResNet152 achieved a accuracy score of 91.42 and 90,43 respectively. However, both ResNet18 and ResNet 152 loss and accuracy curve comparison for training and validation did not converge. Overall ResNet also achieved a poorer performance in both score and graphs as compared to VGG-16\n",
    "\n",
    "\n",
    "My Own model shall consist of elements inspired from the better performing models in these experiments, such as the VGG16. I will be creating my own model architecture inspired by these architectural experiments back in 2013-2015, why not after 2016? the models which are SOTA after 2016 such as EfficientNet and InceptionV3 were my initial choices. However this module's purpose is to design a model architecure from scratch and not import pretrained and prebuilt architectures. Architectures like the Inception v3 are exceptionally large and is extremely inefficient to built from scratch, Thus, i will be crafting my own inspired model architecture which will hopefully achieve a good level of performance.\n",
    "\n",
    "My first custom model will be a VGG inspired model\n",
    "\n",
    "The experimental tweaks i did are listed below:\n",
    "1. I reduced the number of convolutional 2d layers to reduce complexity \n",
    "2. I added Batch Normalization as it has a regularizing effect on CNN by normalizing inputs to layers deeper into a network\n",
    "4. I did global average pooling's pytorch version of adaptive avg pool, Global pooling helps prevent overfitting whereas VGG only used max pooling\n",
    "5. Dropout, since i wanted to reduce overfitting a dropout was added before the final classification "
   ]
  },
  {
   "cell_type": "code",
   "execution_count": null,
   "id": "VF3d33EPN6FF",
   "metadata": {
    "colab": {
     "base_uri": "https://localhost:8080/"
    },
    "id": "VF3d33EPN6FF",
    "outputId": "7bd6587e-3411-4e67-c512-5d8aff2a724d"
   },
   "outputs": [
    {
     "name": "stdout",
     "output_type": "stream",
     "text": [
      "1.12.1+cu113\n",
      "cuda\n"
     ]
    }
   ],
   "source": [
    "epoch = 10\n",
    "learning_rate = 1e-4\n",
    "DEVICE = (\"cuda\" if torch.cuda.is_available() else \"cpu\")\n",
    "\n",
    "print(torch.__version__)\n",
    "print(DEVICE)#GPU"
   ]
  },
  {
   "cell_type": "code",
   "execution_count": null,
   "id": "G4iMRGSVJes0",
   "metadata": {
    "id": "G4iMRGSVJes0"
   },
   "outputs": [],
   "source": [
    "#Initializing VGG-16 model\n",
    "class MyCustomNet(nn.Module):\n",
    "    def __init__(self):\n",
    "        super(MyCustomNet, self).__init__()\n",
    "\n",
    "        #Custom inspired VGG\n",
    "        self.vgglayer1 = nn.Sequential(\n",
    "            nn.Conv2d(in_channels=1, out_channels=64, kernel_size=3, padding=1),#self.conv1_1\n",
    "            nn.ReLU(),\n",
    "            nn.Conv2d(in_channels=64, out_channels=64, kernel_size=3, padding=1),\n",
    "            nn.ReLU(),\n",
    "            #nn.BatchNorm2d(64),\n",
    "        )\n",
    "        self.vgglayer2 = nn.Sequential(\n",
    "            nn.Conv2d(in_channels=64, out_channels=128, kernel_size=3, padding=1),\n",
    "            nn.ReLU(),\n",
    "            nn.Conv2d(in_channels=128, out_channels=128, kernel_size=3, padding=1),\n",
    "            nn.ReLU(),\n",
    "            #nn.BatchNorm2d(128),\n",
    "        )\n",
    "        \n",
    "        self.vgglayer3 = nn.Sequential(\n",
    "            nn.Conv2d(in_channels=128, out_channels=256, kernel_size=3, padding=1),\n",
    "            nn.ReLU(),\n",
    "            nn.Conv2d(in_channels=256, out_channels=256, kernel_size=3, padding=1),\n",
    "            nn.ReLU(),\n",
    "            nn.Conv2d(in_channels=256, out_channels=256, kernel_size=3, padding=1),\n",
    "            nn.ReLU(),\n",
    "           # nn.BatchNorm2d(256),\n",
    "        )\n",
    "        self.vgglayer4 = nn.Sequential(\n",
    "            nn.Conv2d(in_channels=256, out_channels=512, kernel_size=3, padding=1),\n",
    "            nn.ReLU(),\n",
    "            nn.Conv2d(in_channels=512, out_channels=512, kernel_size=3, padding=1),\n",
    "            nn.ReLU(),\n",
    "            nn.Conv2d(in_channels=512, out_channels=512, kernel_size=3, padding=1),\n",
    "            nn.ReLU(),\n",
    "            nn.BatchNorm2d(512),\n",
    "        )\n",
    "\n",
    "        self.vgglayer5 = nn.Sequential(\n",
    "            nn.Conv2d(in_channels=512, out_channels=512, kernel_size=3, padding=1),\n",
    "            nn.ReLU(),\n",
    "            nn.Conv2d(in_channels=512, out_channels=512, kernel_size=3, padding=1),\n",
    "            nn.ReLU(),\n",
    "            nn.Conv2d(in_channels=512, out_channels=512, kernel_size=3, padding=1),\n",
    "            nn.ReLU(),\n",
    "            nn.BatchNorm2d(512),\n",
    "        )\n",
    "\n",
    "        #Pooling\n",
    "        self.maxpool = nn.MaxPool2d(kernel_size=2, stride=2)\n",
    "        self.avgpool = nn.AdaptiveAvgPool2d((6, 6))\n",
    "\n",
    "        #Final Layer\n",
    "        self.classifier = nn.Sequential(\n",
    "            nn.Dropout(),\n",
    "            nn.Linear(512 * 6 * 6, 4096),\n",
    "            nn.ReLU(),\n",
    "            nn.Dropout(),\n",
    "            nn.Linear(4096, 4096),\n",
    "            nn.ReLU(),\n",
    "            nn.Linear(4096, 10),\n",
    "        )\n",
    "\n",
    "    def forward(self, x):\n",
    "        x = self.vgglayer1(x)\n",
    "        x = self.maxpool(x)\n",
    "        x = self.vgglayer2(x)\n",
    "        x = self.maxpool(x)\n",
    "        x = self.vgglayer3(x)\n",
    "        x = self.maxpool(x)\n",
    "        x = self.vgglayer4(x)\n",
    "        x = self.maxpool(x)\n",
    "        x = self.vgglayer5(x)      \n",
    "        x = self.avgpool(x)#Replace max with avg\n",
    "        #flatten at the end, to extract features\n",
    "        # x = x.reshape(x.shape[0], -1)\n",
    "        x=torch.flatten(x,1)#Replace resahpe with flatten\n",
    "        x=self.classifier(x)\n",
    "        return F.log_softmax(x) #Log softmax is advantageous over softmax for improved numerical performance and gradient optimization."
   ]
  },
  {
   "cell_type": "code",
   "execution_count": null,
   "id": "br-UL6aQJqNL",
   "metadata": {
    "id": "br-UL6aQJqNL"
   },
   "outputs": [],
   "source": [
    "model = MyCustomNet().to(DEVICE)\n",
    "\n",
    "criterion = nn.CrossEntropyLoss()\n",
    "optimizer = optim.Adam(model.parameters(), lr= learning_rate)"
   ]
  },
  {
   "cell_type": "code",
   "execution_count": null,
   "id": "fpB3rXU4JvsE",
   "metadata": {
    "colab": {
     "base_uri": "https://localhost:8080/"
    },
    "id": "fpB3rXU4JvsE",
    "outputId": "2ad5df3e-9dd3-4a6f-b827-3e228080f828"
   },
   "outputs": [
    {
     "name": "stderr",
     "output_type": "stream",
     "text": [
      "/usr/local/lib/python3.7/dist-packages/ipykernel_launcher.py:81: UserWarning: Implicit dimension choice for log_softmax has been deprecated. Change the call to include dim=X as an argument.\n"
     ]
    },
    {
     "name": "stdout",
     "output_type": "stream",
     "text": [
      "Training Epoch 1 ] Accuracy : 78.54% Training Loss : 0.572587\n",
      "Validation Epoch 1 ] Accuracy : 86.51%  Loss : 0.35545768463611604\n",
      "Epoch 1 ] Time taken in seconds : 150.3177993297577\n",
      "Training Epoch 2 ] Accuracy : 87.85% Training Loss : 0.325801\n",
      "Validation Epoch 2 ] Accuracy : 88.98%  Loss : 0.30338077330589297\n",
      "Epoch 2 ] Time taken in seconds : 149.6496012210846\n",
      "Training Epoch 3 ] Accuracy : 90.06% Training Loss : 0.266446\n",
      "Validation Epoch 3 ] Accuracy : 89.50%  Loss : 0.28628071093559265\n",
      "Epoch 3 ] Time taken in seconds : 149.99603724479675\n",
      "Training Epoch 4 ] Accuracy : 91.39% Training Loss : 0.234970\n",
      "Validation Epoch 4 ] Accuracy : 91.24%  Loss : 0.24146041303873061\n",
      "Epoch 4 ] Time taken in seconds : 149.50725173950195\n",
      "Training Epoch 5 ] Accuracy : 92.26% Training Loss : 0.206858\n",
      "Validation Epoch 5 ] Accuracy : 91.38%  Loss : 0.23790082758665085\n",
      "Epoch 5 ] Time taken in seconds : 149.66577529907227\n",
      "Training Epoch 6 ] Accuracy : 93.06% Training Loss : 0.187230\n",
      "Validation Epoch 6 ] Accuracy : 91.64%  Loss : 0.23612110459804536\n",
      "Epoch 6 ] Time taken in seconds : 149.41437411308289\n",
      "Training Epoch 7 ] Accuracy : 93.89% Training Loss : 0.166621\n",
      "Validation Epoch 7 ] Accuracy : 92.43%  Loss : 0.2287794273495674\n",
      "Epoch 7 ] Time taken in seconds : 149.212792634964\n",
      "Training Epoch 8 ] Accuracy : 94.42% Training Loss : 0.150520\n",
      "Validation Epoch 8 ] Accuracy : 92.38%  Loss : 0.21865826284885406\n",
      "Epoch 8 ] Time taken in seconds : 149.70420670509338\n",
      "Training Epoch 9 ] Accuracy : 95.04% Training Loss : 0.131126\n",
      "Validation Epoch 9 ] Accuracy : 92.67%  Loss : 0.21690985012054442\n",
      "Epoch 9 ] Time taken in seconds : 149.67593717575073\n",
      "Training Epoch 10 ] Accuracy : 95.79% Training Loss : 0.114928\n",
      "Validation Epoch 10 ] Accuracy : 92.62%  Loss : 0.21986526808142662\n",
      "Epoch 10 ] Time taken in seconds : 149.17611694335938\n",
      "Total time in seconds: 1496.3198924064636\n"
     ]
    }
   ],
   "source": [
    "sum = 0\n",
    "\n",
    "#epoch=10\n",
    "totalTime=[]\n",
    "\n",
    "#Train and Val accuracy & loss Arrays\n",
    "train_acc_array=[]\n",
    "train_loss_array=[]\n",
    "val_acc_array=[]\n",
    "val_loss_array=[]\n",
    "\n",
    "#Training model on train and validation sets\n",
    "for e in range(epoch): \n",
    "    startTime = time.time()\n",
    "    train_loss=0.0\n",
    "    num_correct=0\n",
    "    num_samples=0\n",
    "    \n",
    "    #Training loop\n",
    "    for batch_idx, (data, targets) in enumerate(train_loader):\n",
    "        #Transfer data to GPU if available\n",
    "        data = data.to(DEVICE)\n",
    "        targets = targets.to(DEVICE)\n",
    "        ## Clear gradients\n",
    "        optimizer.zero_grad()\n",
    "        #Forward pass\n",
    "        scores = model(data)\n",
    "        #find the loss\n",
    "        loss = criterion(scores,targets)\n",
    "        #Calculate gradients\n",
    "        loss.backward()\n",
    "        #Update weights\n",
    "        optimizer.step()\n",
    "        #Calculate loss\n",
    "        train_loss += loss.item()\n",
    "        #calulcate Accuracy\n",
    "        _, predictions = scores.max(1)\n",
    "        num_correct += (predictions == targets).sum()\n",
    "        num_samples += predictions.size(0)\n",
    "    print(f\"Training Epoch {e+1} ] Accuracy : {float(num_correct) / float(num_samples) * 100:.2f}% Training Loss : {train_loss/len(train_loader):.6f}\")\n",
    "    train_loss_array.append(train_loss/len(train_loader))\n",
    "    train_acc_array.append(float(num_correct) / float(num_samples) * 100)\n",
    "\n",
    "    num_correct=0\n",
    "    num_samples=0\n",
    "    #Validation Loop\n",
    "    with torch.no_grad():\n",
    "        valid_loss=0.0\n",
    "        num_correct = 0\n",
    "        num_samples = 0\n",
    "        for batch_idx, (data,targets) in enumerate(val_loader):\n",
    "            data = data.to(DEVICE)\n",
    "            targets = targets.to(DEVICE)\n",
    "\n",
    "            ## Forward Pass\n",
    "            scores = model(data)\n",
    "\n",
    "            loss = criterion(scores,targets)\n",
    "            valid_loss+=loss.item()\n",
    "\n",
    "            _, predictions = scores.max(1)\n",
    "            num_correct += (predictions == targets).sum()\n",
    "            num_samples += predictions.size(0)\n",
    "\n",
    "        print(f\"Validation Epoch {e+1} ] Accuracy : {float(num_correct) / float(num_samples) * 100:.2f}%  Loss : {valid_loss/len(val_loader)}\")\n",
    "        val_acc_array.append(float(num_correct) / float(num_samples) * 100)\n",
    "        val_loss_array.append(valid_loss/len(val_loader))\n",
    "    \n",
    "    #Calculate time for each epoch\n",
    "    executionTime = (time.time() - startTime)\n",
    "    totalTime.append(executionTime)\n",
    "    print(f'Epoch {e+1} ] Time taken in seconds : {str(executionTime)}')\n",
    "\n",
    "#Calculating total time for 10 epochs\n",
    "for i in totalTime:\n",
    "    sum = sum + i\n",
    "    \n",
    "print(f'Total time in seconds: {sum}')"
   ]
  },
  {
   "cell_type": "code",
   "execution_count": null,
   "id": "2AIa7tbeLvKt",
   "metadata": {
    "colab": {
     "base_uri": "https://localhost:8080/",
     "height": 350
    },
    "id": "2AIa7tbeLvKt",
    "outputId": "cd9f4fd0-2ab6-44df-d0b0-e59b3b0b2675"
   },
   "outputs": [
    {
     "data": {
      "image/png": "[encoded data removed]",
      "text/plain": [
       "<Figure size 720x360 with 1 Axes>"
      ]
     },
     "metadata": {},
     "output_type": "display_data"
    }
   ],
   "source": [
    "plt.figure(figsize=(10,5))\n",
    "plt.title(\"MyCustomNet Training and Validation Loss\")\n",
    "plt.plot(val_loss_array,label=\"val\")\n",
    "plt.plot(train_loss_array,label=\"train\")\n",
    "plt.xlabel(\"iterations\")\n",
    "plt.ylabel(\"Loss\")\n",
    "plt.legend()\n",
    "plt.show()"
   ]
  },
  {
   "cell_type": "code",
   "execution_count": null,
   "id": "eg-5r4x5LygH",
   "metadata": {
    "colab": {
     "base_uri": "https://localhost:8080/",
     "height": 350
    },
    "id": "eg-5r4x5LygH",
    "outputId": "7c76c278-ff34-4c47-a48b-b066abc69bd5"
   },
   "outputs": [
    {
     "data": {
      "image/png": "[encoded data removed]",
      "text/plain": [
       "<Figure size 720x360 with 1 Axes>"
      ]
     },
     "metadata": {},
     "output_type": "display_data"
    }
   ],
   "source": [
    "plt.figure(figsize=(10,5))\n",
    "plt.title(\"MyCustomNet Training and Validation Accuracy\")\n",
    "plt.plot(val_acc_array,label=\"val\")\n",
    "plt.plot(train_acc_array,label=\"train\")\n",
    "plt.xlabel(\"iterations\")\n",
    "plt.ylabel(\"Accuracy\")\n",
    "plt.legend()\n",
    "plt.show()"
   ]
  },
  {
   "cell_type": "code",
   "execution_count": null,
   "id": "3pQsErFHL9IA",
   "metadata": {
    "colab": {
     "base_uri": "https://localhost:8080/"
    },
    "id": "3pQsErFHL9IA",
    "outputId": "5e0344c3-d103-4e9b-ef7e-3e842bff5335"
   },
   "outputs": [
    {
     "name": "stderr",
     "output_type": "stream",
     "text": [
      "/usr/local/lib/python3.7/dist-packages/ipykernel_launcher.py:81: UserWarning: Implicit dimension choice for log_softmax has been deprecated. Change the call to include dim=X as an argument.\n"
     ]
    },
    {
     "name": "stdout",
     "output_type": "stream",
     "text": [
      "Accuracy 92.33%\n"
     ]
    }
   ],
   "source": [
    "#Evaluating Accuracy on test set\n",
    "num_correct = 0\n",
    "num_samples = 0\n",
    "for batch_idx, (data,targets) in enumerate(test_loader):\n",
    "    data = data.to(DEVICE)\n",
    "    targets = targets.to(DEVICE)\n",
    "    ## Forward Pass\n",
    "    scores = model(data)\n",
    "    _, predictions = scores.max(1)\n",
    "    num_correct += (predictions == targets).sum()\n",
    "    num_samples += predictions.size(0)\n",
    "print(f\"Accuracy {float(num_correct) / float(num_samples) * 100:.2f}%\")"
   ]
  },
  {
   "cell_type": "code",
   "execution_count": null,
   "id": "1eJn69IEMBHg",
   "metadata": {
    "colab": {
     "base_uri": "https://localhost:8080/"
    },
    "id": "1eJn69IEMBHg",
    "outputId": "86b65bc7-fd62-4fbb-ce43-22be18838cea"
   },
   "outputs": [
    {
     "name": "stdout",
     "output_type": "stream",
     "text": [
      "----------------------------------------------------------------\n",
      "        Layer (type)               Output Shape         Param #\n",
      "================================================================\n",
      "            Conv2d-1           [-1, 64, 80, 80]             640\n",
      "              ReLU-2           [-1, 64, 80, 80]               0\n",
      "            Conv2d-3           [-1, 64, 80, 80]          36,928\n",
      "              ReLU-4           [-1, 64, 80, 80]               0\n",
      "         MaxPool2d-5           [-1, 64, 40, 40]               0\n",
      "            Conv2d-6          [-1, 128, 40, 40]          73,856\n",
      "              ReLU-7          [-1, 128, 40, 40]               0\n",
      "            Conv2d-8          [-1, 128, 40, 40]         147,584\n",
      "              ReLU-9          [-1, 128, 40, 40]               0\n",
      "        MaxPool2d-10          [-1, 128, 20, 20]               0\n",
      "           Conv2d-11          [-1, 256, 20, 20]         295,168\n",
      "             ReLU-12          [-1, 256, 20, 20]               0\n",
      "           Conv2d-13          [-1, 256, 20, 20]         590,080\n",
      "             ReLU-14          [-1, 256, 20, 20]               0\n",
      "           Conv2d-15          [-1, 256, 20, 20]         590,080\n",
      "             ReLU-16          [-1, 256, 20, 20]               0\n",
      "        MaxPool2d-17          [-1, 256, 10, 10]               0\n",
      "           Conv2d-18          [-1, 512, 10, 10]       1,180,160\n",
      "             ReLU-19          [-1, 512, 10, 10]               0\n",
      "           Conv2d-20          [-1, 512, 10, 10]       2,359,808\n",
      "             ReLU-21          [-1, 512, 10, 10]               0\n",
      "           Conv2d-22          [-1, 512, 10, 10]       2,359,808\n",
      "             ReLU-23          [-1, 512, 10, 10]               0\n",
      "      BatchNorm2d-24          [-1, 512, 10, 10]           1,024\n",
      "        MaxPool2d-25            [-1, 512, 5, 5]               0\n",
      "           Conv2d-26            [-1, 512, 5, 5]       2,359,808\n",
      "             ReLU-27            [-1, 512, 5, 5]               0\n",
      "           Conv2d-28            [-1, 512, 5, 5]       2,359,808\n",
      "             ReLU-29            [-1, 512, 5, 5]               0\n",
      "           Conv2d-30            [-1, 512, 5, 5]       2,359,808\n",
      "             ReLU-31            [-1, 512, 5, 5]               0\n",
      "      BatchNorm2d-32            [-1, 512, 5, 5]           1,024\n",
      "AdaptiveAvgPool2d-33            [-1, 512, 6, 6]               0\n",
      "          Dropout-34                [-1, 18432]               0\n",
      "           Linear-35                 [-1, 4096]      75,501,568\n",
      "             ReLU-36                 [-1, 4096]               0\n",
      "          Dropout-37                 [-1, 4096]               0\n",
      "           Linear-38                 [-1, 4096]      16,781,312\n",
      "             ReLU-39                 [-1, 4096]               0\n",
      "           Linear-40                   [-1, 10]          40,970\n",
      "================================================================\n",
      "Total params: 107,039,434\n",
      "Trainable params: 107,039,434\n",
      "Non-trainable params: 0\n",
      "----------------------------------------------------------------\n",
      "Input size (MB): 0.02\n",
      "Forward/backward pass size (MB): 28.76\n",
      "Params size (MB): 408.32\n",
      "Estimated Total Size (MB): 437.11\n",
      "----------------------------------------------------------------\n"
     ]
    },
    {
     "name": "stderr",
     "output_type": "stream",
     "text": [
      "/usr/local/lib/python3.7/dist-packages/ipykernel_launcher.py:81: UserWarning: Implicit dimension choice for log_softmax has been deprecated. Change the call to include dim=X as an argument.\n"
     ]
    }
   ],
   "source": [
    "summary(model,input_size=(1,80,80)) "
   ]
  },
  {
   "cell_type": "markdown",
   "id": "0hYXkwGv9S22",
   "metadata": {
    "id": "0hYXkwGv9S22"
   },
   "source": [
    "## 4. Hyperparameter Tuning\n",
    "1. Learning Rate I used a Learning rate schedular which decreases learning rate by 1/10th if epoch's avg loss function doesn't decrease after 5 epochs.\n",
    "2. Number of Epochs, I increased the number of epochs to 50 for Part A but epochs dont matter due to early stopping\n",
    "3. Optimiser I tried 2 different optimisers SGD and Adam, SGD Showed a better and more stable loss trend, this is likely because Adam optimizers affect learning rate\n",
    "4. Loss Function, I tried CrossEntropyLoss and NLLLoss, Cross Entropy had a better and quicker loss curve performance\n",
    "5. Momentum (closely related to Learning Rate)\n",
    "6. Weight decay, the higher the value, the more it prevents overfitting, Momentum is L2 regularization\n",
    "(small value to decrease regularization, large value to increase regularization but may cause instability)\n",
    "7. Batch Size (small for more regularization, large for less regularization)\n",
    "\n",
    "I decided to tune the final model as my custom model which achieved better accuracy of 92.33% than the VGG-16 which achieved 91.43%, this shows that my custom model was better."
   ]
  },
  {
   "cell_type": "markdown",
   "id": "cwtc8gQvBcin",
   "metadata": {
    "id": "cwtc8gQvBcin"
   },
   "source": [
    "<h2>Hyper-parameter settings \n",
    "<table>\n",
    "<thead><tr><th>Hyper-parameters</th><th>Description</th></tr></thead>\n",
    "<tbody>\n",
    "<tr><td>lr=1e-4</td><td>Learning Rate with Early Stopping</td></tr>\n",
    "<tr><td>momentum=0.9</td><td>Momentum Factor</td></tr>\n",
    "<tr><td>weight_decay=1e-5</td><td>Weight decay for L2 Penalty</td></tr>\n",
    "<tr><td>epochs=50</td><td>Number of epochs to train</td></tr>\n",
    "<tr><td>batch_size=96</td><td>Batch size to prevent overloading</td></tr>\n",
    "<tr><td>Learning Rate scheduler: ReduceLROnPlateu</td><td>LR scheduler reduces lr based on validation loss metric</td></tr>\n",
    "<tr><td>Loss Function: Cross Entropy Loss</td><td>Loss Function</td></tr>\n",
    "<tr><td>Optimiser: SGD</td><td>Optimizer between Adam and SGD</td></tr>\n",
    "</tbody>\n",
    "</table>"
   ]
  },
  {
   "cell_type": "markdown",
   "id": "qhJQOPepBfSH",
   "metadata": {
    "id": "qhJQOPepBfSH"
   },
   "source": [
    "<table>\n",
    "<thead><tr>><th>Learning Rate Scheduler</th></tr></thead>\n",
    "<tbody>\n",
    "<tr><td>LambdaLR (Sets the learning rate of each parameter group to the initial lr times a given function. When last_epoch=-1, sets initial lr as lr.)</td></tr>\n",
    "<tr><td>MultiplicativeLR (#works the same but multiplies the lr of each parameter group by the factor given in specified function, so it gets lower)</td></tr>\n",
    "<tr><td>StepLR (It decays lr of each parameter grp by gamma every step size epochs)</td></tr>\n",
    "<tr><td>MultiStepLR (It decays lr of each parameter grp by gamma every milestone)</td></tr>\n",
    "<tr><td>ReduceLROnPlateu (Instead of reducing learning rate based on epochs, it reduces lr when a metric has stopped improving, metric used here will be validation loss)</td></tr>\n",
    "</tbody>\n",
    "</table>"
   ]
  },
  {
   "cell_type": "code",
   "execution_count": 20,
   "id": "p3TvQByj-IQN",
   "metadata": {
    "colab": {
     "base_uri": "https://localhost:8080/"
    },
    "id": "p3TvQByj-IQN",
    "outputId": "5d2d73ff-fb90-40f7-ad28-0eee369ebcff"
   },
   "outputs": [
    {
     "name": "stdout",
     "output_type": "stream",
     "text": [
      "1.12.1+cu113\n",
      "cuda\n"
     ]
    }
   ],
   "source": [
    "DEVICE = (\"cuda\" if torch.cuda.is_available() else \"cpu\")\n",
    "\n",
    "print(torch.__version__)\n",
    "print(DEVICE)#GPU"
   ]
  },
  {
   "cell_type": "code",
   "execution_count": 21,
   "id": "MkRXTPgKuiTS",
   "metadata": {
    "id": "MkRXTPgKuiTS"
   },
   "outputs": [],
   "source": [
    "#Initializing VGG-16 model\n",
    "class MyCustomNet(nn.Module):\n",
    "    def __init__(self):\n",
    "        super(MyCustomNet, self).__init__()\n",
    "\n",
    "        #Custom inspired VGG\n",
    "        self.vgglayer1 = nn.Sequential(\n",
    "            nn.Conv2d(in_channels=1, out_channels=64, kernel_size=3, padding=1),#self.conv1_1\n",
    "            nn.ReLU(),\n",
    "            nn.Conv2d(in_channels=64, out_channels=64, kernel_size=3, padding=1),\n",
    "            nn.ReLU(),\n",
    "            #nn.BatchNorm2d(64),\n",
    "        )\n",
    "        self.vgglayer2 = nn.Sequential(\n",
    "            nn.Conv2d(in_channels=64, out_channels=128, kernel_size=3, padding=1),\n",
    "            nn.ReLU(),\n",
    "            nn.Conv2d(in_channels=128, out_channels=128, kernel_size=3, padding=1),\n",
    "            nn.ReLU(),\n",
    "            #nn.BatchNorm2d(128),\n",
    "        )\n",
    "        \n",
    "        self.vgglayer3 = nn.Sequential(\n",
    "            nn.Conv2d(in_channels=128, out_channels=256, kernel_size=3, padding=1),\n",
    "            nn.ReLU(),\n",
    "            nn.Conv2d(in_channels=256, out_channels=256, kernel_size=3, padding=1),\n",
    "            nn.ReLU(),\n",
    "            nn.Conv2d(in_channels=256, out_channels=256, kernel_size=3, padding=1),\n",
    "            nn.ReLU(),\n",
    "           # nn.BatchNorm2d(256),\n",
    "        )\n",
    "        self.vgglayer4 = nn.Sequential(\n",
    "            nn.Conv2d(in_channels=256, out_channels=512, kernel_size=3, padding=1),\n",
    "            nn.ReLU(),\n",
    "            nn.Conv2d(in_channels=512, out_channels=512, kernel_size=3, padding=1),\n",
    "            nn.ReLU(),\n",
    "            nn.Conv2d(in_channels=512, out_channels=512, kernel_size=3, padding=1),\n",
    "            nn.ReLU(),\n",
    "            nn.BatchNorm2d(512),\n",
    "        )\n",
    "\n",
    "        self.vgglayer5 = nn.Sequential(\n",
    "            nn.Conv2d(in_channels=512, out_channels=512, kernel_size=3, padding=1),\n",
    "            nn.ReLU(),\n",
    "            nn.Conv2d(in_channels=512, out_channels=512, kernel_size=3, padding=1),\n",
    "            nn.ReLU(),\n",
    "            nn.Conv2d(in_channels=512, out_channels=512, kernel_size=3, padding=1),\n",
    "            nn.ReLU(),\n",
    "            nn.BatchNorm2d(512),\n",
    "        )\n",
    "\n",
    "        #Pooling\n",
    "        self.maxpool = nn.MaxPool2d(kernel_size=2, stride=2)\n",
    "        self.avgpool = nn.AdaptiveAvgPool2d((6, 6))\n",
    "\n",
    "        #Final Layer\n",
    "        self.classifier = nn.Sequential(\n",
    "            nn.Dropout(),\n",
    "            nn.Linear(512 * 6 * 6, 4096),\n",
    "            nn.ReLU(),\n",
    "            nn.Dropout(),\n",
    "            nn.Linear(4096, 4096),\n",
    "            nn.ReLU(),\n",
    "            nn.Linear(4096, 10),\n",
    "        )\n",
    "\n",
    "    def forward(self, x):\n",
    "        x = self.vgglayer1(x)\n",
    "        x = self.maxpool(x)\n",
    "        x = self.vgglayer2(x)\n",
    "        x = self.maxpool(x)\n",
    "        x = self.vgglayer3(x)\n",
    "        x = self.maxpool(x)\n",
    "        x = self.vgglayer4(x)\n",
    "        x = self.maxpool(x)\n",
    "        x = self.vgglayer5(x)      \n",
    "        x = self.avgpool(x)#Replace max with avg\n",
    "        #flatten at the end, to extract features\n",
    "        # x = x.reshape(x.shape[0], -1)\n",
    "        x=torch.flatten(x,1)#Replace resahpe with flatten\n",
    "        x=self.classifier(x)\n",
    "        return F.log_softmax(x) #Log softmax is advantageous over softmax for improved numerical performance and gradient optimization."
   ]
  },
  {
   "cell_type": "code",
   "execution_count": 22,
   "id": "iJBR1SX9lYgs",
   "metadata": {
    "id": "iJBR1SX9lYgs"
   },
   "outputs": [],
   "source": [
    "epoch=50#Max no. of epochs\n",
    "model = MyCustomNet().to(DEVICE)\n",
    "\n",
    "criterion = nn.CrossEntropyLoss()\n",
    "#criterion = nn.NLLLoss()\n",
    "#Adam already handles learning rate optimization\n",
    "#optimizer = optim.Adam(model.parameters(), lr= learning_rate, weight_decay=weight_decay)#Signs of overfitting, trg 99.17, val 91.67, Conclusion 1e-5 weight decay needs to be higher\n",
    "#optimizer = optim.SGD(model.parameters(), lr= learning_rate, weight_decay=1e-3, momentum=0.9)#Learning rate too slow\n",
    "optimizer = torch.optim.SGD(model.parameters(), lr= 1e-4, weight_decay=1e-5, nesterov=True, momentum=0.9)\n",
    "#Weight decay for L2 regularization\n",
    "\n",
    "#learning rate scheduler\n",
    "#Learning rate increases depending on epoch, epoch 1 is 0.1 lr, epoch 10 is 1 lr\n",
    "#lambda1 = lambda e: e/10\n",
    "#scheduler = torch.optim.lr_scheduler.LambdaLR(optimizer, lambda1)#Sets the learning rate of each parameter group to the initial lr times a given function. When last_epoch=-1, sets initial lr as lr.\n",
    "\n",
    "#works the same but multiplies the lr of each parameter group by the factor given in specified function, so it gets lower\n",
    "#lambda2 = lambda e:0.95\n",
    "#scheduler = torch.optim.lr_scheduler.MultiplicativeLR(optimizer, lr_lambda=lambda2)\n",
    "\n",
    "#It decays lr of each parameter grp by gamma every step size epochs\n",
    "#Every 15 epochs it decays by half\n",
    "#scheduler = torch.optim.lr_scheduler.StepLR(optimizer, step_size=15, gamma=0.5)\n",
    "\n",
    "#It decays lr of each parameter grp by gamma every milestone\n",
    "#scheduler = torch.optim.lr_scheduler.MultiStepLR(optimizer, milestones=[10,20,30], gamma=0.8)\n",
    "\n",
    "#Instead of reducing learning rate based on epochs, it reduces lr when a metric has stopped improving\n",
    "#Scheduler reads a metrics quantity and if no improvement is seen for a 'patience' number of epochs, lr is reduced\n",
    "scheduler = torch.optim.lr_scheduler.ReduceLROnPlateau(optimizer, mode='min', factor=0.2, patience=2)\n",
    "#Min mode to reduce when quantity monitored stopped, reduce by factor of 2-10 has shown improvements, patience if 4th epoch shows no improvement, decrease"
   ]
  },
  {
   "cell_type": "code",
   "execution_count": null,
   "id": "My5PnZfpliP9",
   "metadata": {
    "colab": {
     "base_uri": "https://localhost:8080/"
    },
    "id": "My5PnZfpliP9",
    "outputId": "1ac41d96-35a6-40c4-afac-1459cfa81c2a"
   },
   "outputs": [
    {
     "name": "stderr",
     "output_type": "stream",
     "text": [
      "/usr/local/lib/python3.7/dist-packages/ipykernel_launcher.py:81: UserWarning: Implicit dimension choice for log_softmax has been deprecated. Change the call to include dim=X as an argument.\n"
     ]
    },
    {
     "name": "stdout",
     "output_type": "stream",
     "text": [
      "Training Epoch 1 ] Accuracy : 44.63% Training Loss : 1.717139\n",
      "Validation Epoch 1 ] Accuracy : 66.95%  Loss : 0.9904772882461548\n",
      "Epoch 1 ] Time taken in seconds : 149.77014756202698\n",
      "Training Epoch 2 ] Accuracy : 72.81% Training Loss : 0.780903\n",
      "Validation Epoch 2 ] Accuracy : 75.70%  Loss : 0.6692897095680237\n",
      "Epoch 2 ] Time taken in seconds : 143.34542107582092\n",
      "Training Epoch 3 ] Accuracy : 77.57% Training Loss : 0.607387\n",
      "Validation Epoch 3 ] Accuracy : 78.77%  Loss : 0.5664192898273468\n",
      "Epoch 3 ] Time taken in seconds : 142.75638461112976\n",
      "Training Epoch 4 ] Accuracy : 80.49% Training Loss : 0.529203\n",
      "Validation Epoch 4 ] Accuracy : 81.44%  Loss : 0.5060404603481292\n",
      "Epoch 4 ] Time taken in seconds : 143.08200764656067\n",
      "Training Epoch 5 ] Accuracy : 82.71% Training Loss : 0.471611\n",
      "Validation Epoch 5 ] Accuracy : 83.29%  Loss : 0.4572698621749878\n",
      "Epoch 5 ] Time taken in seconds : 143.12289452552795\n",
      "Training Epoch 6 ] Accuracy : 84.42% Training Loss : 0.426701\n",
      "Validation Epoch 6 ] Accuracy : 85.21%  Loss : 0.41546595764160155\n",
      "Epoch 6 ] Time taken in seconds : 142.93640303611755\n",
      "Training Epoch 7 ] Accuracy : 85.82% Training Loss : 0.391190\n",
      "Validation Epoch 7 ] Accuracy : 85.82%  Loss : 0.3803607974052429\n",
      "Epoch 7 ] Time taken in seconds : 143.34808254241943\n",
      "Training Epoch 8 ] Accuracy : 86.84% Training Loss : 0.363198\n",
      "Validation Epoch 8 ] Accuracy : 86.95%  Loss : 0.35732286763191223\n",
      "Epoch 8 ] Time taken in seconds : 143.2661406993866\n",
      "Training Epoch 9 ] Accuracy : 87.72% Training Loss : 0.339368\n",
      "Validation Epoch 9 ] Accuracy : 88.15%  Loss : 0.3317228733301163\n",
      "Epoch 9 ] Time taken in seconds : 143.3593409061432\n",
      "Training Epoch 10 ] Accuracy : 88.29% Training Loss : 0.319814\n",
      "Validation Epoch 10 ] Accuracy : 88.67%  Loss : 0.3183345999717712\n",
      "Epoch 10 ] Time taken in seconds : 143.3973319530487\n",
      "Training Epoch 11 ] Accuracy : 89.01% Training Loss : 0.302699\n",
      "Validation Epoch 11 ] Accuracy : 88.73%  Loss : 0.31185768616199494\n",
      "Epoch 11 ] Time taken in seconds : 143.3139955997467\n",
      "Training Epoch 12 ] Accuracy : 89.40% Training Loss : 0.290731\n",
      "Validation Epoch 12 ] Accuracy : 89.53%  Loss : 0.29123620164394376\n",
      "Epoch 12 ] Time taken in seconds : 142.91783046722412\n",
      "Training Epoch 13 ] Accuracy : 89.86% Training Loss : 0.276312\n",
      "Validation Epoch 13 ] Accuracy : 89.90%  Loss : 0.2856521204710007\n",
      "Epoch 13 ] Time taken in seconds : 143.25715279579163\n",
      "Training Epoch 14 ] Accuracy : 90.31% Training Loss : 0.264436\n",
      "Validation Epoch 14 ] Accuracy : 90.09%  Loss : 0.2765524568557739\n",
      "Epoch 14 ] Time taken in seconds : 143.39763617515564\n",
      "Training Epoch 15 ] Accuracy : 90.62% Training Loss : 0.256111\n",
      "Validation Epoch 15 ] Accuracy : 89.87%  Loss : 0.2784833514690399\n",
      "Epoch 15 ] Time taken in seconds : 143.37000107765198\n",
      "Training Epoch 16 ] Accuracy : 91.01% Training Loss : 0.248149\n",
      "Validation Epoch 16 ] Accuracy : 90.45%  Loss : 0.26874460434913633\n",
      "Epoch 16 ] Time taken in seconds : 143.34735822677612\n",
      "Training Epoch 17 ] Accuracy : 91.24% Training Loss : 0.239123\n",
      "Validation Epoch 17 ] Accuracy : 90.69%  Loss : 0.2605129744410515\n",
      "Epoch 17 ] Time taken in seconds : 143.0506706237793\n",
      "Training Epoch 18 ] Accuracy : 91.58% Training Loss : 0.230968\n",
      "Validation Epoch 18 ] Accuracy : 90.98%  Loss : 0.25440239417552946\n",
      "Epoch 18 ] Time taken in seconds : 143.09301471710205\n",
      "Training Epoch 19 ] Accuracy : 91.82% Training Loss : 0.223543\n",
      "Validation Epoch 19 ] Accuracy : 89.92%  Loss : 0.2711928732395172\n",
      "Epoch 19 ] Time taken in seconds : 143.07449221611023\n",
      "Training Epoch 20 ] Accuracy : 92.24% Training Loss : 0.212853\n",
      "Validation Epoch 20 ] Accuracy : 90.91%  Loss : 0.24738084053993226\n",
      "Epoch 20 ] Time taken in seconds : 142.92220497131348\n",
      "Training Epoch 21 ] Accuracy : 92.41% Training Loss : 0.207478\n",
      "Validation Epoch 21 ] Accuracy : 91.36%  Loss : 0.24330195951461792\n",
      "Epoch 21 ] Time taken in seconds : 142.97819685935974\n",
      "Training Epoch 22 ] Accuracy : 92.87% Training Loss : 0.197986\n",
      "Validation Epoch 22 ] Accuracy : 91.41%  Loss : 0.24173745858669282\n",
      "Epoch 22 ] Time taken in seconds : 142.93674111366272\n",
      "Training Epoch 23 ] Accuracy : 93.00% Training Loss : 0.192917\n",
      "Validation Epoch 23 ] Accuracy : 91.76%  Loss : 0.22963849949836732\n",
      "Epoch 23 ] Time taken in seconds : 143.2612180709839\n",
      "Training Epoch 24 ] Accuracy : 93.32% Training Loss : 0.185176\n",
      "Validation Epoch 24 ] Accuracy : 91.73%  Loss : 0.23588793468475341\n",
      "Epoch 24 ] Time taken in seconds : 142.4649453163147\n",
      "Training Epoch 25 ] Accuracy : 93.62% Training Loss : 0.178103\n",
      "Validation Epoch 25 ] Accuracy : 91.64%  Loss : 0.23676297986507416\n",
      "Epoch 25 ] Time taken in seconds : 142.82710337638855\n",
      "Training Epoch 26 ] Accuracy : 93.79% Training Loss : 0.170447\n",
      "Validation Epoch 26 ] Accuracy : 91.49%  Loss : 0.23598418164253235\n",
      "Epoch 26 ] Time taken in seconds : 142.48749494552612\n",
      "Training Epoch 27 ] Accuracy : 94.90% Training Loss : 0.146195\n",
      "Validation Epoch 27 ] Accuracy : 92.36%  Loss : 0.21792184513807297\n",
      "Epoch 27 ] Time taken in seconds : 142.97456192970276\n",
      "Training Epoch 28 ] Accuracy : 95.19% Training Loss : 0.137562\n",
      "Validation Epoch 28 ] Accuracy : 92.53%  Loss : 0.21561100071668624\n",
      "Epoch 28 ] Time taken in seconds : 142.94427371025085\n",
      "Training Epoch 29 ] Accuracy : 95.41% Training Loss : 0.134441\n",
      "Validation Epoch 29 ] Accuracy : 92.37%  Loss : 0.21388558650016784\n",
      "Epoch 29 ] Time taken in seconds : 143.1691222190857\n",
      "Training Epoch 30 ] Accuracy : 95.46% Training Loss : 0.131583\n",
      "Validation Epoch 30 ] Accuracy : 92.36%  Loss : 0.21853682869672775\n",
      "Epoch 30 ] Time taken in seconds : 142.98978972434998\n",
      "Training Epoch 31 ] Accuracy : 95.54% Training Loss : 0.129391\n",
      "Validation Epoch 31 ] Accuracy : 92.30%  Loss : 0.218299183011055\n",
      "Epoch 31 ] Time taken in seconds : 143.28808736801147\n",
      "Training Epoch 32 ] Accuracy : 95.65% Training Loss : 0.125987\n",
      "Validation Epoch 32 ] Accuracy : 92.49%  Loss : 0.21908941447734834\n",
      "Epoch 32 ] Time taken in seconds : 143.17833352088928\n",
      "Training Epoch 33 ] Accuracy : 95.93% Training Loss : 0.120492\n",
      "Validation Epoch 33 ] Accuracy : 92.23%  Loss : 0.21566786724328996\n",
      "Epoch 33 ] Time taken in seconds : 142.93572974205017\n",
      "Early Stopping\n",
      "Total time in seconds: 4728.564109325409\n"
     ]
    }
   ],
   "source": [
    "sum = 0\n",
    "\n",
    "#epoch=10\n",
    "totalTime=[]\n",
    "\n",
    "#Train and Val accuracy & loss Arrays\n",
    "train_acc_array=[]\n",
    "train_loss_array=[]\n",
    "val_acc_array=[]\n",
    "val_loss_array=[]\n",
    "\n",
    "#Early stop variables\n",
    "n_epochs_stop = 4\n",
    "epochs_no_improve = 0\n",
    "early_stop = False\n",
    "min_val_loss=1\n",
    "\n",
    "#Training model on train and validation sets\n",
    "for e in range(epoch): \n",
    "    startTime = time.time()\n",
    "    train_loss=0.0\n",
    "    num_correct=0\n",
    "    num_samples=0\n",
    "    \n",
    "    #Training loop\n",
    "    for batch_idx, (data, targets) in enumerate(train_loader):\n",
    "        #Transfer data to GPU if available\n",
    "        data = data.to(DEVICE)\n",
    "        targets = targets.to(DEVICE)\n",
    "        ## Clear gradients\n",
    "        optimizer.zero_grad()\n",
    "        #Forward pass\n",
    "        scores = model(data)\n",
    "        #find the loss\n",
    "        loss = criterion(scores,targets)\n",
    "        #Calculate gradients\n",
    "        loss.backward()\n",
    "        #Update weights\n",
    "        optimizer.step()\n",
    "        #Calculate loss\n",
    "        train_loss += loss.item()\n",
    "        #calulcate Accuracy\n",
    "        _, predictions = scores.max(1)\n",
    "        num_correct += (predictions == targets).sum()\n",
    "        num_samples += predictions.size(0)\n",
    "    print(f\"Training Epoch {e+1} ] Accuracy : {float(num_correct) / float(num_samples) * 100:.2f}% Training Loss : {train_loss/len(train_loader):.6f}\")\n",
    "    train_loss_array.append(train_loss/len(train_loader))\n",
    "    train_acc_array.append(float(num_correct) / float(num_samples) * 100)\n",
    "\n",
    "    num_correct=0\n",
    "    num_samples=0\n",
    "    #Validation Loop\n",
    "    with torch.no_grad():\n",
    "        valid_loss=0.0\n",
    "        num_correct = 0\n",
    "        num_samples = 0\n",
    "        for batch_idx, (data,targets) in enumerate(val_loader):\n",
    "            data = data.to(DEVICE)\n",
    "            targets = targets.to(DEVICE)\n",
    "\n",
    "            ## Forward Pass\n",
    "            scores = model(data)\n",
    "\n",
    "            loss = criterion(scores,targets)\n",
    "            valid_loss+=loss.item()\n",
    "\n",
    "            _, predictions = scores.max(1)\n",
    "            num_correct += (predictions == targets).sum()\n",
    "            num_samples += predictions.size(0)\n",
    "\n",
    "        print(f\"Validation Epoch {e+1} ] Accuracy : {float(num_correct) / float(num_samples) * 100:.2f}%  Loss : {valid_loss/len(val_loader)}\")\n",
    "        val_acc_array.append(float(num_correct) / float(num_samples) * 100)\n",
    "        val_loss_array.append(valid_loss/len(val_loader))\n",
    "        #Early stopping\n",
    "        if (valid_loss/len(val_loader)) < min_val_loss:\n",
    "            epochs_no_improve=0\n",
    "            min_val_loss=(valid_loss/len(val_loader))\n",
    "            # print(f'epochs_no_improve:{epochs_no_improve}')\n",
    "            # print(f'epoch, e:{e}')\n",
    "            # print(f'n_epochs_stop:{n_epochs_stop}')\n",
    "            # print(f'min_val_loss:{min_val_loss}')\n",
    "        else:\n",
    "            epochs_no_improve+=1\n",
    "            # print(f'epochs_no_improve:{epochs_no_improve}')\n",
    "            # print(f'epoch, e:{e}')\n",
    "            # print(f'n_epochs_stop:{n_epochs_stop}')\n",
    "    \n",
    "        if e>5 and epochs_no_improve==n_epochs_stop:\n",
    "            # print(f'epochs_no_improve:{epochs_no_improve}')\n",
    "            # print(f'epoch, e:{e}')\n",
    "            # print(f'n_epochs_stop:{n_epochs_stop}')\n",
    "            early_stop=True\n",
    "    \n",
    "    #Learning rate scheduler\n",
    "    scheduler.step(valid_loss/len(val_loader))\n",
    "    #Calculate time for each epoch\n",
    "    executionTime = (time.time() - startTime)\n",
    "    totalTime.append(executionTime)\n",
    "    print(f'Epoch {e+1} ] Time taken in seconds : {str(executionTime)}')\n",
    "    #Check early stopping condition\n",
    "    if early_stop:\n",
    "      print(\"Early Stopping\")\n",
    "      break\n",
    "    \n",
    "\n",
    "#Calculating total time for 10 epochs\n",
    "for i in totalTime:\n",
    "    sum = sum + i\n",
    "    \n",
    "print(f'Total time in seconds: {sum}')"
   ]
  },
  {
   "cell_type": "code",
   "execution_count": null,
   "id": "Q3i3iRO6-9Bf",
   "metadata": {
    "colab": {
     "base_uri": "https://localhost:8080/",
     "height": 350
    },
    "id": "Q3i3iRO6-9Bf",
    "outputId": "32c5eaa3-abd5-488f-d124-812e5041674b"
   },
   "outputs": [
    {
     "data": {
      "image/png": "[encoded data removed]",
      "text/plain": [
       "<Figure size 720x360 with 1 Axes>"
      ]
     },
     "metadata": {
      "needs_background": "light"
     },
     "output_type": "display_data"
    }
   ],
   "source": [
    "plt.figure(figsize=(10,5))\n",
    "plt.title(\"MyCustomNet Training and Validation Loss\")\n",
    "plt.plot(val_loss_array,label=\"val\")\n",
    "plt.plot(train_loss_array,label=\"train\")\n",
    "plt.xlabel(\"iterations\")\n",
    "plt.ylabel(\"Loss\")\n",
    "plt.legend()\n",
    "plt.show()"
   ]
  },
  {
   "cell_type": "code",
   "execution_count": null,
   "id": "KY_sEXSZ_CDa",
   "metadata": {
    "colab": {
     "base_uri": "https://localhost:8080/",
     "height": 350
    },
    "id": "KY_sEXSZ_CDa",
    "outputId": "2dd7de8b-890a-4f55-cfd4-8e99e82f5e7b"
   },
   "outputs": [
    {
     "data": {
      "image/png": "[encoded data removed]",
      "text/plain": [
       "<Figure size 720x360 with 1 Axes>"
      ]
     },
     "metadata": {
      "needs_background": "light"
     },
     "output_type": "display_data"
    }
   ],
   "source": [
    "plt.figure(figsize=(10,5))\n",
    "plt.title(\"MyCustomNet Training and Validation Accuracy\")\n",
    "plt.plot(val_acc_array,label=\"val\")\n",
    "plt.plot(train_acc_array,label=\"train\")\n",
    "plt.xlabel(\"iterations\")\n",
    "plt.ylabel(\"Accuracy\")\n",
    "plt.legend()\n",
    "plt.show()"
   ]
  },
  {
   "cell_type": "code",
   "execution_count": null,
   "id": "XzqgutLCE4VH",
   "metadata": {
    "colab": {
     "base_uri": "https://localhost:8080/"
    },
    "id": "XzqgutLCE4VH",
    "outputId": "64a8f125-8085-4d4b-eac2-ae2b16c2c381"
   },
   "outputs": [
    {
     "name": "stderr",
     "output_type": "stream",
     "text": [
      "/usr/local/lib/python3.7/dist-packages/ipykernel_launcher.py:81: UserWarning: Implicit dimension choice for log_softmax has been deprecated. Change the call to include dim=X as an argument.\n"
     ]
    },
    {
     "name": "stdout",
     "output_type": "stream",
     "text": [
      "Accuracy of network on 10000 images in test_loader: 92.06%\n"
     ]
    }
   ],
   "source": [
    "#Evaluating Accuracy on test set\n",
    "num_correct = 0\n",
    "num_samples = 0\n",
    "for batch_idx, (data,targets) in enumerate(test_loader):\n",
    "    data = data.to(DEVICE)\n",
    "    targets = targets.to(DEVICE)\n",
    "    ## Forward Pass\n",
    "    scores = model(data)\n",
    "    _, predictions = scores.max(1)\n",
    "    num_correct += (predictions == targets).sum()\n",
    "    num_samples += predictions.size(0)\n",
    "print(f\"Accuracy of network on 10000 images in test_loader: {float(num_correct) / float(num_samples) * 100:.2f}%\")"
   ]
  },
  {
   "cell_type": "code",
   "execution_count": 24,
   "id": "6ed64049",
   "metadata": {
    "id": "6ed64049"
   },
   "outputs": [],
   "source": [
    "#Save the model\n",
    "torch.save(model, 'MyCustomNetMNIST.pt')"
   ]
  },
  {
   "cell_type": "code",
   "execution_count": null,
   "id": "e760570a",
   "metadata": {
    "id": "e760570a"
   },
   "outputs": [],
   "source": [
    "#Load model\n",
    "# Model class must be defined somewhere\n",
    "model = torch.load('MyCustomNetMNIST.pt')"
   ]
  },
  {
   "cell_type": "markdown",
   "id": "ULBIa_eZ_uDk",
   "metadata": {
    "id": "ULBIa_eZ_uDk"
   },
   "source": [
    "##5. Final Model 91.42% Accuracy with good loss curve and accuracy curves"
   ]
  },
  {
   "cell_type": "code",
   "execution_count": 25,
   "id": "TwIybhKse3uL",
   "metadata": {
    "id": "TwIybhKse3uL"
   },
   "outputs": [],
   "source": [
    "# Class names\n",
    "Classes = [\n",
    "            \"T-shirt/top\",\n",
    "            \"Trouser\",\n",
    "            \"Pullover\",\n",
    "            \"Dress\",\n",
    "            \"Coat\",\n",
    "            \"Sandal\",\n",
    "            \"Shirt\",\n",
    "            \"Sneaker\",\n",
    "            \"Bag\",\n",
    "            \"Ankle boot\"\n",
    "        ]"
   ]
  },
  {
   "cell_type": "code",
   "execution_count": null,
   "id": "ZydrMQZdGoiA",
   "metadata": {
    "colab": {
     "base_uri": "https://localhost:8080/",
     "height": 1000
    },
    "id": "ZydrMQZdGoiA",
    "outputId": "245fc3b9-8120-4137-de06-acde067fc2b0"
   },
   "outputs": [
    {
     "name": "stderr",
     "output_type": "stream",
     "text": [
      "/usr/local/lib/python3.7/dist-packages/ipykernel_launcher.py:81: UserWarning: Implicit dimension choice for log_softmax has been deprecated. Change the call to include dim=X as an argument.\n"
     ]
    },
    {
     "data": {
      "image/png": "[encoded data removed]",
      "text/plain": [
       "<Figure size 1440x1440 with 25 Axes>"
      ]
     },
     "metadata": {
      "needs_background": "light"
     },
     "output_type": "display_data"
    }
   ],
   "source": [
    "#Evaluating images in test_loader\n",
    "test_images = iter(test_loader)\n",
    "plt.figure(figsize=(20, 20)) \n",
    "data, target= next(test_images) \n",
    "image = data.to(DEVICE)\n",
    "labels = target.to(DEVICE)\n",
    "\n",
    "model.eval() \n",
    "predictions = model(image) \n",
    "y_pred = torch.argmax(predictions, dim=1).to(DEVICE) \n",
    "\n",
    "for i in range(25):\n",
    "  ax = plt.subplot(5, 5, i + 1) \n",
    "  plt.imshow(data[i].permute(1,2,0).numpy().reshape((80,80)).astype(\"uint8\"), cmap = 'gray')\n",
    "  current_index = i\n",
    "  plt.title(f\"index : {current_index}\\n{Classes[int(y_pred[current_index:current_index+1])]}\")\n",
    "  plt.axis(\"off\")"
   ]
  },
  {
   "cell_type": "code",
   "execution_count": 28,
   "id": "1RXlO2KChrQp",
   "metadata": {
    "colab": {
     "base_uri": "https://localhost:8080/",
     "height": 550
    },
    "id": "1RXlO2KChrQp",
    "outputId": "cd118c00-d2e1-426e-9686-881864ad6dec"
   },
   "outputs": [
    {
     "name": "stdout",
     "output_type": "stream",
     "text": [
      "Getting predictions from test set...\n"
     ]
    },
    {
     "name": "stderr",
     "output_type": "stream",
     "text": [
      "/usr/local/lib/python3.7/dist-packages/ipykernel_launcher.py:81: UserWarning: Implicit dimension choice for log_softmax has been deprecated. Change the call to include dim=X as an argument.\n"
     ]
    },
    {
     "data": {
      "text/plain": [
       "<Figure size 1440x1440 with 0 Axes>"
      ]
     },
     "metadata": {},
     "output_type": "display_data"
    },
    {
     "data": {
      "image/png": "[encoded data removed]",
      "text/plain": [
       "<Figure size 504x504 with 2 Axes>"
      ]
     },
     "metadata": {
      "needs_background": "light"
     },
     "output_type": "display_data"
    }
   ],
   "source": [
    "import seaborn as sns\n",
    "from sklearn.metrics import confusion_matrix\n",
    "import pandas as pd\n",
    "# Defining Labels and Predictions\n",
    "test_images = iter(test_loader)\n",
    "plt.figure(figsize=(20, 20)) # Set figure size \n",
    "data, target= next(test_images) # get the images from the test images that we iterate over\n",
    "image = data.to(device)\n",
    "labels = target.to(device)\n",
    "truelabels = []\n",
    "predictions = []\n",
    "model.eval()\n",
    "print(\"Getting predictions from test set...\")\n",
    "for data, target in test_loader:\n",
    "    data = data.to(device)\n",
    "    target = target.to(device)\n",
    "    for label in target.cpu().data.numpy():\n",
    "        truelabels.append(label)\n",
    "    for prediction in model(data).cpu().data.numpy().argmax(1):\n",
    "        predictions.append(prediction) \n",
    "\n",
    "# Plot the confusion matrix\n",
    "cm = confusion_matrix(truelabels, predictions)\n",
    "tick_marks = np.arange(len(Classes))\n",
    "\n",
    "df_cm = pd.DataFrame(cm, index = Classes, columns = Classes)\n",
    "plt.figure(figsize = (7,7))\n",
    "sns.heatmap(df_cm, annot=True, cmap=plt.cm.Blues, fmt='g')\n",
    "plt.xlabel(\"Predicted Shape\", fontsize = 20)\n",
    "plt.ylabel(\"True Shape\", fontsize = 20)\n",
    "plt.show()"
   ]
  },
  {
   "cell_type": "code",
   "execution_count": null,
   "id": "aLcCKCBDvcBm",
   "metadata": {
    "id": "aLcCKCBDvcBm"
   },
   "outputs": [],
   "source": []
  }
 ],
 "metadata": {
  "accelerator": "GPU",
  "colab": {
   "collapsed_sections": [
    "jUUmt9ueculX"
   ],
   "provenance": []
  },
  "gpuClass": "standard",
  "kernelspec": {
   "display_name": "Python 3 (ipykernel)",
   "language": "python",
   "name": "python3"
  },
  "language_info": {
   "codemirror_mode": {
    "name": "ipython",
    "version": 3
   },
   "file_extension": ".py",
   "mimetype": "text/x-python",
   "name": "python",
   "nbconvert_exporter": "python",
   "pygments_lexer": "ipython3",
   "version": "3.9.13"
  },
  "vscode": {
   "interpreter": {
    "hash": "81794d4967e6c3204c66dcd87b604927b115b27c00565d3d43f05ba2f3a2cb0d"
   }
  },
  "widgets": {
   "application/vnd.jupyter.widget-state+json": {
    "0102129709034bdb8e85ea61a7961293": {
     "model_module": "@jupyter-widgets/controls",
     "model_module_version": "1.5.0",
     "model_name": "ProgressStyleModel",
     "state": {
      "_model_module": "@jupyter-widgets/controls",
      "_model_module_version": "1.5.0",
      "_model_name": "ProgressStyleModel",
      "_view_count": null,
      "_view_module": "@jupyter-widgets/base",
      "_view_module_version": "1.2.0",
      "_view_name": "StyleView",
      "bar_color": null,
      "description_width": ""
     }
    },
    "01ebe985fa624b16a8536f087b32140a": {
     "model_module": "@jupyter-widgets/controls",
     "model_module_version": "1.5.0",
     "model_name": "DescriptionStyleModel",
     "state": {
      "_model_module": "@jupyter-widgets/controls",
      "_model_module_version": "1.5.0",
      "_model_name": "DescriptionStyleModel",
      "_view_count": null,
      "_view_module": "@jupyter-widgets/base",
      "_view_module_version": "1.2.0",
      "_view_name": "StyleView",
      "description_width": ""
     }
    },
    "113566d609894b8b985e0aca84f15146": {
     "model_module": "@jupyter-widgets/controls",
     "model_module_version": "1.5.0",
     "model_name": "HBoxModel",
     "state": {
      "_dom_classes": [],
      "_model_module": "@jupyter-widgets/controls",
      "_model_module_version": "1.5.0",
      "_model_name": "HBoxModel",
      "_view_count": null,
      "_view_module": "@jupyter-widgets/controls",
      "_view_module_version": "1.5.0",
      "_view_name": "HBoxView",
      "box_style": "",
      "children": [
       "IPY_MODEL_590fb6155b8342b7ad10b5aed3ff8418",
       "IPY_MODEL_f8b62f8a9acb4e7eac2ebe93f2b1cc07",
       "IPY_MODEL_5b2785d3c8184b4884b109e754b9c884"
      ],
      "layout": "IPY_MODEL_da5c90fc1f784663bca5fa2b3f6c5633"
     }
    },
    "1707b4c325714a1388b5f9863a0e4e2e": {
     "model_module": "@jupyter-widgets/controls",
     "model_module_version": "1.5.0",
     "model_name": "HTMLModel",
     "state": {
      "_dom_classes": [],
      "_model_module": "@jupyter-widgets/controls",
      "_model_module_version": "1.5.0",
      "_model_name": "HTMLModel",
      "_view_count": null,
      "_view_module": "@jupyter-widgets/controls",
      "_view_module_version": "1.5.0",
      "_view_name": "HTMLView",
      "description": "",
      "description_tooltip": null,
      "layout": "IPY_MODEL_433838841deb4e6e80389fb33b77a2d0",
      "placeholder": "​",
      "style": "IPY_MODEL_cedfd655e1604135ac3a2b3a48b9f0d9",
      "value": " 29515/29515 [00:00&lt;00:00, 141742.62it/s]"
     }
    },
    "1aaad9a2d60f4a28a9af430e7ee0044b": {
     "model_module": "@jupyter-widgets/base",
     "model_module_version": "1.2.0",
     "model_name": "LayoutModel",
     "state": {
      "_model_module": "@jupyter-widgets/base",
      "_model_module_version": "1.2.0",
      "_model_name": "LayoutModel",
      "_view_count": null,
      "_view_module": "@jupyter-widgets/base",
      "_view_module_version": "1.2.0",
      "_view_name": "LayoutView",
      "align_content": null,
      "align_items": null,
      "align_self": null,
      "border": null,
      "bottom": null,
      "display": null,
      "flex": null,
      "flex_flow": null,
      "grid_area": null,
      "grid_auto_columns": null,
      "grid_auto_flow": null,
      "grid_auto_rows": null,
      "grid_column": null,
      "grid_gap": null,
      "grid_row": null,
      "grid_template_areas": null,
      "grid_template_columns": null,
      "grid_template_rows": null,
      "height": null,
      "justify_content": null,
      "justify_items": null,
      "left": null,
      "margin": null,
      "max_height": null,
      "max_width": null,
      "min_height": null,
      "min_width": null,
      "object_fit": null,
      "object_position": null,
      "order": null,
      "overflow": null,
      "overflow_x": null,
      "overflow_y": null,
      "padding": null,
      "right": null,
      "top": null,
      "visibility": null,
      "width": null
     }
    },
    "1eca25210eb74973b3ee6270cb288351": {
     "model_module": "@jupyter-widgets/controls",
     "model_module_version": "1.5.0",
     "model_name": "DescriptionStyleModel",
     "state": {
      "_model_module": "@jupyter-widgets/controls",
      "_model_module_version": "1.5.0",
      "_model_name": "DescriptionStyleModel",
      "_view_count": null,
      "_view_module": "@jupyter-widgets/base",
      "_view_module_version": "1.2.0",
      "_view_name": "StyleView",
      "description_width": ""
     }
    },
    "1f873eb512dd4788aaabafac462970c5": {
     "model_module": "@jupyter-widgets/controls",
     "model_module_version": "1.5.0",
     "model_name": "HBoxModel",
     "state": {
      "_dom_classes": [],
      "_model_module": "@jupyter-widgets/controls",
      "_model_module_version": "1.5.0",
      "_model_name": "HBoxModel",
      "_view_count": null,
      "_view_module": "@jupyter-widgets/controls",
      "_view_module_version": "1.5.0",
      "_view_name": "HBoxView",
      "box_style": "",
      "children": [
       "IPY_MODEL_c823dafa387741ee907356295a1ea78d",
       "IPY_MODEL_798ce7f775a64a2cb5f784feff3aa516",
       "IPY_MODEL_ebd68fccb5c64eb1bd26da0ffb223d37"
      ],
      "layout": "IPY_MODEL_29ba602a709b4d6a81fb539f41654e4b"
     }
    },
    "2507d219dece4e75aad52e0476ecc0da": {
     "model_module": "@jupyter-widgets/controls",
     "model_module_version": "1.5.0",
     "model_name": "ProgressStyleModel",
     "state": {
      "_model_module": "@jupyter-widgets/controls",
      "_model_module_version": "1.5.0",
      "_model_name": "ProgressStyleModel",
      "_view_count": null,
      "_view_module": "@jupyter-widgets/base",
      "_view_module_version": "1.2.0",
      "_view_name": "StyleView",
      "bar_color": null,
      "description_width": ""
     }
    },
    "29ba602a709b4d6a81fb539f41654e4b": {
     "model_module": "@jupyter-widgets/base",
     "model_module_version": "1.2.0",
     "model_name": "LayoutModel",
     "state": {
      "_model_module": "@jupyter-widgets/base",
      "_model_module_version": "1.2.0",
      "_model_name": "LayoutModel",
      "_view_count": null,
      "_view_module": "@jupyter-widgets/base",
      "_view_module_version": "1.2.0",
      "_view_name": "LayoutView",
      "align_content": null,
      "align_items": null,
      "align_self": null,
      "border": null,
      "bottom": null,
      "display": null,
      "flex": null,
      "flex_flow": null,
      "grid_area": null,
      "grid_auto_columns": null,
      "grid_auto_flow": null,
      "grid_auto_rows": null,
      "grid_column": null,
      "grid_gap": null,
      "grid_row": null,
      "grid_template_areas": null,
      "grid_template_columns": null,
      "grid_template_rows": null,
      "height": null,
      "justify_content": null,
      "justify_items": null,
      "left": null,
      "margin": null,
      "max_height": null,
      "max_width": null,
      "min_height": null,
      "min_width": null,
      "object_fit": null,
      "object_position": null,
      "order": null,
      "overflow": null,
      "overflow_x": null,
      "overflow_y": null,
      "padding": null,
      "right": null,
      "top": null,
      "visibility": null,
      "width": null
     }
    },
    "3463fc67df4241e4b3f9d0ef9b1d2a4d": {
     "model_module": "@jupyter-widgets/base",
     "model_module_version": "1.2.0",
     "model_name": "LayoutModel",
     "state": {
      "_model_module": "@jupyter-widgets/base",
      "_model_module_version": "1.2.0",
      "_model_name": "LayoutModel",
      "_view_count": null,
      "_view_module": "@jupyter-widgets/base",
      "_view_module_version": "1.2.0",
      "_view_name": "LayoutView",
      "align_content": null,
      "align_items": null,
      "align_self": null,
      "border": null,
      "bottom": null,
      "display": null,
      "flex": null,
      "flex_flow": null,
      "grid_area": null,
      "grid_auto_columns": null,
      "grid_auto_flow": null,
      "grid_auto_rows": null,
      "grid_column": null,
      "grid_gap": null,
      "grid_row": null,
      "grid_template_areas": null,
      "grid_template_columns": null,
      "grid_template_rows": null,
      "height": null,
      "justify_content": null,
      "justify_items": null,
      "left": null,
      "margin": null,
      "max_height": null,
      "max_width": null,
      "min_height": null,
      "min_width": null,
      "object_fit": null,
      "object_position": null,
      "order": null,
      "overflow": null,
      "overflow_x": null,
      "overflow_y": null,
      "padding": null,
      "right": null,
      "top": null,
      "visibility": null,
      "width": null
     }
    },
    "3a311447a7b8495887743a19467150d5": {
     "model_module": "@jupyter-widgets/base",
     "model_module_version": "1.2.0",
     "model_name": "LayoutModel",
     "state": {
      "_model_module": "@jupyter-widgets/base",
      "_model_module_version": "1.2.0",
      "_model_name": "LayoutModel",
      "_view_count": null,
      "_view_module": "@jupyter-widgets/base",
      "_view_module_version": "1.2.0",
      "_view_name": "LayoutView",
      "align_content": null,
      "align_items": null,
      "align_self": null,
      "border": null,
      "bottom": null,
      "display": null,
      "flex": null,
      "flex_flow": null,
      "grid_area": null,
      "grid_auto_columns": null,
      "grid_auto_flow": null,
      "grid_auto_rows": null,
      "grid_column": null,
      "grid_gap": null,
      "grid_row": null,
      "grid_template_areas": null,
      "grid_template_columns": null,
      "grid_template_rows": null,
      "height": null,
      "justify_content": null,
      "justify_items": null,
      "left": null,
      "margin": null,
      "max_height": null,
      "max_width": null,
      "min_height": null,
      "min_width": null,
      "object_fit": null,
      "object_position": null,
      "order": null,
      "overflow": null,
      "overflow_x": null,
      "overflow_y": null,
      "padding": null,
      "right": null,
      "top": null,
      "visibility": null,
      "width": null
     }
    },
    "3f7f9fd646f44a9baafb656f04826a19": {
     "model_module": "@jupyter-widgets/controls",
     "model_module_version": "1.5.0",
     "model_name": "FloatProgressModel",
     "state": {
      "_dom_classes": [],
      "_model_module": "@jupyter-widgets/controls",
      "_model_module_version": "1.5.0",
      "_model_name": "FloatProgressModel",
      "_view_count": null,
      "_view_module": "@jupyter-widgets/controls",
      "_view_module_version": "1.5.0",
      "_view_name": "ProgressView",
      "bar_style": "success",
      "description": "",
      "description_tooltip": null,
      "layout": "IPY_MODEL_9caca522675a4186989f803b522b9086",
      "max": 26421880,
      "min": 0,
      "orientation": "horizontal",
      "style": "IPY_MODEL_2507d219dece4e75aad52e0476ecc0da",
      "value": 26421880
     }
    },
    "40ad30f140e84d678464a886ca1d4d78": {
     "model_module": "@jupyter-widgets/base",
     "model_module_version": "1.2.0",
     "model_name": "LayoutModel",
     "state": {
      "_model_module": "@jupyter-widgets/base",
      "_model_module_version": "1.2.0",
      "_model_name": "LayoutModel",
      "_view_count": null,
      "_view_module": "@jupyter-widgets/base",
      "_view_module_version": "1.2.0",
      "_view_name": "LayoutView",
      "align_content": null,
      "align_items": null,
      "align_self": null,
      "border": null,
      "bottom": null,
      "display": null,
      "flex": null,
      "flex_flow": null,
      "grid_area": null,
      "grid_auto_columns": null,
      "grid_auto_flow": null,
      "grid_auto_rows": null,
      "grid_column": null,
      "grid_gap": null,
      "grid_row": null,
      "grid_template_areas": null,
      "grid_template_columns": null,
      "grid_template_rows": null,
      "height": null,
      "justify_content": null,
      "justify_items": null,
      "left": null,
      "margin": null,
      "max_height": null,
      "max_width": null,
      "min_height": null,
      "min_width": null,
      "object_fit": null,
      "object_position": null,
      "order": null,
      "overflow": null,
      "overflow_x": null,
      "overflow_y": null,
      "padding": null,
      "right": null,
      "top": null,
      "visibility": null,
      "width": null
     }
    },
    "433838841deb4e6e80389fb33b77a2d0": {
     "model_module": "@jupyter-widgets/base",
     "model_module_version": "1.2.0",
     "model_name": "LayoutModel",
     "state": {
      "_model_module": "@jupyter-widgets/base",
      "_model_module_version": "1.2.0",
      "_model_name": "LayoutModel",
      "_view_count": null,
      "_view_module": "@jupyter-widgets/base",
      "_view_module_version": "1.2.0",
      "_view_name": "LayoutView",
      "align_content": null,
      "align_items": null,
      "align_self": null,
      "border": null,
      "bottom": null,
      "display": null,
      "flex": null,
      "flex_flow": null,
      "grid_area": null,
      "grid_auto_columns": null,
      "grid_auto_flow": null,
      "grid_auto_rows": null,
      "grid_column": null,
      "grid_gap": null,
      "grid_row": null,
      "grid_template_areas": null,
      "grid_template_columns": null,
      "grid_template_rows": null,
      "height": null,
      "justify_content": null,
      "justify_items": null,
      "left": null,
      "margin": null,
      "max_height": null,
      "max_width": null,
      "min_height": null,
      "min_width": null,
      "object_fit": null,
      "object_position": null,
      "order": null,
      "overflow": null,
      "overflow_x": null,
      "overflow_y": null,
      "padding": null,
      "right": null,
      "top": null,
      "visibility": null,
      "width": null
     }
    },
    "454e749c5153444a91283ef6e9d62d38": {
     "model_module": "@jupyter-widgets/controls",
     "model_module_version": "1.5.0",
     "model_name": "HTMLModel",
     "state": {
      "_dom_classes": [],
      "_model_module": "@jupyter-widgets/controls",
      "_model_module_version": "1.5.0",
      "_model_name": "HTMLModel",
      "_view_count": null,
      "_view_module": "@jupyter-widgets/controls",
      "_view_module_version": "1.5.0",
      "_view_name": "HTMLView",
      "description": "",
      "description_tooltip": null,
      "layout": "IPY_MODEL_3463fc67df4241e4b3f9d0ef9b1d2a4d",
      "placeholder": "​",
      "style": "IPY_MODEL_b5ca78ceb6eb4db6b879d59b655f6d43",
      "value": " 26421880/26421880 [00:03&lt;00:00, 13206960.18it/s]"
     }
    },
    "4c710df4535745f3a2e06b7306616f11": {
     "model_module": "@jupyter-widgets/controls",
     "model_module_version": "1.5.0",
     "model_name": "ProgressStyleModel",
     "state": {
      "_model_module": "@jupyter-widgets/controls",
      "_model_module_version": "1.5.0",
      "_model_name": "ProgressStyleModel",
      "_view_count": null,
      "_view_module": "@jupyter-widgets/base",
      "_view_module_version": "1.2.0",
      "_view_name": "StyleView",
      "bar_color": null,
      "description_width": ""
     }
    },
    "553fd6efd69b44d3aeb3cf5cc33980cb": {
     "model_module": "@jupyter-widgets/controls",
     "model_module_version": "1.5.0",
     "model_name": "DescriptionStyleModel",
     "state": {
      "_model_module": "@jupyter-widgets/controls",
      "_model_module_version": "1.5.0",
      "_model_name": "DescriptionStyleModel",
      "_view_count": null,
      "_view_module": "@jupyter-widgets/base",
      "_view_module_version": "1.2.0",
      "_view_name": "StyleView",
      "description_width": ""
     }
    },
    "590fb6155b8342b7ad10b5aed3ff8418": {
     "model_module": "@jupyter-widgets/controls",
     "model_module_version": "1.5.0",
     "model_name": "HTMLModel",
     "state": {
      "_dom_classes": [],
      "_model_module": "@jupyter-widgets/controls",
      "_model_module_version": "1.5.0",
      "_model_name": "HTMLModel",
      "_view_count": null,
      "_view_module": "@jupyter-widgets/controls",
      "_view_module_version": "1.5.0",
      "_view_name": "HTMLView",
      "description": "",
      "description_tooltip": null,
      "layout": "IPY_MODEL_1aaad9a2d60f4a28a9af430e7ee0044b",
      "placeholder": "​",
      "style": "IPY_MODEL_c07ac2aa349a40368a8aa7a8abc02928",
      "value": "100%"
     }
    },
    "5b2785d3c8184b4884b109e754b9c884": {
     "model_module": "@jupyter-widgets/controls",
     "model_module_version": "1.5.0",
     "model_name": "HTMLModel",
     "state": {
      "_dom_classes": [],
      "_model_module": "@jupyter-widgets/controls",
      "_model_module_version": "1.5.0",
      "_model_name": "HTMLModel",
      "_view_count": null,
      "_view_module": "@jupyter-widgets/controls",
      "_view_module_version": "1.5.0",
      "_view_name": "HTMLView",
      "description": "",
      "description_tooltip": null,
      "layout": "IPY_MODEL_d1e6a702ac7f4814b6f84f6c775e82f0",
      "placeholder": "​",
      "style": "IPY_MODEL_01ebe985fa624b16a8536f087b32140a",
      "value": " 4422102/4422102 [00:01&lt;00:00, 4050540.67it/s]"
     }
    },
    "615097d78a2040928380e7c171bb978b": {
     "model_module": "@jupyter-widgets/controls",
     "model_module_version": "1.5.0",
     "model_name": "HBoxModel",
     "state": {
      "_dom_classes": [],
      "_model_module": "@jupyter-widgets/controls",
      "_model_module_version": "1.5.0",
      "_model_name": "HBoxModel",
      "_view_count": null,
      "_view_module": "@jupyter-widgets/controls",
      "_view_module_version": "1.5.0",
      "_view_name": "HBoxView",
      "box_style": "",
      "children": [
       "IPY_MODEL_966f4b998337470596aa45295642b0ab",
       "IPY_MODEL_3f7f9fd646f44a9baafb656f04826a19",
       "IPY_MODEL_454e749c5153444a91283ef6e9d62d38"
      ],
      "layout": "IPY_MODEL_db20d32173424277939f262db136c526"
     }
    },
    "67c345183abe4160b5f9c7211eb05935": {
     "model_module": "@jupyter-widgets/controls",
     "model_module_version": "1.5.0",
     "model_name": "HBoxModel",
     "state": {
      "_dom_classes": [],
      "_model_module": "@jupyter-widgets/controls",
      "_model_module_version": "1.5.0",
      "_model_name": "HBoxModel",
      "_view_count": null,
      "_view_module": "@jupyter-widgets/controls",
      "_view_module_version": "1.5.0",
      "_view_name": "HBoxView",
      "box_style": "",
      "children": [
       "IPY_MODEL_a16f0032afe841e591d629e92791db70",
       "IPY_MODEL_6e597e539fa84ccc9a09063a87eb7c0f",
       "IPY_MODEL_1707b4c325714a1388b5f9863a0e4e2e"
      ],
      "layout": "IPY_MODEL_40ad30f140e84d678464a886ca1d4d78"
     }
    },
    "6df629af01134a3da8e85250d506e5f0": {
     "model_module": "@jupyter-widgets/base",
     "model_module_version": "1.2.0",
     "model_name": "LayoutModel",
     "state": {
      "_model_module": "@jupyter-widgets/base",
      "_model_module_version": "1.2.0",
      "_model_name": "LayoutModel",
      "_view_count": null,
      "_view_module": "@jupyter-widgets/base",
      "_view_module_version": "1.2.0",
      "_view_name": "LayoutView",
      "align_content": null,
      "align_items": null,
      "align_self": null,
      "border": null,
      "bottom": null,
      "display": null,
      "flex": null,
      "flex_flow": null,
      "grid_area": null,
      "grid_auto_columns": null,
      "grid_auto_flow": null,
      "grid_auto_rows": null,
      "grid_column": null,
      "grid_gap": null,
      "grid_row": null,
      "grid_template_areas": null,
      "grid_template_columns": null,
      "grid_template_rows": null,
      "height": null,
      "justify_content": null,
      "justify_items": null,
      "left": null,
      "margin": null,
      "max_height": null,
      "max_width": null,
      "min_height": null,
      "min_width": null,
      "object_fit": null,
      "object_position": null,
      "order": null,
      "overflow": null,
      "overflow_x": null,
      "overflow_y": null,
      "padding": null,
      "right": null,
      "top": null,
      "visibility": null,
      "width": null
     }
    },
    "6e597e539fa84ccc9a09063a87eb7c0f": {
     "model_module": "@jupyter-widgets/controls",
     "model_module_version": "1.5.0",
     "model_name": "FloatProgressModel",
     "state": {
      "_dom_classes": [],
      "_model_module": "@jupyter-widgets/controls",
      "_model_module_version": "1.5.0",
      "_model_name": "FloatProgressModel",
      "_view_count": null,
      "_view_module": "@jupyter-widgets/controls",
      "_view_module_version": "1.5.0",
      "_view_name": "ProgressView",
      "bar_style": "success",
      "description": "",
      "description_tooltip": null,
      "layout": "IPY_MODEL_888ff945634647479c010f45dd853921",
      "max": 29515,
      "min": 0,
      "orientation": "horizontal",
      "style": "IPY_MODEL_e30ebb37a5fe4fd7bfa93b93656c332a",
      "value": 29515
     }
    },
    "798ce7f775a64a2cb5f784feff3aa516": {
     "model_module": "@jupyter-widgets/controls",
     "model_module_version": "1.5.0",
     "model_name": "FloatProgressModel",
     "state": {
      "_dom_classes": [],
      "_model_module": "@jupyter-widgets/controls",
      "_model_module_version": "1.5.0",
      "_model_name": "FloatProgressModel",
      "_view_count": null,
      "_view_module": "@jupyter-widgets/controls",
      "_view_module_version": "1.5.0",
      "_view_name": "ProgressView",
      "bar_style": "success",
      "description": "",
      "description_tooltip": null,
      "layout": "IPY_MODEL_7c3e7accb1114eee946af1200a6b7caf",
      "max": 5148,
      "min": 0,
      "orientation": "horizontal",
      "style": "IPY_MODEL_0102129709034bdb8e85ea61a7961293",
      "value": 5148
     }
    },
    "7c3e7accb1114eee946af1200a6b7caf": {
     "model_module": "@jupyter-widgets/base",
     "model_module_version": "1.2.0",
     "model_name": "LayoutModel",
     "state": {
      "_model_module": "@jupyter-widgets/base",
      "_model_module_version": "1.2.0",
      "_model_name": "LayoutModel",
      "_view_count": null,
      "_view_module": "@jupyter-widgets/base",
      "_view_module_version": "1.2.0",
      "_view_name": "LayoutView",
      "align_content": null,
      "align_items": null,
      "align_self": null,
      "border": null,
      "bottom": null,
      "display": null,
      "flex": null,
      "flex_flow": null,
      "grid_area": null,
      "grid_auto_columns": null,
      "grid_auto_flow": null,
      "grid_auto_rows": null,
      "grid_column": null,
      "grid_gap": null,
      "grid_row": null,
      "grid_template_areas": null,
      "grid_template_columns": null,
      "grid_template_rows": null,
      "height": null,
      "justify_content": null,
      "justify_items": null,
      "left": null,
      "margin": null,
      "max_height": null,
      "max_width": null,
      "min_height": null,
      "min_width": null,
      "object_fit": null,
      "object_position": null,
      "order": null,
      "overflow": null,
      "overflow_x": null,
      "overflow_y": null,
      "padding": null,
      "right": null,
      "top": null,
      "visibility": null,
      "width": null
     }
    },
    "888ff945634647479c010f45dd853921": {
     "model_module": "@jupyter-widgets/base",
     "model_module_version": "1.2.0",
     "model_name": "LayoutModel",
     "state": {
      "_model_module": "@jupyter-widgets/base",
      "_model_module_version": "1.2.0",
      "_model_name": "LayoutModel",
      "_view_count": null,
      "_view_module": "@jupyter-widgets/base",
      "_view_module_version": "1.2.0",
      "_view_name": "LayoutView",
      "align_content": null,
      "align_items": null,
      "align_self": null,
      "border": null,
      "bottom": null,
      "display": null,
      "flex": null,
      "flex_flow": null,
      "grid_area": null,
      "grid_auto_columns": null,
      "grid_auto_flow": null,
      "grid_auto_rows": null,
      "grid_column": null,
      "grid_gap": null,
      "grid_row": null,
      "grid_template_areas": null,
      "grid_template_columns": null,
      "grid_template_rows": null,
      "height": null,
      "justify_content": null,
      "justify_items": null,
      "left": null,
      "margin": null,
      "max_height": null,
      "max_width": null,
      "min_height": null,
      "min_width": null,
      "object_fit": null,
      "object_position": null,
      "order": null,
      "overflow": null,
      "overflow_x": null,
      "overflow_y": null,
      "padding": null,
      "right": null,
      "top": null,
      "visibility": null,
      "width": null
     }
    },
    "923cbcd80b334a78857b4cf6dedbad51": {
     "model_module": "@jupyter-widgets/controls",
     "model_module_version": "1.5.0",
     "model_name": "DescriptionStyleModel",
     "state": {
      "_model_module": "@jupyter-widgets/controls",
      "_model_module_version": "1.5.0",
      "_model_name": "DescriptionStyleModel",
      "_view_count": null,
      "_view_module": "@jupyter-widgets/base",
      "_view_module_version": "1.2.0",
      "_view_name": "StyleView",
      "description_width": ""
     }
    },
    "966f4b998337470596aa45295642b0ab": {
     "model_module": "@jupyter-widgets/controls",
     "model_module_version": "1.5.0",
     "model_name": "HTMLModel",
     "state": {
      "_dom_classes": [],
      "_model_module": "@jupyter-widgets/controls",
      "_model_module_version": "1.5.0",
      "_model_name": "HTMLModel",
      "_view_count": null,
      "_view_module": "@jupyter-widgets/controls",
      "_view_module_version": "1.5.0",
      "_view_name": "HTMLView",
      "description": "",
      "description_tooltip": null,
      "layout": "IPY_MODEL_c1bbc1d5f0c6439e95ef9382f4208c48",
      "placeholder": "​",
      "style": "IPY_MODEL_553fd6efd69b44d3aeb3cf5cc33980cb",
      "value": "100%"
     }
    },
    "9caca522675a4186989f803b522b9086": {
     "model_module": "@jupyter-widgets/base",
     "model_module_version": "1.2.0",
     "model_name": "LayoutModel",
     "state": {
      "_model_module": "@jupyter-widgets/base",
      "_model_module_version": "1.2.0",
      "_model_name": "LayoutModel",
      "_view_count": null,
      "_view_module": "@jupyter-widgets/base",
      "_view_module_version": "1.2.0",
      "_view_name": "LayoutView",
      "align_content": null,
      "align_items": null,
      "align_self": null,
      "border": null,
      "bottom": null,
      "display": null,
      "flex": null,
      "flex_flow": null,
      "grid_area": null,
      "grid_auto_columns": null,
      "grid_auto_flow": null,
      "grid_auto_rows": null,
      "grid_column": null,
      "grid_gap": null,
      "grid_row": null,
      "grid_template_areas": null,
      "grid_template_columns": null,
      "grid_template_rows": null,
      "height": null,
      "justify_content": null,
      "justify_items": null,
      "left": null,
      "margin": null,
      "max_height": null,
      "max_width": null,
      "min_height": null,
      "min_width": null,
      "object_fit": null,
      "object_position": null,
      "order": null,
      "overflow": null,
      "overflow_x": null,
      "overflow_y": null,
      "padding": null,
      "right": null,
      "top": null,
      "visibility": null,
      "width": null
     }
    },
    "a16f0032afe841e591d629e92791db70": {
     "model_module": "@jupyter-widgets/controls",
     "model_module_version": "1.5.0",
     "model_name": "HTMLModel",
     "state": {
      "_dom_classes": [],
      "_model_module": "@jupyter-widgets/controls",
      "_model_module_version": "1.5.0",
      "_model_name": "HTMLModel",
      "_view_count": null,
      "_view_module": "@jupyter-widgets/controls",
      "_view_module_version": "1.5.0",
      "_view_name": "HTMLView",
      "description": "",
      "description_tooltip": null,
      "layout": "IPY_MODEL_6df629af01134a3da8e85250d506e5f0",
      "placeholder": "​",
      "style": "IPY_MODEL_1eca25210eb74973b3ee6270cb288351",
      "value": "100%"
     }
    },
    "a2ed1121a18b4934b2e58a5220972df8": {
     "model_module": "@jupyter-widgets/base",
     "model_module_version": "1.2.0",
     "model_name": "LayoutModel",
     "state": {
      "_model_module": "@jupyter-widgets/base",
      "_model_module_version": "1.2.0",
      "_model_name": "LayoutModel",
      "_view_count": null,
      "_view_module": "@jupyter-widgets/base",
      "_view_module_version": "1.2.0",
      "_view_name": "LayoutView",
      "align_content": null,
      "align_items": null,
      "align_self": null,
      "border": null,
      "bottom": null,
      "display": null,
      "flex": null,
      "flex_flow": null,
      "grid_area": null,
      "grid_auto_columns": null,
      "grid_auto_flow": null,
      "grid_auto_rows": null,
      "grid_column": null,
      "grid_gap": null,
      "grid_row": null,
      "grid_template_areas": null,
      "grid_template_columns": null,
      "grid_template_rows": null,
      "height": null,
      "justify_content": null,
      "justify_items": null,
      "left": null,
      "margin": null,
      "max_height": null,
      "max_width": null,
      "min_height": null,
      "min_width": null,
      "object_fit": null,
      "object_position": null,
      "order": null,
      "overflow": null,
      "overflow_x": null,
      "overflow_y": null,
      "padding": null,
      "right": null,
      "top": null,
      "visibility": null,
      "width": null
     }
    },
    "aa66b24600924e47b3771672256b8a16": {
     "model_module": "@jupyter-widgets/controls",
     "model_module_version": "1.5.0",
     "model_name": "DescriptionStyleModel",
     "state": {
      "_model_module": "@jupyter-widgets/controls",
      "_model_module_version": "1.5.0",
      "_model_name": "DescriptionStyleModel",
      "_view_count": null,
      "_view_module": "@jupyter-widgets/base",
      "_view_module_version": "1.2.0",
      "_view_name": "StyleView",
      "description_width": ""
     }
    },
    "b5ca78ceb6eb4db6b879d59b655f6d43": {
     "model_module": "@jupyter-widgets/controls",
     "model_module_version": "1.5.0",
     "model_name": "DescriptionStyleModel",
     "state": {
      "_model_module": "@jupyter-widgets/controls",
      "_model_module_version": "1.5.0",
      "_model_name": "DescriptionStyleModel",
      "_view_count": null,
      "_view_module": "@jupyter-widgets/base",
      "_view_module_version": "1.2.0",
      "_view_name": "StyleView",
      "description_width": ""
     }
    },
    "c07ac2aa349a40368a8aa7a8abc02928": {
     "model_module": "@jupyter-widgets/controls",
     "model_module_version": "1.5.0",
     "model_name": "DescriptionStyleModel",
     "state": {
      "_model_module": "@jupyter-widgets/controls",
      "_model_module_version": "1.5.0",
      "_model_name": "DescriptionStyleModel",
      "_view_count": null,
      "_view_module": "@jupyter-widgets/base",
      "_view_module_version": "1.2.0",
      "_view_name": "StyleView",
      "description_width": ""
     }
    },
    "c1bbc1d5f0c6439e95ef9382f4208c48": {
     "model_module": "@jupyter-widgets/base",
     "model_module_version": "1.2.0",
     "model_name": "LayoutModel",
     "state": {
      "_model_module": "@jupyter-widgets/base",
      "_model_module_version": "1.2.0",
      "_model_name": "LayoutModel",
      "_view_count": null,
      "_view_module": "@jupyter-widgets/base",
      "_view_module_version": "1.2.0",
      "_view_name": "LayoutView",
      "align_content": null,
      "align_items": null,
      "align_self": null,
      "border": null,
      "bottom": null,
      "display": null,
      "flex": null,
      "flex_flow": null,
      "grid_area": null,
      "grid_auto_columns": null,
      "grid_auto_flow": null,
      "grid_auto_rows": null,
      "grid_column": null,
      "grid_gap": null,
      "grid_row": null,
      "grid_template_areas": null,
      "grid_template_columns": null,
      "grid_template_rows": null,
      "height": null,
      "justify_content": null,
      "justify_items": null,
      "left": null,
      "margin": null,
      "max_height": null,
      "max_width": null,
      "min_height": null,
      "min_width": null,
      "object_fit": null,
      "object_position": null,
      "order": null,
      "overflow": null,
      "overflow_x": null,
      "overflow_y": null,
      "padding": null,
      "right": null,
      "top": null,
      "visibility": null,
      "width": null
     }
    },
    "c823dafa387741ee907356295a1ea78d": {
     "model_module": "@jupyter-widgets/controls",
     "model_module_version": "1.5.0",
     "model_name": "HTMLModel",
     "state": {
      "_dom_classes": [],
      "_model_module": "@jupyter-widgets/controls",
      "_model_module_version": "1.5.0",
      "_model_name": "HTMLModel",
      "_view_count": null,
      "_view_module": "@jupyter-widgets/controls",
      "_view_module_version": "1.5.0",
      "_view_name": "HTMLView",
      "description": "",
      "description_tooltip": null,
      "layout": "IPY_MODEL_d7c4f7c5bbb64218bda95f63bfee8c89",
      "placeholder": "​",
      "style": "IPY_MODEL_aa66b24600924e47b3771672256b8a16",
      "value": "100%"
     }
    },
    "cedfd655e1604135ac3a2b3a48b9f0d9": {
     "model_module": "@jupyter-widgets/controls",
     "model_module_version": "1.5.0",
     "model_name": "DescriptionStyleModel",
     "state": {
      "_model_module": "@jupyter-widgets/controls",
      "_model_module_version": "1.5.0",
      "_model_name": "DescriptionStyleModel",
      "_view_count": null,
      "_view_module": "@jupyter-widgets/base",
      "_view_module_version": "1.2.0",
      "_view_name": "StyleView",
      "description_width": ""
     }
    },
    "d1e6a702ac7f4814b6f84f6c775e82f0": {
     "model_module": "@jupyter-widgets/base",
     "model_module_version": "1.2.0",
     "model_name": "LayoutModel",
     "state": {
      "_model_module": "@jupyter-widgets/base",
      "_model_module_version": "1.2.0",
      "_model_name": "LayoutModel",
      "_view_count": null,
      "_view_module": "@jupyter-widgets/base",
      "_view_module_version": "1.2.0",
      "_view_name": "LayoutView",
      "align_content": null,
      "align_items": null,
      "align_self": null,
      "border": null,
      "bottom": null,
      "display": null,
      "flex": null,
      "flex_flow": null,
      "grid_area": null,
      "grid_auto_columns": null,
      "grid_auto_flow": null,
      "grid_auto_rows": null,
      "grid_column": null,
      "grid_gap": null,
      "grid_row": null,
      "grid_template_areas": null,
      "grid_template_columns": null,
      "grid_template_rows": null,
      "height": null,
      "justify_content": null,
      "justify_items": null,
      "left": null,
      "margin": null,
      "max_height": null,
      "max_width": null,
      "min_height": null,
      "min_width": null,
      "object_fit": null,
      "object_position": null,
      "order": null,
      "overflow": null,
      "overflow_x": null,
      "overflow_y": null,
      "padding": null,
      "right": null,
      "top": null,
      "visibility": null,
      "width": null
     }
    },
    "d7c4f7c5bbb64218bda95f63bfee8c89": {
     "model_module": "@jupyter-widgets/base",
     "model_module_version": "1.2.0",
     "model_name": "LayoutModel",
     "state": {
      "_model_module": "@jupyter-widgets/base",
      "_model_module_version": "1.2.0",
      "_model_name": "LayoutModel",
      "_view_count": null,
      "_view_module": "@jupyter-widgets/base",
      "_view_module_version": "1.2.0",
      "_view_name": "LayoutView",
      "align_content": null,
      "align_items": null,
      "align_self": null,
      "border": null,
      "bottom": null,
      "display": null,
      "flex": null,
      "flex_flow": null,
      "grid_area": null,
      "grid_auto_columns": null,
      "grid_auto_flow": null,
      "grid_auto_rows": null,
      "grid_column": null,
      "grid_gap": null,
      "grid_row": null,
      "grid_template_areas": null,
      "grid_template_columns": null,
      "grid_template_rows": null,
      "height": null,
      "justify_content": null,
      "justify_items": null,
      "left": null,
      "margin": null,
      "max_height": null,
      "max_width": null,
      "min_height": null,
      "min_width": null,
      "object_fit": null,
      "object_position": null,
      "order": null,
      "overflow": null,
      "overflow_x": null,
      "overflow_y": null,
      "padding": null,
      "right": null,
      "top": null,
      "visibility": null,
      "width": null
     }
    },
    "da5c90fc1f784663bca5fa2b3f6c5633": {
     "model_module": "@jupyter-widgets/base",
     "model_module_version": "1.2.0",
     "model_name": "LayoutModel",
     "state": {
      "_model_module": "@jupyter-widgets/base",
      "_model_module_version": "1.2.0",
      "_model_name": "LayoutModel",
      "_view_count": null,
      "_view_module": "@jupyter-widgets/base",
      "_view_module_version": "1.2.0",
      "_view_name": "LayoutView",
      "align_content": null,
      "align_items": null,
      "align_self": null,
      "border": null,
      "bottom": null,
      "display": null,
      "flex": null,
      "flex_flow": null,
      "grid_area": null,
      "grid_auto_columns": null,
      "grid_auto_flow": null,
      "grid_auto_rows": null,
      "grid_column": null,
      "grid_gap": null,
      "grid_row": null,
      "grid_template_areas": null,
      "grid_template_columns": null,
      "grid_template_rows": null,
      "height": null,
      "justify_content": null,
      "justify_items": null,
      "left": null,
      "margin": null,
      "max_height": null,
      "max_width": null,
      "min_height": null,
      "min_width": null,
      "object_fit": null,
      "object_position": null,
      "order": null,
      "overflow": null,
      "overflow_x": null,
      "overflow_y": null,
      "padding": null,
      "right": null,
      "top": null,
      "visibility": null,
      "width": null
     }
    },
    "db20d32173424277939f262db136c526": {
     "model_module": "@jupyter-widgets/base",
     "model_module_version": "1.2.0",
     "model_name": "LayoutModel",
     "state": {
      "_model_module": "@jupyter-widgets/base",
      "_model_module_version": "1.2.0",
      "_model_name": "LayoutModel",
      "_view_count": null,
      "_view_module": "@jupyter-widgets/base",
      "_view_module_version": "1.2.0",
      "_view_name": "LayoutView",
      "align_content": null,
      "align_items": null,
      "align_self": null,
      "border": null,
      "bottom": null,
      "display": null,
      "flex": null,
      "flex_flow": null,
      "grid_area": null,
      "grid_auto_columns": null,
      "grid_auto_flow": null,
      "grid_auto_rows": null,
      "grid_column": null,
      "grid_gap": null,
      "grid_row": null,
      "grid_template_areas": null,
      "grid_template_columns": null,
      "grid_template_rows": null,
      "height": null,
      "justify_content": null,
      "justify_items": null,
      "left": null,
      "margin": null,
      "max_height": null,
      "max_width": null,
      "min_height": null,
      "min_width": null,
      "object_fit": null,
      "object_position": null,
      "order": null,
      "overflow": null,
      "overflow_x": null,
      "overflow_y": null,
      "padding": null,
      "right": null,
      "top": null,
      "visibility": null,
      "width": null
     }
    },
    "e30ebb37a5fe4fd7bfa93b93656c332a": {
     "model_module": "@jupyter-widgets/controls",
     "model_module_version": "1.5.0",
     "model_name": "ProgressStyleModel",
     "state": {
      "_model_module": "@jupyter-widgets/controls",
      "_model_module_version": "1.5.0",
      "_model_name": "ProgressStyleModel",
      "_view_count": null,
      "_view_module": "@jupyter-widgets/base",
      "_view_module_version": "1.2.0",
      "_view_name": "StyleView",
      "bar_color": null,
      "description_width": ""
     }
    },
    "ebd68fccb5c64eb1bd26da0ffb223d37": {
     "model_module": "@jupyter-widgets/controls",
     "model_module_version": "1.5.0",
     "model_name": "HTMLModel",
     "state": {
      "_dom_classes": [],
      "_model_module": "@jupyter-widgets/controls",
      "_model_module_version": "1.5.0",
      "_model_name": "HTMLModel",
      "_view_count": null,
      "_view_module": "@jupyter-widgets/controls",
      "_view_module_version": "1.5.0",
      "_view_name": "HTMLView",
      "description": "",
      "description_tooltip": null,
      "layout": "IPY_MODEL_3a311447a7b8495887743a19467150d5",
      "placeholder": "​",
      "style": "IPY_MODEL_923cbcd80b334a78857b4cf6dedbad51",
      "value": " 5148/5148 [00:00&lt;00:00, 82023.19it/s]"
     }
    },
    "f8b62f8a9acb4e7eac2ebe93f2b1cc07": {
     "model_module": "@jupyter-widgets/controls",
     "model_module_version": "1.5.0",
     "model_name": "FloatProgressModel",
     "state": {
      "_dom_classes": [],
      "_model_module": "@jupyter-widgets/controls",
      "_model_module_version": "1.5.0",
      "_model_name": "FloatProgressModel",
      "_view_count": null,
      "_view_module": "@jupyter-widgets/controls",
      "_view_module_version": "1.5.0",
      "_view_name": "ProgressView",
      "bar_style": "success",
      "description": "",
      "description_tooltip": null,
      "layout": "IPY_MODEL_a2ed1121a18b4934b2e58a5220972df8",
      "max": 4422102,
      "min": 0,
      "orientation": "horizontal",
      "style": "IPY_MODEL_4c710df4535745f3a2e06b7306616f11",
      "value": 4422102
     }
    }
   }
  }
 },
 "nbformat": 4,
 "nbformat_minor": 5
}
